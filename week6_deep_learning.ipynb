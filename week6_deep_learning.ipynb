{
 "cells": [
  {
   "cell_type": "code",
   "execution_count": null,
   "metadata": {},
   "outputs": [],
   "source": [
    "import numpy as np\n",
    "import matplotlib.pyplot as plt\n",
    "\n",
    "class NeuralNetwork:\n",
    "    def __init__(self, input_neurons, hidden_neurons, output_neurons, learning_rate):\n",
    "        # Initialize weights and biases\n",
    "        self.w1 = np.random.randn(input_neurons, hidden_neurons)\n",
    "        self.b1 = np.random.randn(hidden_neurons)\n",
    "        self.w2 = np.random.randn(hidden_neurons, ouput_neurons)\n",
    "        self.b2 = np.random.randn(ouput_neurons)\n",
    "\n",
    "    def sigmoid(self, x):\n",
    "        return 1 / (1 + np.exp(-x))\n",
    "    \n",
    "    def sigmoid_derivative(self, x):\n",
    "        return x * (1 - x)\n",
    "    \n",
    "    def forward_pass(self, x):\n",
    "        self.z1 = np.dot(x, self.w1) + self.b1 # w1.x + b\n",
    "        self.a1 = self.sigmoid(self.z1) # Apply sigmoid activation function f(z) = sigmoid(z)\n",
    "        \n",
    "        self.z2 = np.dot(self.a1, self.w2) + self.b2\n",
    "        self.output = self.sigmoid(self.z2) # Apply sigmoid activation function\n",
    "\n",
    "        return self.output\n",
    "    \n",
    "    def compute_loss(self, y_pred, y_true):\n",
    "        return np.mean((y_pred - y_true) ** 2)\n",
    "    \n",
    "    def backpropagate(self, x, y_true, y_pred):\n",
    "        error_output = y_pred - y_true\n",
    "        d_output = error_output * self.sigmoid_derivative(y_pred)\n",
    "\n",
    "        error_hidden = d_output.dot(self.w2.T)\n",
    "        d_hidden = error_hidden * self.sigmoid_derivative(self.a1)\n",
    "\n",
    "        self.w2 = self.a1.T.dot(d_output) * self.learning_rate\n",
    "        self.b1 = np.sum(d_hidden, axis=0) * self.learning_rate\n",
    "\n",
    "        self.w1 = x.T.dot(d_hidden) * self.learning_rate\n",
    "        self.b1 = np.sum(d_hidden, axis=0) * self.learning_rate\n",
    "\n",
    "    def train(self, X, y, epochs=5000):\n",
    "        for epoch in range(epochs):\n",
    "            y_pred = self.forward_pass(X)\n",
    "\n",
    "            # compute loss\n",
    "            loss = self.compute_loss(y_pred, y)\n",
    "\n",
    "            # Backpropagation and weights update\n",
    "            self.backpropagate(X, y, y_pred)\n",
    "\n",
    "            if epoch % 1000 == 0:\n",
    "                print(self.w1, self.w2)\n",
    "                print(f\"Epoch {epoch}, Loss: {loss:.4f}\")\n",
    "\n",
    "    def predict(self, X):\n",
    "        return self.forward_pass(X)"
   ]
  },
  {
   "cell_type": "markdown",
   "metadata": {},
   "source": [
    "## Train model for predicting the house price by sq. feet"
   ]
  },
  {
   "cell_type": "code",
   "execution_count": 5,
   "metadata": {},
   "outputs": [
    {
     "ename": "TypeError",
     "evalue": "NeuralNetwork.__init__() got an unexpected keyword argument 'output_neurons'",
     "output_type": "error",
     "traceback": [
      "\u001b[0;31m---------------------------------------------------------------------------\u001b[0m",
      "\u001b[0;31mTypeError\u001b[0m                                 Traceback (most recent call last)",
      "Cell \u001b[0;32mIn[5], line 6\u001b[0m\n\u001b[1;32m      3\u001b[0m X \u001b[38;5;241m=\u001b[39m np\u001b[38;5;241m.\u001b[39marray([[\u001b[38;5;241m500\u001b[39m], [\u001b[38;5;241m1000\u001b[39m], [\u001b[38;5;241m1500\u001b[39m], [\u001b[38;5;241m2000\u001b[39m], [\u001b[38;5;241m2500\u001b[39m], [\u001b[38;5;241m3000\u001b[39m]])\n\u001b[1;32m      4\u001b[0m y \u001b[38;5;241m=\u001b[39m X \u001b[38;5;241m*\u001b[39m \u001b[38;5;241m150\u001b[39m \u001b[38;5;241m+\u001b[39m (np\u001b[38;5;241m.\u001b[39mrandom\u001b[38;5;241m.\u001b[39mrandn(\u001b[38;5;241m*\u001b[39mX\u001b[38;5;241m.\u001b[39mshape) \u001b[38;5;241m*\u001b[39m \u001b[38;5;241m10000\u001b[39m) \u001b[38;5;66;03m# Random Noise\u001b[39;00m\n\u001b[0;32m----> 6\u001b[0m nn \u001b[38;5;241m=\u001b[39m \u001b[43mNeuralNetwork\u001b[49m\u001b[43m(\u001b[49m\u001b[43minput_neurons\u001b[49m\u001b[38;5;241;43m=\u001b[39;49m\u001b[38;5;241;43m1\u001b[39;49m\u001b[43m,\u001b[49m\u001b[43m \u001b[49m\u001b[43mhidden_neurons\u001b[49m\u001b[38;5;241;43m=\u001b[39;49m\u001b[38;5;241;43m1\u001b[39;49m\u001b[43m,\u001b[49m\u001b[43m \u001b[49m\u001b[43moutput_neurons\u001b[49m\u001b[38;5;241;43m=\u001b[39;49m\u001b[38;5;241;43m1\u001b[39;49m\u001b[43m,\u001b[49m\u001b[43m \u001b[49m\u001b[43mlearning_rate\u001b[49m\u001b[38;5;241;43m=\u001b[39;49m\u001b[38;5;241;43m0.01\u001b[39;49m\u001b[43m)\u001b[49m\n\u001b[1;32m      7\u001b[0m nn\u001b[38;5;241m.\u001b[39mtrain(X, y, epochs \u001b[38;5;241m=\u001b[39m \u001b[38;5;241m50000\u001b[39m)\n\u001b[1;32m      9\u001b[0m predictions \u001b[38;5;241m=\u001b[39m nn\u001b[38;5;241m.\u001b[39mpredict(X)\n",
      "\u001b[0;31mTypeError\u001b[0m: NeuralNetwork.__init__() got an unexpected keyword argument 'output_neurons'"
     ]
    }
   ],
   "source": [
    "# Create some synthetic data for house sizes and corresponding prices\n",
    "np.random.seed(42)\n",
    "X = np.array([[500], [1000], [1500], [2000], [2500], [3000]])\n",
    "y = X * 150 + (np.random.randn(*X.shape) * 10000) # Random Noise\n",
    "\n",
    "nn = NeuralNetwork(input_neurons=1, hidden_neurons=1, output_neurons=1, learning_rate=0.01)\n",
    "nn.train(X, y, epochs = 50000)\n",
    "\n",
    "predictions = nn.predict(X)\n",
    "\n",
    "# Plotting the data\n",
    "plt.scatter(X, y, color=\"red\", label=\"Actual Prices\")\n",
    "plt.plot(X, predictions, color='red', label='Predicted Prices')\n",
    "plt.xlabel('House Size (sq ft)')\n",
    "plt.ylabel('Price ($)')\n",
    "plt.title('House Prices Prediction using Neural Network')\n",
    "plt.legend()\n",
    "plt.show()"
   ]
  }
 ],
 "metadata": {
  "kernelspec": {
   "display_name": ".venv",
   "language": "python",
   "name": "python3"
  },
  "language_info": {
   "codemirror_mode": {
    "name": "ipython",
    "version": 3
   },
   "file_extension": ".py",
   "mimetype": "text/x-python",
   "name": "python",
   "nbconvert_exporter": "python",
   "pygments_lexer": "ipython3",
   "version": "3.12.7"
  }
 },
 "nbformat": 4,
 "nbformat_minor": 2
}
