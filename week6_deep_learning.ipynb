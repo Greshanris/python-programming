{
 "cells": [
  {
   "cell_type": "code",
   "execution_count": 3,
   "metadata": {},
   "outputs": [],
   "source": [
    "import numpy as np\n",
    "import matplotlib.pyplot as plt\n",
    "\n",
    "class NeuralNetwork:\n",
    "    def __init__(self, input_neurons, hidden_neurons, output_neurons, learning_rate):\n",
    "        # Initialize weights and biases\n",
    "        self.w1 = np.random.randn(input_neurons, hidden_neurons)\n",
    "        self.b1 = np.random.randn(hidden_neurons)\n",
    "        self.w2 = np.random.randn(hidden_neurons, output_neurons)\n",
    "        self.b2 = np.random.randn(output_neurons)\n",
    "        self.learning_rate = learning_rate\n",
    "\n",
    "    def sigmoid(self, x):\n",
    "        return 1 / (1 + np.exp(-x))\n",
    "    \n",
    "    def sigmoid_derivative(self, x):\n",
    "        return x * (1 - x)\n",
    "    \n",
    "    def forward_pass(self, x):\n",
    "        self.z1 = np.dot(x, self.w1) + self.b1 # w1.x + b1\n",
    "        self.a1 = self.sigmoid(self.z1) # Apply sigmoid activation function f(z) = sigmoid(z)\n",
    "        \n",
    "        self.z2 = np.dot(self.a1, self.w2) + self.b2 # sigmoid(z1).w2 + b2\n",
    "        self.output = self.sigmoid(self.z2) # Apply sigmoid activation function\n",
    "\n",
    "        return self.output\n",
    "    \n",
    "    def compute_loss(self, y_pred, y_true):\n",
    "        return np.mean((y_pred - y_true) ** 2)\n",
    "\n",
    "    def backpropagate(self, x, y_true, y_pred):\n",
    "        error_output = y_pred - y_true\n",
    "        d_output = error_output * self.sigmoid_derivative(y_pred)\n",
    "\n",
    "        error_hidden = d_output.dot(self.w2.T)\n",
    "        d_hidden = error_hidden * self.sigmoid_derivative(self.a1)\n",
    "\n",
    "        self.w2 = self.a1.T.dot(d_output) * self.learning_rate\n",
    "        self.b1 = np.sum(d_hidden, axis=0) * self.learning_rate\n",
    "\n",
    "        self.w1 = x.T.dot(d_hidden) * self.learning_rate\n",
    "        self.b1 = np.sum(d_hidden, axis=0) * self.learning_rate\n",
    "\n",
    "    def train(self, X, y, epochs=5000):\n",
    "        for epoch in range(epochs):\n",
    "            y_pred = self.forward_pass(X)\n",
    "\n",
    "            # compute loss\n",
    "            loss = self.compute_loss(y_pred, y)\n",
    "\n",
    "            # Backpropagation and weights update\n",
    "            self.backpropagate(X, y, y_pred)\n",
    "\n",
    "            if epoch % 1000 == 0:\n",
    "                print(self.w1, self.w2)\n",
    "                print(f\"Epoch {epoch}, Loss: {loss:.4f}\")\n",
    "\n",
    "    def predict(self, X):\n",
    "        return self.forward_pass(X)"
   ]
  },
  {
   "cell_type": "markdown",
   "metadata": {},
   "source": [
    "## Train model for predicting the house price by sq. feet"
   ]
  },
  {
   "cell_type": "code",
   "execution_count": 4,
   "metadata": {},
   "outputs": [
    {
     "name": "stdout",
     "output_type": "stream",
     "text": [
      "[[0.]] [[-3983.69206945]]\n",
      "Epoch 0, Loss: 86784080016.7783\n",
      "[[0.]] [[-1854.63700014]]\n",
      "Epoch 1000, Loss: 86784019306.9409\n",
      "[[0.]] [[-1854.63700014]]\n",
      "Epoch 2000, Loss: 86784019306.9409\n",
      "[[0.]] [[-1854.63700014]]\n",
      "Epoch 3000, Loss: 86784019306.9409\n"
     ]
    },
    {
     "name": "stderr",
     "output_type": "stream",
     "text": [
      "/tmp/ipykernel_37644/2748672155.py:14: RuntimeWarning: overflow encountered in exp\n",
      "  return 1 / (1 + np.exp(-x))\n"
     ]
    },
    {
     "name": "stdout",
     "output_type": "stream",
     "text": [
      "[[0.]] [[-1854.63700014]]\n",
      "Epoch 4000, Loss: 86784019306.9409\n",
      "[[0.]] [[-1854.63700014]]\n",
      "Epoch 5000, Loss: 86784019306.9409\n",
      "[[0.]] [[-1854.63700014]]\n",
      "Epoch 6000, Loss: 86784019306.9409\n",
      "[[0.]] [[-1854.63700014]]\n",
      "Epoch 7000, Loss: 86784019306.9409\n",
      "[[0.]] [[-1854.63700014]]\n",
      "Epoch 8000, Loss: 86784019306.9409\n",
      "[[0.]] [[-1854.63700014]]\n",
      "Epoch 9000, Loss: 86784019306.9409\n",
      "[[0.]] [[-1854.63700014]]\n",
      "Epoch 10000, Loss: 86784019306.9409\n",
      "[[0.]] [[-1854.63700014]]\n",
      "Epoch 11000, Loss: 86784019306.9409\n",
      "[[0.]] [[-1854.63700014]]\n",
      "Epoch 12000, Loss: 86784019306.9409\n",
      "[[0.]] [[-1854.63700014]]\n",
      "Epoch 13000, Loss: 86784019306.9409\n",
      "[[0.]] [[-1854.63700014]]\n",
      "Epoch 14000, Loss: 86784019306.9409\n",
      "[[0.]] [[-1854.63700014]]\n",
      "Epoch 15000, Loss: 86784019306.9409\n",
      "[[0.]] [[-1854.63700014]]\n",
      "Epoch 16000, Loss: 86784019306.9409\n",
      "[[0.]] [[-1854.63700014]]\n",
      "Epoch 17000, Loss: 86784019306.9409\n",
      "[[0.]] [[-1854.63700014]]\n",
      "Epoch 18000, Loss: 86784019306.9409\n",
      "[[0.]] [[-1854.63700014]]\n",
      "Epoch 19000, Loss: 86784019306.9409\n",
      "[[0.]] [[-1854.63700014]]\n",
      "Epoch 20000, Loss: 86784019306.9409\n",
      "[[0.]] [[-1854.63700014]]\n",
      "Epoch 21000, Loss: 86784019306.9409\n",
      "[[0.]] [[-1854.63700014]]\n",
      "Epoch 22000, Loss: 86784019306.9409\n",
      "[[0.]] [[-1854.63700014]]\n",
      "Epoch 23000, Loss: 86784019306.9409\n",
      "[[0.]] [[-1854.63700014]]\n",
      "Epoch 24000, Loss: 86784019306.9409\n",
      "[[0.]] [[-1854.63700014]]\n",
      "Epoch 25000, Loss: 86784019306.9409\n",
      "[[0.]] [[-1854.63700014]]\n",
      "Epoch 26000, Loss: 86784019306.9409\n",
      "[[0.]] [[-1854.63700014]]\n",
      "Epoch 27000, Loss: 86784019306.9409\n",
      "[[0.]] [[-1854.63700014]]\n",
      "Epoch 28000, Loss: 86784019306.9409\n",
      "[[0.]] [[-1854.63700014]]\n",
      "Epoch 29000, Loss: 86784019306.9409\n",
      "[[0.]] [[-1854.63700014]]\n",
      "Epoch 30000, Loss: 86784019306.9409\n",
      "[[0.]] [[-1854.63700014]]\n",
      "Epoch 31000, Loss: 86784019306.9409\n",
      "[[0.]] [[-1854.63700014]]\n",
      "Epoch 32000, Loss: 86784019306.9409\n",
      "[[0.]] [[-1854.63700014]]\n",
      "Epoch 33000, Loss: 86784019306.9409\n",
      "[[0.]] [[-1854.63700014]]\n",
      "Epoch 34000, Loss: 86784019306.9409\n",
      "[[0.]] [[-1854.63700014]]\n",
      "Epoch 35000, Loss: 86784019306.9409\n",
      "[[0.]] [[-1854.63700014]]\n",
      "Epoch 36000, Loss: 86784019306.9409\n",
      "[[0.]] [[-1854.63700014]]\n",
      "Epoch 37000, Loss: 86784019306.9409\n",
      "[[0.]] [[-1854.63700014]]\n",
      "Epoch 38000, Loss: 86784019306.9409\n",
      "[[0.]] [[-1854.63700014]]\n",
      "Epoch 39000, Loss: 86784019306.9409\n",
      "[[0.]] [[-1854.63700014]]\n",
      "Epoch 40000, Loss: 86784019306.9409\n",
      "[[0.]] [[-1854.63700014]]\n",
      "Epoch 41000, Loss: 86784019306.9409\n",
      "[[0.]] [[-1854.63700014]]\n",
      "Epoch 42000, Loss: 86784019306.9409\n",
      "[[0.]] [[-1854.63700014]]\n",
      "Epoch 43000, Loss: 86784019306.9409\n",
      "[[0.]] [[-1854.63700014]]\n",
      "Epoch 44000, Loss: 86784019306.9409\n",
      "[[0.]] [[-1854.63700014]]\n",
      "Epoch 45000, Loss: 86784019306.9409\n",
      "[[0.]] [[-1854.63700014]]\n",
      "Epoch 46000, Loss: 86784019306.9409\n",
      "[[0.]] [[-1854.63700014]]\n",
      "Epoch 47000, Loss: 86784019306.9409\n",
      "[[0.]] [[-1854.63700014]]\n",
      "Epoch 48000, Loss: 86784019306.9409\n",
      "[[0.]] [[-1854.63700014]]\n",
      "Epoch 49000, Loss: 86784019306.9409\n"
     ]
    },
    {
     "data": {
      "image/png": "[encoded data removed]",
      "text/plain": [
       "<Figure size 640x480 with 1 Axes>"
      ]
     },
     "metadata": {},
     "output_type": "display_data"
    }
   ],
   "source": [
    "# Create some synthetic data for house sizes and corresponding prices\n",
    "np.random.seed(42)\n",
    "X = np.array([[500], [1000], [1500], [2000], [2500], [3000]])\n",
    "y = X * 150 + (np.random.randn(*X.shape) * 10000) # Random Noise\n",
    "\n",
    "nn = NeuralNetwork(input_neurons=1, hidden_neurons=1, output_neurons=1, learning_rate=0.01)\n",
    "nn.train(X, y, epochs = 50000)\n",
    "\n",
    "predictions = nn.predict(X)\n",
    "\n",
    "# Plotting the data\n",
    "plt.scatter(X, y, color=\"blue\", label=\"Actual Prices\") # Actual prices\n",
    "plt.plot(X, predictions, color='red', label='Predicted Prices') # Predicted prices\n",
    "plt.xlabel('House Size (sq ft)')\n",
    "plt.ylabel('Price ($)')\n",
    "plt.title('House Prices Prediction using Neural Network')\n",
    "plt.legend()\n",
    "plt.show()"
   ]
  },
  {
   "cell_type": "markdown",
   "metadata": {},
   "source": [
    "### Using Tensorflow"
   ]
  },
  {
   "cell_type": "code",
   "execution_count": 5,
   "metadata": {},
   "outputs": [
    {
     "name": "stderr",
     "output_type": "stream",
     "text": [
      "2024-12-01 11:34:19.382049: I external/local_xla/xla/tsl/cuda/cudart_stub.cc:32] Could not find cuda drivers on your machine, GPU will not be used.\n",
      "2024-12-01 11:34:20.540050: I external/local_xla/xla/tsl/cuda/cudart_stub.cc:32] Could not find cuda drivers on your machine, GPU will not be used.\n",
      "2024-12-01 11:34:21.031701: E external/local_xla/xla/stream_executor/cuda/cuda_fft.cc:477] Unable to register cuFFT factory: Attempting to register factory for plugin cuFFT when one has already been registered\n",
      "WARNING: All log messages before absl::InitializeLog() is called are written to STDERR\n",
      "E0000 00:00:1733032161.548393   37644 cuda_dnn.cc:8310] Unable to register cuDNN factory: Attempting to register factory for plugin cuDNN when one has already been registered\n",
      "E0000 00:00:1733032161.810233   37644 cuda_blas.cc:1418] Unable to register cuBLAS factory: Attempting to register factory for plugin cuBLAS when one has already been registered\n",
      "2024-12-01 11:34:23.244485: I tensorflow/core/platform/cpu_feature_guard.cc:210] This TensorFlow binary is optimized to use available CPU instructions in performance-critical operations.\n",
      "To enable the following instructions: AVX2 FMA, in other operations, rebuild TensorFlow with the appropriate compiler flags.\n",
      "/media/rishav-chaudhary/Rishav Volume/rishav_folder/Present_assignment/PRG_330PythonProgramming/assignment/python-programming/.venv/lib/python3.12/site-packages/keras/src/layers/reshaping/flatten.py:37: UserWarning: Do not pass an `input_shape`/`input_dim` argument to a layer. When using Sequential models, prefer using an `Input(shape)` object as the first layer in the model instead.\n",
      "  super().__init__(**kwargs)\n",
      "2024-12-01 11:34:39.978190: E external/local_xla/xla/stream_executor/cuda/cuda_driver.cc:152] failed call to cuInit: INTERNAL: CUDA error: Failed call to cuInit: UNKNOWN ERROR (303)\n"
     ]
    },
    {
     "name": "stdout",
     "output_type": "stream",
     "text": [
      "Epoch 1/5\n",
      "\u001b[1m1875/1875\u001b[0m \u001b[32m━━━━━━━━━━━━━━━━━━━━\u001b[0m\u001b[37m\u001b[0m \u001b[1m6s\u001b[0m 2ms/step - accuracy: 0.8949 - loss: 0.3455\n",
      "Epoch 2/5\n",
      "\u001b[1m1875/1875\u001b[0m \u001b[32m━━━━━━━━━━━━━━━━━━━━\u001b[0m\u001b[37m\u001b[0m \u001b[1m4s\u001b[0m 2ms/step - accuracy: 0.9549 - loss: 0.1606\n",
      "Epoch 3/5\n",
      "\u001b[1m1875/1875\u001b[0m \u001b[32m━━━━━━━━━━━━━━━━━━━━\u001b[0m\u001b[37m\u001b[0m \u001b[1m4s\u001b[0m 2ms/step - accuracy: 0.9618 - loss: 0.1388\n",
      "Epoch 4/5\n",
      "\u001b[1m1875/1875\u001b[0m \u001b[32m━━━━━━━━━━━━━━━━━━━━\u001b[0m\u001b[37m\u001b[0m \u001b[1m5s\u001b[0m 2ms/step - accuracy: 0.9658 - loss: 0.1245\n",
      "Epoch 5/5\n",
      "\u001b[1m1875/1875\u001b[0m \u001b[32m━━━━━━━━━━━━━━━━━━━━\u001b[0m\u001b[37m\u001b[0m \u001b[1m5s\u001b[0m 2ms/step - accuracy: 0.9668 - loss: 0.1195\n",
      "\u001b[1m313/313\u001b[0m \u001b[32m━━━━━━━━━━━━━━━━━━━━\u001b[0m\u001b[37m\u001b[0m \u001b[1m0s\u001b[0m 1ms/step - accuracy: 0.9536 - loss: 0.2238\n",
      "Test Accuracy: 0.9584000110626221\n",
      "\u001b[1m313/313\u001b[0m \u001b[32m━━━━━━━━━━━━━━━━━━━━\u001b[0m\u001b[37m\u001b[0m \u001b[1m0s\u001b[0m 1ms/step\n",
      "Prediction for first test image: 7\n"
     ]
    }
   ],
   "source": [
    "import tensorflow as tf\n",
    "from tensorflow.keras.models import Sequential\n",
    "from tensorflow.keras.layers import Dense, Flatten\n",
    "from tensorflow.keras.datasets import mnist\n",
    "from tensorflow.keras.optimizers import Adam\n",
    "from tensorflow.keras.callbacks import EarlyStopping\n",
    "import numpy as np\n",
    "\n",
    "# Loading mnist dataset\n",
    "# if there is 28 x 28 pixel picture, then altogether it will be 780 pixel\n",
    "# if 1 is written in this 28 x 28 pixel, if there is white part: 255, and blackpart: 0 (0-255)\n",
    "# Here, we will find the pattern, and match it\n",
    "(x_train, y_train), (x_test, y_test) = mnist.load_data()\n",
    "\n",
    "# Normalize data (scale pixel values to range 0-1)\n",
    "x_train = x_train / 255.0\n",
    "x_test = x_test / 255.0\n",
    "# Build the model\n",
    "model = Sequential([\n",
    "    Flatten(input_shape=(28, 28)),\n",
    "    Dense(128, activation=\"relu\"),\n",
    "    Dense(10, activation=\"softmax\")\n",
    "])\n",
    "\n",
    "# Set learning rate\n",
    "learning_rate = 0.01\n",
    "optimizer = Adam(learning_rate=learning_rate)\n",
    "model.compile(optimizer=optimizer,\n",
    "              loss=\"sparse_categorical_crossentropy\",\n",
    "              metrics=[\"accuracy\"],\n",
    "              )\n",
    "\n",
    "early_stopping = EarlyStopping(\n",
    "    monitor=\"val_loss\",\n",
    "    patience=3,\n",
    "    restore_best_weights=True\n",
    ")\n",
    "\n",
    "# Train the model\n",
    "model.fit(x_train, y_train, epochs=5, batch_size=32)\n",
    "\n",
    "test_loss, test_acc = model.evaluate(x_test, y_test)\n",
    "print(f\"Test Accuracy: {test_acc}\")\n",
    "\n",
    "predictions = model.predict(x_test)\n",
    "print(f\"Prediction for first test image: {np.argmax(predictions[0])}\")"
   ]
  },
  {
   "cell_type": "markdown",
   "metadata": {},
   "source": [
    "## Save model"
   ]
  },
  {
   "cell_type": "code",
   "execution_count": 4,
   "metadata": {},
   "outputs": [],
   "source": [
    "model.save(\"trained-data/handwritten-digit-model.keras\")"
   ]
  },
  {
   "cell_type": "markdown",
   "metadata": {},
   "source": [
    "## Loading Model"
   ]
  },
  {
   "cell_type": "code",
   "execution_count": null,
   "metadata": {},
   "outputs": [
    {
     "name": "stdout",
     "output_type": "stream",
     "text": [
      "\u001b[1m1/1\u001b[0m \u001b[32m━━━━━━━━━━━━━━━━━━━━\u001b[0m\u001b[37m\u001b[0m \u001b[1m0s\u001b[0m 37ms/step\n",
      "Image: 9, Predicted Digit: 7\n"
     ]
    }
   ],
   "source": [
    "from tensorflow.keras.models import load_model\n",
    "from PIL import Image\n",
    "import numpy as np\n",
    "import os\n",
    "\n",
    "# Load the trained model\n",
    "model = load_model(\"trained-data/handwritten-digit-model.keras\")\n",
    "\n",
    "def prepare_image(image_path):\n",
    "    img = Image.open(image_path).convert(\"L\") # Convert to grayscale\n",
    "    img = img.resize((28, 28)) # Resize to 28x 28\n",
    "    img_array = np.array(img) / 255.0\n",
    "    # This add a extra dimension to the array at position 0, making the shape to (1, 28, 28)\n",
    "    # The extra 1 indicates single image is being processed.\n",
    "    img_array = np.expand_dims(img_array, axis=0) # Add Batch dimensions\n",
    "    return img_array\n",
    "\n",
    "processed_image = prepare_image(\"images/nine.png\")\n",
    "\n",
    "prediction = model.predict(processed_image)\n",
    "predicted_digit = np.argmax(prediction)\n",
    "print(f\"Image: 9, Predicted Digit: {predicted_digit}\")"
   ]
  }
 ],
 "metadata": {
  "kernelspec": {
   "display_name": ".venv",
   "language": "python",
   "name": "python3"
  },
  "language_info": {
   "codemirror_mode": {
    "name": "ipython",
    "version": 3
   },
   "file_extension": ".py",
   "mimetype": "text/x-python",
   "name": "python",
   "nbconvert_exporter": "python",
   "pygments_lexer": "ipython3",
   "version": "3.12.3"
  }
 },
 "nbformat": 4,
 "nbformat_minor": 2
}
