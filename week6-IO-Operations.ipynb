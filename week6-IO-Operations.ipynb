{
 "cells": [
  {
   "cell_type": "markdown",
   "metadata": {},
   "source": [
    "# Week 6 Assignments\n",
    "\n",
    "Rishav Chaudhary\n",
    "\n",
    "Presidential Graduate School, Kathmandu, Nepal\n",
    "\n",
    "PRG 330: Python Programming for data\n",
    "\n",
    "Prof. Tek Raj Panta\n",
    "\n",
    "December 1, 2024"
   ]
  },
  {
   "cell_type": "markdown",
   "metadata": {},
   "source": [
    "# I/O Operations\n",
    "\n",
    "## Open a file from filesystems\n",
    "- filename: Name of the file with full path that we want to open\n",
    "- mode: Operations mode (r,w,x,a,b,+)\n",
    "- buffering: controls buffers\n",
    "\n",
    "### File Operations table\n",
    "- ``r`` : Read-only mode\n",
    "- ``w`` : Write mode: Creates/truncates the file\n",
    "- ``x`` : Exclusive  creation: Fails if the file exists\n",
    "- ``a`` : Append mode: Writes data at the end\n",
    "- ``b`` : Binary mode: used with ``rb``, ``wb``.\n",
    "- ``t`` : Text mode (Default)\n",
    "- ``+`` : Update mode (read and write)\n",
    "\n",
    "### Reading a text file and assign the content to a python variable"
   ]
  },
  {
   "cell_type": "code",
   "execution_count": 3,
   "metadata": {},
   "outputs": [
    {
     "name": "stdout",
     "output_type": "stream",
     "text": [
      "1. The sun dipped below the horizon, casting a golden glow across the sky. Birds fluttered about, returning to their nests as the world began to settle into twilight. It was a moment of calm before the night would fully take over.\n",
      "2. In the heart of the bustling city, people rushed from one place to another, each focused on their own tasks. Some carried briefcases, while others clutched shopping bags filled with the day's purchases. Despite the crowd, each person was immersed in their own thoughts, unaware of the lives they passed.\n",
      "3. Sometimes, life seems like a series of fleeting moments, each one moving too quickly to fully grasp. Yet, within these moments, there are stories waiting to be discovered. A quiet conversation over coffee, a friendly smile exchanged on the street, or the simple act of pausing to watch a sunset – these moments hold a beauty of their own.\n",
      "4. It is easy to get caught up in the rush, but there is value in taking the time to appreciate the little things. Slowing down, if only for a moment, can make all the difference. It’s in these pauses that we find clarity, peace, and the reminder that life is happening right now.\n",
      "\n"
     ]
    }
   ],
   "source": [
    "with open(\"data/test.txt\", \"r\") as text_file:\n",
    "    text_content = text_file.read()\n",
    "\n",
    "print(text_content)"
   ]
  },
  {
   "cell_type": "markdown",
   "metadata": {},
   "source": [
    "### Read Text file Line By Line"
   ]
  },
  {
   "cell_type": "code",
   "execution_count": 7,
   "metadata": {},
   "outputs": [
    {
     "name": "stdout",
     "output_type": "stream",
     "text": [
      "Reading text content line by line using nextline() and while loop\n",
      "\n",
      "1. The sun dipped below the horizon, casting a golden glow across the sky. Birds fluttered about, returning to their nests as the world began to settle into twilight. It was a moment of calm before the night would fully take over.\n",
      "2. In the heart of the bustling city, people rushed from one place to another, each focused on their own tasks. Some carried briefcases, while others clutched shopping bags filled with the day's purchases. Despite the crowd, each person was immersed in their own thoughts, unaware of the lives they passed.\n",
      "3. Sometimes, life seems like a series of fleeting moments, each one moving too quickly to fully grasp. Yet, within these moments, there are stories waiting to be discovered. A quiet conversation over coffee, a friendly smile exchanged on the street, or the simple act of pausing to watch a sunset – these moments hold a beauty of their own.\n",
      "4. It is easy to get caught up in the rush, but there is value in taking the time to appreciate the little things. Slowing down, if only for a moment, can make all the difference. It’s in these pauses that we find clarity, peace, and the reminder that life is happening right now.\n",
      "\n",
      "Using for loop: \n",
      "\n",
      "1. The sun dipped below the horizon, casting a golden glow across the sky. Birds fluttered about, returning to their nests as the world began to settle into twilight. It was a moment of calm before the night would fully take over.\n",
      "2. In the heart of the bustling city, people rushed from one place to another, each focused on their own tasks. Some carried briefcases, while others clutched shopping bags filled with the day's purchases. Despite the crowd, each person was immersed in their own thoughts, unaware of the lives they passed.\n",
      "3. Sometimes, life seems like a series of fleeting moments, each one moving too quickly to fully grasp. Yet, within these moments, there are stories waiting to be discovered. A quiet conversation over coffee, a friendly smile exchanged on the street, or the simple act of pausing to watch a sunset – these moments hold a beauty of their own.\n",
      "4. It is easy to get caught up in the rush, but there is value in taking the time to appreciate the little things. Slowing down, if only for a moment, can make all the difference. It’s in these pauses that we find clarity, peace, and the reminder that life is happening right now.\n",
      "\n",
      "Get all lines in a list using readline() \n",
      "\n",
      "1. The sun dipped below the horizon, casting a golden glow across the sky. Birds fluttered about, returning to their nests as the world began to settle into twilight. It was a moment of calm before the night would fully take over.\n",
      "2. In the heart of the bustling city, people rushed from one place to another, each focused on their own tasks. Some carried briefcases, while others clutched shopping bags filled with the day's purchases. Despite the crowd, each person was immersed in their own thoughts, unaware of the lives they passed.\n",
      "3. Sometimes, life seems like a series of fleeting moments, each one moving too quickly to fully grasp. Yet, within these moments, there are stories waiting to be discovered. A quiet conversation over coffee, a friendly smile exchanged on the street, or the simple act of pausing to watch a sunset – these moments hold a beauty of their own.\n",
      "4. It is easy to get caught up in the rush, but there is value in taking the time to appreciate the little things. Slowing down, if only for a moment, can make all the difference. It’s in these pauses that we find clarity, peace, and the reminder that life is happening right now.\n"
     ]
    }
   ],
   "source": [
    "# read text content line by line using nextline() and while loop\n",
    "print(\"Reading text content line by line using nextline() and while loop\\n\")\n",
    "with open(\"data/test.txt\", \"r\") as text_file:\n",
    "    line = text_file.readline() # read the next line\n",
    "    while line: # As long as there is a line\n",
    "        print(line, end=\"\")\n",
    "        line = text_file.readline() # Read the next line\n",
    "print(\"\") # For readability of ouput\n",
    "\n",
    "print(\"Using for loop: \\n\")\n",
    "# Using for loop\n",
    "with open(\"data/test.txt\", \"r\") as text_file:\n",
    "    for line in text_file:\n",
    "        print(line, end=\"\")\n",
    "print(\"\") # For readability of output\n",
    "\n",
    "# get all lines in a list using readline()\n",
    "print(\"Get all lines in a list using readline() \\n\")\n",
    "with open(\"data/test.txt\", \"r\") as text_file:\n",
    "    lines = text_file.readlines()  # Read all lines and store them in a list\n",
    "    for line in lines:\n",
    "        print(line, end=\"\")  # Print each line from the list\n"
   ]
  },
  {
   "cell_type": "markdown",
   "metadata": {},
   "source": [
    "### Writing to files: Open file for writing using open(file, w)\n"
   ]
  },
  {
   "cell_type": "code",
   "execution_count": null,
   "metadata": {},
   "outputs": [],
   "source": [
    "# Write whole content as once\n",
    "with open(\"data/new_test.txt\", \"w\") as new_file:\n",
    "    new_file.write(\"Replace Content:\")\n",
    "\n",
    "# Rewrite line by line\n",
    "with open(\"data/new_test_1.txt\", \"w\") as new_file:\n",
    "    new_file.writelines([\"Hello\\n\", \"world\\n\"])\n",
    "\n",
    "# This code appends or writes at the end of the code \n",
    "with open(\"data/new_test_1.txt\", \"a\") as file:\n",
    "    file.write(\"This should append on new_test_1.txt\")"
   ]
  },
  {
   "cell_type": "markdown",
   "metadata": {},
   "source": [
    "### Python Handling Directories\n",
    "The ``os`` module provides the various functions working with Directories\n",
    "- **Create New Directory**\n",
    "    - ``os.mkdir(dirname)`` create a single directory\n",
    "    - ``os.makedirs(parent-dir/child-dir)`` create dir 1 and inside it create dir2\n",
    "- **Check if a Directory Exists**\n",
    "    - ``os.path.exists(path)``: Returns True if the path exists (both for file or directory)\n",
    "    - ``os.path.isdir(path)``: Returns True if the path is a directory\n",
    "- **List Files and Subdirectories in a Directory**\n",
    "    - ``os.listdir(dirname)``: Returns list of all directory and files inside the given directory\n",
    "- **Remove a directory**\n",
    "    - Remove an empty directory: ``os.rmdir(\"new_directory)``\n",
    "- **Check permissions**\n",
    "    - ``os.stat(path)`` : returns the status of a file or directory (permissions, size)\n",
    "    - ``os.rename(src, dst)``"
   ]
  },
  {
   "cell_type": "markdown",
   "metadata": {},
   "source": [
    "#### making directory in current folder"
   ]
  },
  {
   "cell_type": "code",
   "execution_count": 10,
   "metadata": {},
   "outputs": [
    {
     "ename": "FileExistsError",
     "evalue": "[Errno 17] File exists: 'dir_one'",
     "output_type": "error",
     "traceback": [
      "\u001b[0;31m---------------------------------------------------------------------------\u001b[0m",
      "\u001b[0;31mFileExistsError\u001b[0m                           Traceback (most recent call last)",
      "Cell \u001b[0;32mIn[10], line 3\u001b[0m\n\u001b[1;32m      1\u001b[0m \u001b[38;5;28;01mimport\u001b[39;00m \u001b[38;5;21;01mos\u001b[39;00m\n\u001b[0;32m----> 3\u001b[0m \u001b[43mos\u001b[49m\u001b[38;5;241;43m.\u001b[39;49m\u001b[43mmkdir\u001b[49m\u001b[43m(\u001b[49m\u001b[38;5;124;43m\"\u001b[39;49m\u001b[38;5;124;43mdir_one\u001b[39;49m\u001b[38;5;124;43m\"\u001b[39;49m\u001b[43m)\u001b[49m \u001b[38;5;66;03m# making directory in current folder\u001b[39;00m\n\u001b[1;32m      5\u001b[0m \u001b[38;5;66;03m# Since, the dir_one was already created, it resulted in error\u001b[39;00m\n",
      "\u001b[0;31mFileExistsError\u001b[0m: [Errno 17] File exists: 'dir_one'"
     ]
    }
   ],
   "source": [
    "import os\n",
    "\n",
    "os.mkdir(\"dir_one\") # making directory in current folder\n",
    "\n",
    "# Since, the dir_one was already created, it resulted in error"
   ]
  },
  {
   "cell_type": "code",
   "execution_count": 11,
   "metadata": {},
   "outputs": [
    {
     "name": "stdout",
     "output_type": "stream",
     "text": [
      "Error: The directory already exists\n"
     ]
    }
   ],
   "source": [
    "# implemeting try except to solve this problem\n",
    "try:\n",
    "    os.mkdir(\"dir_one\")\n",
    "except FileExistsError:\n",
    "    print(f\"Error: The directory already exists\")"
   ]
  },
  {
   "cell_type": "markdown",
   "metadata": {},
   "source": [
    "#### Making directory inside a directory"
   ]
  },
  {
   "cell_type": "code",
   "execution_count": null,
   "metadata": {},
   "outputs": [],
   "source": [
    "# making a parent directory dir-two and inside it creating a children directory \n",
    "os.makedirs(\"dir-two/dir-two_1\")"
   ]
  },
  {
   "cell_type": "markdown",
   "metadata": {},
   "source": [
    "#### Checking if a directory exists"
   ]
  },
  {
   "cell_type": "code",
   "execution_count": 21,
   "metadata": {},
   "outputs": [
    {
     "name": "stdout",
     "output_type": "stream",
     "text": [
      "True\n",
      "True\n",
      "False\n"
     ]
    }
   ],
   "source": [
    "# dir_one\n",
    "result = os.path.exists(\"dir_one\")\n",
    "print(result)\n",
    "\n",
    "# dir_two_1\n",
    "result_one = os.path.exists(\"dir-two/dir-two_1\")\n",
    "print(result_one)\n",
    "\n",
    "# dir_3 which is not created\n",
    "result_two = os.path.exists(\"dir_3\")\n",
    "print(result_two)"
   ]
  },
  {
   "cell_type": "markdown",
   "metadata": {},
   "source": [
    "#### Checking if the a path is a directory or not"
   ]
  },
  {
   "cell_type": "code",
   "execution_count": 23,
   "metadata": {},
   "outputs": [
    {
     "name": "stdout",
     "output_type": "stream",
     "text": [
      "True\n"
     ]
    }
   ],
   "source": [
    "result_three = os.path.isdir(\"dir-two/dir-two_1\")\n",
    "print(result_three)"
   ]
  },
  {
   "cell_type": "markdown",
   "metadata": {},
   "source": [
    "#### if a directory exists then don't create, other_wise create it"
   ]
  },
  {
   "cell_type": "code",
   "execution_count": 27,
   "metadata": {},
   "outputs": [
    {
     "name": "stdout",
     "output_type": "stream",
     "text": [
      "Directory Exist\n"
     ]
    }
   ],
   "source": [
    "if os.path.exists(\"test_dir\"):\n",
    "    print(\"Directory Exist\")\n",
    "else:\n",
    "    print(\"directory does not exist\")\n",
    "    os.mkdir(\"test_dir\")"
   ]
  },
  {
   "cell_type": "code",
   "execution_count": 28,
   "metadata": {},
   "outputs": [
    {
     "name": "stdout",
     "output_type": "stream",
     "text": [
      "housing.csv\n",
      "nepal-population-ethinic-group.json\n",
      "nepal-population-distribution.csv\n",
      "weight-height.csv\n",
      "user_data.xlsx\n",
      "test.txt\n",
      "2d942682-4459-4b09-be58-d7cda747565f.webp\n",
      "new_test_1.txt\n",
      "schools.csv\n",
      "marketing-sales.csv\n",
      "student.csv\n",
      "user_data.csv\n",
      "marks_obtained.json\n",
      "Employees.csv\n",
      "nepal-economy.csv\n",
      "new_test.txt\n"
     ]
    }
   ],
   "source": [
    "# List contents of the directory\n",
    "contents = os.listdir(\"data\")\n",
    "for content in contents:\n",
    "    print(content)"
   ]
  },
  {
   "cell_type": "markdown",
   "metadata": {},
   "source": [
    "#### visualizing images"
   ]
  },
  {
   "cell_type": "code",
   "execution_count": 37,
   "metadata": {},
   "outputs": [
    {
     "name": "stdout",
     "output_type": "stream",
     "text": [
      "nine.png\n"
     ]
    },
    {
     "data": {
      "image/png": "[encoded data removed]",
      "text/plain": [
       "<Figure size 640x480 with 1 Axes>"
      ]
     },
     "metadata": {},
     "output_type": "display_data"
    },
    {
     "name": "stdout",
     "output_type": "stream",
     "text": [
      "housing.csv\n",
      "nepal-population-ethinic-group.json\n",
      "nepal-population-distribution.csv\n",
      "weight-height.csv\n",
      "user_data.xlsx\n",
      "test.txt\n",
      "2d942682-4459-4b09-be58-d7cda747565f.webp\n",
      "new_test_1.txt\n",
      "schools.csv\n",
      "marketing-sales.csv\n",
      "student.csv\n",
      "user_data.csv\n",
      "marks_obtained.json\n",
      "Employees.csv\n",
      "nepal-economy.csv\n",
      "new_test.txt\n"
     ]
    }
   ],
   "source": [
    "import matplotlib.pyplot as plt\n",
    "import matplotlib.image as mpimg\n",
    "\n",
    "path = \"data\"\n",
    "content = os.listdir(path)\n",
    "for file in content:\n",
    "    print(file)\n",
    "    if not os.path.isdir(f\"{path}/{file}\") and \".png\" in file:\n",
    "        img = mpimg.imread(f\"{path}/{file}\")\n",
    "        plt.imshow(img)\n",
    "        plt.show()"
   ]
  }
 ],
 "metadata": {
  "kernelspec": {
   "display_name": ".venv",
   "language": "python",
   "name": "python3"
  },
  "language_info": {
   "codemirror_mode": {
    "name": "ipython",
    "version": 3
   },
   "file_extension": ".py",
   "mimetype": "text/x-python",
   "name": "python",
   "nbconvert_exporter": "python",
   "pygments_lexer": "ipython3",
   "version": "3.12.3"
  }
 },
 "nbformat": 4,
 "nbformat_minor": 2
}
