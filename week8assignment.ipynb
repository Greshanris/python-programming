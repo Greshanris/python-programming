{
 "cells": [
  {
   "cell_type": "markdown",
   "metadata": {},
   "source": [
    "# Week 8 Assignment\n",
    "\n",
    "\n",
    "Rishav Chaudhary\n",
    "\n",
    "Presidential Graduate School, Kathmandu, Nepal\n",
    "\n",
    "PRG 330: Python Programming for Data\n",
    "\n",
    "Professor Tek Raj Panta\n",
    "\n",
    "December 11, 2024"
   ]
  },
  {
   "cell_type": "markdown",
   "metadata": {},
   "source": [
    "# GDP Growth Predicion\n",
    "\n",
    "## Objective\n",
    "**Predict Nepal's Growth based on economic indicators**\n",
    "\n",
    "## Loading and Exploring Data"
   ]
  },
  {
   "cell_type": "code",
   "execution_count": 18,
   "metadata": {},
   "outputs": [
    {
     "name": "stdout",
     "output_type": "stream",
     "text": [
      "   Year       GDP  Per Capita  Growth  Trade Balance (USD Billion)  % of GDP  \\\n",
      "0  1965  0.735267     67.0075 -1.2032                    -0.045282   -6.1585   \n",
      "1  1966  0.906812     81.1644  7.0406                    -0.028219   -3.1119   \n",
      "2  1967  0.841974     73.9679 -1.5715                    -0.000656   -0.0779   \n",
      "3  1968  0.772229     66.5489  0.6755                    -0.005060   -0.6552   \n",
      "4  1969  0.788642     66.6383  4.4634                    -0.025284   -3.2060   \n",
      "\n",
      "   Contribution of Manufactoring Industry to GDP  \\\n",
      "0                                       3.284541   \n",
      "1                                       3.430308   \n",
      "2                                       3.413874   \n",
      "3                                       3.568939   \n",
      "4                                       3.844709   \n",
      "\n",
      "   No of People Going for Foreign Employment  \n",
      "0                                          0  \n",
      "1                                          0  \n",
      "2                                          0  \n",
      "3                                          0  \n",
      "4                                          0  \n"
     ]
    }
   ],
   "source": [
    "import pandas as pd\n",
    "\n",
    "# Loading Data\n",
    "gdp = pd.read_excel(\"data/macro-economic-indicators/GDP.xlsx\")\n",
    "\n",
    "print(gdp.head())"
   ]
  },
  {
   "cell_type": "markdown",
   "metadata": {},
   "source": [
    "## Data Preparation and Data Cleaning"
   ]
  },
  {
   "cell_type": "code",
   "execution_count": 19,
   "metadata": {},
   "outputs": [
    {
     "name": "stdout",
     "output_type": "stream",
     "text": [
      "   Year       GDP  per_capita  Growth  trade_balance  percent_of_gdp  \\\n",
      "0  1965  0.735267     67.0075 -1.2032      -0.045282         -6.1585   \n",
      "1  1966  0.906812     81.1644  7.0406      -0.028219         -3.1119   \n",
      "2  1967  0.841974     73.9679 -1.5715      -0.000656         -0.0779   \n",
      "3  1968  0.772229     66.5489  0.6755      -0.005060         -0.6552   \n",
      "4  1969  0.788642     66.6383  4.4634      -0.025284         -3.2060   \n",
      "\n",
      "   manufacturing_industry_contrib_to_gdp  people_going_foreign_employment  \n",
      "0                               3.284541                                0  \n",
      "1                               3.430308                                0  \n",
      "2                               3.413874                                0  \n",
      "3                               3.568939                                0  \n",
      "4                               3.844709                                0  \n"
     ]
    }
   ],
   "source": [
    "gdp.rename(columns={\n",
    "    \"Per Capita\":\"per_capita\", \n",
    "    \"Trade Balance (USD Billion)\":\"trade_balance\", \n",
    "    \"% of GDP\":\"percent_of_gdp\", \n",
    "    \"Contribution of Manufactoring Industry to GDP\":\"manufacturing_industry_contrib_to_gdp\", \n",
    "    \"No of People Going for Foreign Employment\":\"people_going_foreign_employment\"\n",
    "    }, inplace=True)\n",
    "\n",
    "print(gdp.head())"
   ]
  },
  {
   "cell_type": "code",
   "execution_count": 20,
   "metadata": {},
   "outputs": [
    {
     "name": "stdout",
     "output_type": "stream",
     "text": [
      "Year                                     0\n",
      "GDP                                      0\n",
      "per_capita                               0\n",
      "Growth                                   0\n",
      "trade_balance                            0\n",
      "percent_of_gdp                           0\n",
      "manufacturing_industry_contrib_to_gdp    0\n",
      "people_going_foreign_employment          0\n",
      "dtype: int64\n"
     ]
    }
   ],
   "source": [
    "# checking missing values\n",
    "print(gdp.isna().sum())"
   ]
  },
  {
   "cell_type": "code",
   "execution_count": 21,
   "metadata": {},
   "outputs": [
    {
     "name": "stdout",
     "output_type": "stream",
     "text": [
      "0\n"
     ]
    }
   ],
   "source": [
    "# checking duplicated value\n",
    "print(gdp.duplicated().sum())"
   ]
  },
  {
   "cell_type": "markdown",
   "metadata": {},
   "source": [
    "## Feature Engineering"
   ]
  },
  {
   "cell_type": "markdown",
   "metadata": {},
   "source": [
    "### Selecting features and target"
   ]
  },
  {
   "cell_type": "code",
   "execution_count": 22,
   "metadata": {},
   "outputs": [
    {
     "name": "stdout",
     "output_type": "stream",
     "text": [
      "trade_balance                            0\n",
      "percent_of_gdp                           0\n",
      "manufacturing_industry_contrib_to_gdp    0\n",
      "dtype: int64\n"
     ]
    }
   ],
   "source": [
    "# Selecting features and target\n",
    "\n",
    "# Selecting features\n",
    "x = gdp[[\n",
    "    \"trade_balance\",\n",
    "    \"percent_of_gdp\",\n",
    "    \"manufacturing_industry_contrib_to_gdp\"\n",
    "]]\n",
    "\n",
    "# Selecting target variable\n",
    "y = gdp[\"Growth\"]\n",
    "\n",
    "# Checking missing values in x\n",
    "print(x.isna().sum())"
   ]
  },
  {
   "cell_type": "markdown",
   "metadata": {},
   "source": [
    "### Splitting the data into training and testing"
   ]
  },
  {
   "cell_type": "code",
   "execution_count": 23,
   "metadata": {},
   "outputs": [],
   "source": [
    "from sklearn.model_selection import train_test_split\n",
    "\n",
    "X_train, X_test, y_train, y_test = train_test_split(x, y, test_size=0.2, random_state=42)"
   ]
  },
  {
   "cell_type": "markdown",
   "metadata": {},
   "source": [
    "### Scaling the features"
   ]
  },
  {
   "cell_type": "code",
   "execution_count": 24,
   "metadata": {},
   "outputs": [],
   "source": [
    "from sklearn.preprocessing import StandardScaler\n",
    "\n",
    "scaler = StandardScaler()\n",
    "X_train_scaled = scaler.fit_transform(X_train)\n",
    "X_test_scaled = scaler.transform(X_test)"
   ]
  },
  {
   "cell_type": "markdown",
   "metadata": {},
   "source": [
    "## Model Implementation\n",
    "- Linear Regression\n",
    "- RandomForestRegressor\n",
    "- Gradient Boosting"
   ]
  },
  {
   "cell_type": "markdown",
   "metadata": {},
   "source": [
    "### Linear Regression"
   ]
  },
  {
   "cell_type": "code",
   "execution_count": 25,
   "metadata": {},
   "outputs": [],
   "source": [
    "from sklearn.linear_model import LinearRegression\n",
    "\n",
    "# Loading the Model\n",
    "linear_model = LinearRegression()\n",
    "\n",
    "# Fitting model on training dataset (features is scaled while target is not)\n",
    "linear_model.fit(X_train_scaled, y_train)\n",
    "\n",
    "# Predicting value\n",
    "y_pred_linear = linear_model.predict(X_test_scaled)\n"
   ]
  },
  {
   "cell_type": "markdown",
   "metadata": {},
   "source": [
    "### Random Forest Regressor"
   ]
  },
  {
   "cell_type": "code",
   "execution_count": 26,
   "metadata": {},
   "outputs": [],
   "source": [
    "from sklearn.ensemble import RandomForestRegressor\n",
    "\n",
    "# Loading the Model\n",
    "random_forest = RandomForestRegressor(random_state=42)\n",
    "\n",
    "# Fitting model on training dataset \n",
    "random_forest.fit(X_train, y_train)\n",
    "\n",
    "# Predicting value\n",
    "y_pred_random_forest = random_forest.predict(X_test)"
   ]
  },
  {
   "cell_type": "markdown",
   "metadata": {},
   "source": [
    "### Gradient Boost Regressor\n"
   ]
  },
  {
   "cell_type": "code",
   "execution_count": 27,
   "metadata": {},
   "outputs": [],
   "source": [
    "from sklearn.ensemble import GradientBoostingRegressor\n",
    "\n",
    "# Loading the Model\n",
    "gradient_boosting = GradientBoostingRegressor(random_state=42)\n",
    "\n",
    "# Fitting model on training dataset \n",
    "gradient_boosting.fit(X_train, y_train)\n",
    "\n",
    "# Predicting value\n",
    "y_pred_gradient_boosting = gradient_boosting.predict(X_test)"
   ]
  },
  {
   "cell_type": "markdown",
   "metadata": {},
   "source": [
    "## Model Evaluation"
   ]
  },
  {
   "cell_type": "markdown",
   "metadata": {},
   "source": [
    "### Linear Regression"
   ]
  },
  {
   "cell_type": "code",
   "execution_count": 28,
   "metadata": {},
   "outputs": [
    {
     "name": "stdout",
     "output_type": "stream",
     "text": [
      "Linear Regression Evaluation:\n",
      "MAE: 1.4752\n",
      "RMSE: 2.5952\n",
      "R²: -0.1775\n"
     ]
    }
   ],
   "source": [
    "from sklearn.metrics import mean_absolute_error, mean_squared_error, r2_score\n",
    "import numpy as np\n",
    "\n",
    "# Linear Regression Evaluation\n",
    "mae_linear = mean_absolute_error(y_test, y_pred_linear)\n",
    "rmse_linear = np.sqrt(mean_squared_error(y_test, y_pred_linear))\n",
    "r2_linear = r2_score(y_test, y_pred_linear)\n",
    "\n",
    "print(\"Linear Regression Evaluation:\")\n",
    "print(f\"MAE: {mae_linear:.4f}\")\n",
    "print(f\"RMSE: {rmse_linear:.4f}\")\n",
    "print(f\"R²: {r2_linear:.4f}\")"
   ]
  },
  {
   "cell_type": "markdown",
   "metadata": {},
   "source": [
    "### Random Forest Regressor"
   ]
  },
  {
   "cell_type": "code",
   "execution_count": 29,
   "metadata": {},
   "outputs": [
    {
     "name": "stdout",
     "output_type": "stream",
     "text": [
      "\n",
      "Random Forest Evaluation:\n",
      "MAE: 1.7090\n",
      "RMSE: 2.6075\n",
      "R²: -0.1886\n"
     ]
    }
   ],
   "source": [
    "# Random Forest Evaluation\n",
    "mae_rf = mean_absolute_error(y_test, y_pred_random_forest)\n",
    "rmse_rf = np.sqrt(mean_squared_error(y_test, y_pred_random_forest))\n",
    "r2_rf = r2_score(y_test, y_pred_random_forest)\n",
    "\n",
    "print(\"\\nRandom Forest Evaluation:\")\n",
    "print(f\"MAE: {mae_rf:.4f}\")\n",
    "print(f\"RMSE: {rmse_rf:.4f}\")\n",
    "print(f\"R²: {r2_rf:.4f}\")"
   ]
  },
  {
   "cell_type": "markdown",
   "metadata": {},
   "source": [
    "### Gradient Boost Regressor\n"
   ]
  },
  {
   "cell_type": "code",
   "execution_count": 30,
   "metadata": {},
   "outputs": [
    {
     "name": "stdout",
     "output_type": "stream",
     "text": [
      "\n",
      "Gradient Boosting Evaluation:\n",
      "MAE: 2.0708\n",
      "RMSE: 3.3187\n",
      "R²: -0.9255\n"
     ]
    }
   ],
   "source": [
    "# Gradient Boosting Evaluation\n",
    "mae_gb = mean_absolute_error(y_test, y_pred_gradient_boosting)\n",
    "rmse_gb = np.sqrt(mean_squared_error(y_test, y_pred_gradient_boosting))\n",
    "r2_gb = r2_score(y_test, y_pred_gradient_boosting)\n",
    "\n",
    "print(\"\\nGradient Boosting Evaluation:\")\n",
    "print(f\"MAE: {mae_gb:.4f}\")\n",
    "print(f\"RMSE: {rmse_gb:.4f}\")\n",
    "print(f\"R²: {r2_gb:.4f}\")"
   ]
  }
 ],
 "metadata": {
  "kernelspec": {
   "display_name": ".venv",
   "language": "python",
   "name": "python3"
  },
  "language_info": {
   "codemirror_mode": {
    "name": "ipython",
    "version": 3
   },
   "file_extension": ".py",
   "mimetype": "text/x-python",
   "name": "python",
   "nbconvert_exporter": "python",
   "pygments_lexer": "ipython3",
   "version": "3.12.6"
  }
 },
 "nbformat": 4,
 "nbformat_minor": 2
}
