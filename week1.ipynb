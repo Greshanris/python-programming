{
 "cells": [
  {
   "cell_type": "markdown",
   "metadata": {},
   "source": [
    "# Week 1 Assignment\n",
    "\n",
    "Rishav Chaudhary\n",
    "\n",
    "Presidential Graduate School, Kathmandu, Nepal\n",
    "\n",
    "Prof. Tek Raj Pant\n",
    "\n",
    "October 27, 2024"
   ]
  },
  {
   "cell_type": "markdown",
   "metadata": {},
   "source": [
    "### Introduction\n",
    "Python Programming Language is the programming language that is most widely and mostly used in case of data and development. This paper discusses the use of Jupyter Notebook, Python and Python Basic command to write down the Python program starting from \"Hello World\" program.\n",
    "\n",
    "### Installation\n",
    "The Installation python started from installing python using command \"sudo dnf install python3\", and checking version as \"python3 --version\". Then, by creating a virtual environment by using command \"python3 venv .venv\", the virtual environment was created. Then, the using pip, we installed matplotlib, seaborn, pandas, numpy, scikit learn packages inside the virtual environment. Then, we also installed the jupyterlab, which is the notebook where we can code, execute code and create markdown files.\n",
    "\n",
    "### Summary of the Week\n",
    "On Day1, we created first hello world program. The variables declaration was discussed. The python datatypes were also discussed. The python execution of file from '.py' to the interpreter changing to the byte code '.pyc' and its syntax checking was discussed.\n",
    "\n",
    "On Day2, we understood python syntaxes and data types. Indexing was done and f\"\" string literal was also used. On Day3, control flow statements like if...else was discussed where we can perform certain command, if the condition we stated values \"True\". \n",
    "\n",
    "On Day3, we learned about the loop statement, particularly \"while\" statement. The while statement is does iterations repetedly until and unless the conditions values \"False\". We even used conditional statements inside the loop statement.\n",
    "\n",
    "On Day4, the \"for\" statement is learned. It is the looping statement. It iterates over iteratable item like list or dictionaries. It also iterates over range function. In each iteration, the temporary variable stores the value in sequence. And, through it we can print it and do certain activities."
   ]
  },
  {
   "cell_type": "markdown",
   "metadata": {},
   "source": [
    "## This is my first hello world program in python"
   ]
  },
  {
   "cell_type": "code",
   "execution_count": 23,
   "metadata": {},
   "outputs": [
    {
     "name": "stdout",
     "output_type": "stream",
     "text": [
      "hello world\n"
     ]
    }
   ],
   "source": [
    "# printing hello world\n",
    "\n",
    "hello = \"hello world\"\n",
    "print(hello) # printing first hello world program"
   ]
  },
  {
   "cell_type": "markdown",
   "metadata": {},
   "source": [
    "## Day 2: Understanding Python's Elegant Syntax\n",
    "\n",
    "- Indentation: Tab\n",
    "- Variable Declaration: a = \"\"\n",
    "- Comments: #\n",
    "- Whitespace Sensitivity: \n",
    "\n",
    "### Python Variables\n",
    "\n",
    "if a variable is declared, like name = \"ram\"\n",
    "it is converted with ASCII(0-108) to binary, and stored in the memory address (here, 8 GB).\n",
    "\n",
    "The memory is connected to the CPU through the Data Bus.\n",
    "\n",
    "later, on we can access the memory address.\n",
    "\n",
    "From there, we can access the value and use it for computation.\n",
    "\n",
    "Python works with a model of references to objects. works with mechanism called Automatic Memory Management.\n",
    "\n",
    "### Python Data Types\n",
    "\n",
    "#### Text-Data-Type\n",
    "- str\n",
    "#### Number\n",
    "- int\n",
    "- float\n",
    "- imaginary: 1i or 1j\n",
    "#### Boolean\n",
    "- bool\n",
    "#### Sequence\n",
    "- list - mutable, and ordered, indexed\n",
    "- dict - key-value pair, ordered\n",
    "- set - immutable, not duplicated value, ordered\n",
    "\n",
    "#### None\n",
    "- Null - value not exist\n",
    "\n",
    "double divided by // gives: divide with integral result (discard remainder): floor division\n",
    "\n",
    "5//2 = 2 is equivalent to js .floor() method.\n"
   ]
  },
  {
   "cell_type": "code",
   "execution_count": 2,
   "metadata": {},
   "outputs": [
    {
     "name": "stdout",
     "output_type": "stream",
     "text": [
      "Full name: Rishav Chaudhary\n",
      "Address: Gothatar, Kathmandu, Nepal\n",
      "first name: Rishav\n",
      "last name: Chaudhary\n",
      "city: Kathmandu\n",
      "country: Nepal\n",
      "The length of full name is 16 characters.\n",
      "The last character of the first name is 'v'.\n",
      "The full name in capitalized is 'RISHAV CHAUDHARY'.\n",
      "The full name in lower is 'rishav chaudhary'.\n"
     ]
    }
   ],
   "source": [
    "# Discussion on Arithmetic Operators, Data types, and concatenation, indexing, and multiline string ''' '''.\n",
    "\n",
    "full_name = \"Rishav Chaudhary\"\n",
    "address = \"Gothatar, Kathmandu, Nepal\"\n",
    "\n",
    "first_name = full_name[:6] # The last index is not counted\n",
    "last_name = full_name[7:]\n",
    "city = address[10:19]\n",
    "country = address[21:]\n",
    "full_name_length = len(full_name)\n",
    "last_char_first_name = first_name[len(first_name)-1] \n",
    "\n",
    "print(f\"Full name: {full_name}\")\n",
    "print(f\"Address: {address}\")\n",
    "print(f\"first name: {first_name}\\nlast name: {last_name}\\ncity: {city}\\ncountry: {country}\")\n",
    "print(f\"The length of full name is {full_name_length} characters.\")\n",
    "print(f\"The last character of the first name is '{last_char_first_name}'.\")\n",
    "\n",
    "# For Concatenation we can just use '+', but it will not include space\n",
    "\n",
    "# Upper\n",
    "capitalized_name = full_name.upper()\n",
    "print(f\"The full name in capitalized is '{capitalized_name}'.\")\n",
    "\n",
    "# Lower\n",
    "lowercase_name = full_name.lower()\n",
    "print(f\"The full name in lower is '{lowercase_name}'.\")"
   ]
  },
  {
   "cell_type": "markdown",
   "metadata": {},
   "source": [
    "## Day 3: Control Flow\n",
    "\n",
    "- **conditional statements:** if...elif...else...\n",
    "- break...continue\n",
    "- **loops:** for, while"
   ]
  },
  {
   "cell_type": "code",
   "execution_count": 8,
   "metadata": {},
   "outputs": [
    {
     "name": "stdout",
     "output_type": "stream",
     "text": [
      "'b' whose value is 10 is greater than 'a' whose value is 5\n"
     ]
    }
   ],
   "source": [
    "a = 5\n",
    "b = 10\n",
    "if a > b:\n",
    "    print(f\"'a' whose value is {a} is greater than 'b' whose value is {b}\")\n",
    "elif a < b:\n",
    "    print(f\"'b' whose value is {b} is greater than 'a' whose value is {a}\")\n",
    "else:\n",
    "    print(\"'a' and 'b' has equal value that is {a}\")"
   ]
  },
  {
   "cell_type": "code",
   "execution_count": 17,
   "metadata": {},
   "outputs": [
    {
     "name": "stdout",
     "output_type": "stream",
     "text": [
      "Just started the day.\n"
     ]
    }
   ],
   "source": [
    "time = int(input(\"Enter time: \"))\n",
    "\n",
    "# 10 -> \"Math\"\n",
    "# 12 -> \"DSA\"\n",
    "# 15 -> \"English\"\n",
    "\n",
    "if time >= 10 and time < 12:\n",
    "    print(\"It's time for Math.\")\n",
    "elif time >= 12 and time < 14:\n",
    "    print(\"It's time for DSA.\")\n",
    "elif time >= 14 and time < 15:\n",
    "    print(\"It's' break time.\")\n",
    "elif time >= 15:\n",
    "    print(\"It's time for English.\")\n",
    "else:\n",
    "    print(\"Just started the day.\")"
   ]
  },
  {
   "cell_type": "markdown",
   "metadata": {},
   "source": [
    "## Loops\n",
    "- While\n",
    "- For"
   ]
  },
  {
   "cell_type": "code",
   "execution_count": 18,
   "metadata": {},
   "outputs": [
    {
     "name": "stdout",
     "output_type": "stream",
     "text": [
      "counter 1\n",
      "counter 2\n",
      "counter 3\n",
      "counter 4\n",
      "counter 5\n",
      "counter 6\n",
      "counter 7\n",
      "counter 8\n",
      "counter 9\n",
      "counter 10\n",
      "counter 11\n",
      "counter 12\n",
      "counter 13\n",
      "counter 14\n",
      "counter 15\n",
      "counter 16\n",
      "counter 17\n",
      "counter 18\n",
      "counter 19\n",
      "counter 20\n"
     ]
    }
   ],
   "source": [
    "# While\n",
    "\n",
    "# Importing sleep function from time module\n",
    "from time import sleep\n",
    "\n",
    "counter = 1\n",
    "while counter <= 20:\n",
    "    print(f\"counter {counter}\")\n",
    "    counter += 1\n",
    "    sleep(1) # It holds by time in parameter. Here, in seconds\n"
   ]
  },
  {
   "cell_type": "code",
   "execution_count": 32,
   "metadata": {},
   "outputs": [
    {
     "name": "stdout",
     "output_type": "stream",
     "text": [
      "sum of first n=100 natural numbers using while loop is 5050\n"
     ]
    }
   ],
   "source": [
    "# Find the sum of first n=100 natural numbers using while loop\n",
    "n = 100\n",
    "number = 1\n",
    "sum = 0\n",
    "while number <= n:\n",
    "    sum += number\n",
    "    number += 1\n",
    "print(f\"sum of first n=100 natural numbers using while loop is {sum}\")"
   ]
  },
  {
   "cell_type": "code",
   "execution_count": 30,
   "metadata": {},
   "outputs": [
    {
     "name": "stdout",
     "output_type": "stream",
     "text": [
      "Sum of even: 2550\n",
      "Sum of odd: 2500\n"
     ]
    }
   ],
   "source": [
    "# Find the sum of first n even number , n=100 using while loop\n",
    "\n",
    "n = 100\n",
    "counter = 1\n",
    "sum_of_even = 0\n",
    "sum_of_odd = 0\n",
    "while counter <= n:\n",
    "    if counter%2 == 0:\n",
    "        sum_of_even += counter\n",
    "    else:\n",
    "        sum_of_odd += counter\n",
    "    counter += 1\n",
    "print(f\"Sum of even: {sum_of_even}\")\n",
    "print(f\"Sum of odd: {sum_of_odd}\")\n"
   ]
  },
  {
   "cell_type": "markdown",
   "metadata": {},
   "source": [
    "## Day4: For"
   ]
  },
  {
   "cell_type": "code",
   "execution_count": 2,
   "metadata": {},
   "outputs": [
    {
     "name": "stdout",
     "output_type": "stream",
     "text": [
      "0\n",
      "1\n",
      "2\n",
      "3\n",
      "4\n",
      "5\n",
      "6\n",
      "7\n",
      "8\n",
      "9\n",
      "10\n"
     ]
    }
   ],
   "source": [
    "# printing 0 to 10\n",
    "for i in range(11):\n",
    "    print(i)"
   ]
  },
  {
   "cell_type": "code",
   "execution_count": 4,
   "metadata": {},
   "outputs": [
    {
     "name": "stdout",
     "output_type": "stream",
     "text": [
      "0\n",
      "2\n",
      "4\n",
      "6\n",
      "8\n",
      "10\n"
     ]
    }
   ],
   "source": [
    "# printing even number between 0 to 10:\n",
    "\n",
    "for i in range(0,12,2):\n",
    "    print(i)"
   ]
  },
  {
   "cell_type": "code",
   "execution_count": 5,
   "metadata": {},
   "outputs": [
    {
     "name": "stdout",
     "output_type": "stream",
     "text": [
      "2\n",
      "4\n"
     ]
    }
   ],
   "source": [
    "# printing the even number from the list\n",
    "list1 = [2, 3, 4, 5, 7, 9, 7]\n",
    "\n",
    "for i in list1:\n",
    "    if i%2 == 0:\n",
    "        print(i)\n"
   ]
  }
 ],
 "metadata": {
  "kernelspec": {
   "display_name": "base",
   "language": "python",
   "name": "python3"
  },
  "language_info": {
   "codemirror_mode": {
    "name": "ipython",
    "version": 3
   },
   "file_extension": ".py",
   "mimetype": "text/x-python",
   "name": "python",
   "nbconvert_exporter": "python",
   "pygments_lexer": "ipython3",
   "version": "3.12.7"
  }
 },
 "nbformat": 4,
 "nbformat_minor": 4
}
