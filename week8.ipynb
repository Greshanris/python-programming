{
 "cells": [
  {
   "cell_type": "markdown",
   "metadata": {},
   "source": [
    "# Week 8 Assignment\n",
    "\n",
    "\n",
    "Rishav Chaudhary\n",
    "\n",
    "Presidential Graduate School, Kathmandu, Nepal\n",
    "\n",
    "PRG 330: Python Programming for Data\n",
    "\n",
    "Professor Tek Raj Panta\n",
    "\n",
    "December 10, 2024"
   ]
  },
  {
   "cell_type": "markdown",
   "metadata": {},
   "source": [
    "# GDP Growth Predicion\n",
    "\n",
    "## Objective\n",
    "**Predict Nepal's Growth based on economic indicators**\n",
    "\n",
    "## Loading and Exploring Data"
   ]
  },
  {
   "cell_type": "code",
   "execution_count": 48,
   "metadata": {},
   "outputs": [
    {
     "name": "stdout",
     "output_type": "stream",
     "text": [
      "   Year       GDP  Per Capita  Growth  Trade Balance (USD Billion)  % of GDP  \\\n",
      "0  1965  0.735267     67.0075 -1.2032                    -0.045282   -6.1585   \n",
      "1  1966  0.906812     81.1644  7.0406                    -0.028219   -3.1119   \n",
      "2  1967  0.841974     73.9679 -1.5715                    -0.000656   -0.0779   \n",
      "3  1968  0.772229     66.5489  0.6755                    -0.005060   -0.6552   \n",
      "4  1969  0.788642     66.6383  4.4634                    -0.025284   -3.2060   \n",
      "\n",
      "   Contribution of Manufactoring Industry to GDP  \\\n",
      "0                                       3.284541   \n",
      "1                                       3.430308   \n",
      "2                                       3.413874   \n",
      "3                                       3.568939   \n",
      "4                                       3.844709   \n",
      "\n",
      "   No of People Going for Foreign Employment  \n",
      "0                                          0  \n",
      "1                                          0  \n",
      "2                                          0  \n",
      "3                                          0  \n",
      "4                                          0  \n"
     ]
    }
   ],
   "source": [
    "import pandas as pd\n",
    "\n",
    "# Loading Data\n",
    "gdp = pd.read_excel(\"data/macro-economic-indicators/GDP.xlsx\")\n",
    "\n",
    "print(gdp.head())"
   ]
  },
  {
   "cell_type": "code",
   "execution_count": 49,
   "metadata": {},
   "outputs": [
    {
     "name": "stdout",
     "output_type": "stream",
     "text": [
      "<class 'pandas.core.frame.DataFrame'>\n",
      "RangeIndex: 57 entries, 0 to 56\n",
      "Data columns (total 8 columns):\n",
      " #   Column                                         Non-Null Count  Dtype  \n",
      "---  ------                                         --------------  -----  \n",
      " 0   Year                                           57 non-null     int64  \n",
      " 1   GDP                                            57 non-null     float64\n",
      " 2   Per Capita                                     57 non-null     float64\n",
      " 3   Growth                                         57 non-null     float64\n",
      " 4   Trade Balance (USD Billion)                    57 non-null     float64\n",
      " 5   % of GDP                                       57 non-null     float64\n",
      " 6   Contribution of Manufactoring Industry to GDP  57 non-null     float64\n",
      " 7   No of People Going for Foreign Employment      57 non-null     int64  \n",
      "dtypes: float64(6), int64(2)\n",
      "memory usage: 3.7 KB\n",
      "None\n"
     ]
    }
   ],
   "source": [
    "print(gdp.info())"
   ]
  },
  {
   "cell_type": "markdown",
   "metadata": {},
   "source": [
    "### Inflation as Economic Indicator"
   ]
  },
  {
   "cell_type": "code",
   "execution_count": 50,
   "metadata": {},
   "outputs": [
    {
     "name": "stdout",
     "output_type": "stream",
     "text": [
      "     Year      Month  Index  Change\n",
      "0  2017.0       July  118.3     2.3\n",
      "1  2017.0     August  119.4     3.4\n",
      "2  2017.0  September  119.2     3.1\n",
      "3  2017.0    October  120.6     3.9\n",
      "4  2017.0   November  119.9     4.2\n",
      "<class 'pandas.core.frame.DataFrame'>\n",
      "RangeIndex: 73 entries, 0 to 72\n",
      "Data columns (total 4 columns):\n",
      " #   Column  Non-Null Count  Dtype  \n",
      "---  ------  --------------  -----  \n",
      " 0   Year    69 non-null     float64\n",
      " 1   Month   68 non-null     object \n",
      " 2   Index   68 non-null     float64\n",
      " 3   Change  68 non-null     float64\n",
      "dtypes: float64(3), object(1)\n",
      "memory usage: 2.4+ KB\n",
      "None\n"
     ]
    }
   ],
   "source": [
    "inflation = pd.read_excel(\"data/macro-economic-indicators/inflation.xlsx\")\n",
    "print(inflation.head())\n",
    "print(inflation.info())"
   ]
  },
  {
   "cell_type": "markdown",
   "metadata": {},
   "source": [
    "## Data Preparation and Data Cleaning"
   ]
  },
  {
   "cell_type": "code",
   "execution_count": 51,
   "metadata": {},
   "outputs": [
    {
     "name": "stdout",
     "output_type": "stream",
     "text": [
      "Year                                             0\n",
      "GDP                                              0\n",
      "Per Capita                                       0\n",
      "Growth                                           0\n",
      "Trade Balance (USD Billion)                      0\n",
      "% of GDP                                         0\n",
      "Contribution of Manufactoring Industry to GDP    0\n",
      "No of People Going for Foreign Employment        0\n",
      "dtype: int64\n"
     ]
    }
   ],
   "source": [
    "# Checking missing values \n",
    "print(gdp.isna().sum())"
   ]
  },
  {
   "cell_type": "code",
   "execution_count": 52,
   "metadata": {},
   "outputs": [
    {
     "name": "stdout",
     "output_type": "stream",
     "text": [
      "   Year       Index    Change\n",
      "0  2017  119.316667  3.483333\n",
      "1  2018  122.100000  4.533333\n",
      "2  2019  129.125000  5.743333\n",
      "3  2020  135.303333  4.816667\n",
      "4  2021  141.151667  4.311667\n",
      "5  2022  152.135000  7.774167\n",
      "6  2023  155.360000  7.260000\n"
     ]
    }
   ],
   "source": [
    "\n",
    "# Dropping rows with missing \"Year\", \"Index\", or \"Change\"\n",
    "inflation = inflation.dropna(subset=[\"Year\", \"Index\", \"Change\"])\n",
    "\n",
    "# Making sure \"Year\" is an integer\n",
    "inflation[\"Year\"] = inflation[\"Year\"].astype(int)\n",
    "\n",
    "# Grouping by \"Year\" because GDP dataframe is by \"Year\" while \"index\" and \"change\" value is mean of the monthly values\n",
    "annual_inflation_data = inflation.groupby(\"Year\", as_index=False).agg({\n",
    "    \"Index\": \"mean\",\n",
    "    \"Change\": \"mean\"\n",
    "})\n",
    "\n",
    "print(annual_inflation_data)"
   ]
  },
  {
   "cell_type": "code",
   "execution_count": 53,
   "metadata": {},
   "outputs": [
    {
     "name": "stdout",
     "output_type": "stream",
     "text": [
      "   Year        GDP  Per Capita  Growth  Trade Balance (USD Billion)  % of GDP  \\\n",
      "0  2017  28.971589   1048.4538  8.9773                    -8.406985  -29.0180   \n",
      "1  2018  33.111526   1178.5260  7.6224                   -10.865913  -32.8161   \n",
      "2  2019  34.186191   1194.9572  6.6571                   -11.517209  -33.6897   \n",
      "3  2020  33.433671   1147.4720 -2.3696                    -9.130162  -27.3083   \n",
      "4  2021  36.288830   1222.8788  4.2469                   -12.117845  -33.3928   \n",
      "\n",
      "   Contribution of Manufactoring Industry to GDP  \\\n",
      "0                                       4.855674   \n",
      "1                                       4.906475   \n",
      "2                                       4.981441   \n",
      "3                                       4.474854   \n",
      "4                                       4.665598   \n",
      "\n",
      "   No of People Going for Foreign Employment       Index    Change  \n",
      "0                                     450000  119.316667  3.483333  \n",
      "1                                     400000  122.100000  4.533333  \n",
      "2                                     250000  129.125000  5.743333  \n",
      "3                                     200000  135.303333  4.816667  \n",
      "4                                      50000  141.151667  4.311667  \n"
     ]
    }
   ],
   "source": [
    "# Merging gdp and annual_inflation_data datasets on \"Year\"\n",
    "merged_data = pd.merge(gdp, annual_inflation_data, on=\"Year\", how=\"inner\")\n",
    "\n",
    "print(merged_data.head())"
   ]
  },
  {
   "cell_type": "code",
   "execution_count": 65,
   "metadata": {},
   "outputs": [
    {
     "name": "stdout",
     "output_type": "stream",
     "text": [
      "   Year        GDP  per_capita  Growth  trade_balance  percent_of_gdp  \\\n",
      "0  2017  28.971589   1048.4538  8.9773      -8.406985        -29.0180   \n",
      "1  2018  33.111526   1178.5260  7.6224     -10.865913        -32.8161   \n",
      "2  2019  34.186191   1194.9572  6.6571     -11.517209        -33.6897   \n",
      "3  2020  33.433671   1147.4720 -2.3696      -9.130162        -27.3083   \n",
      "4  2021  36.288830   1222.8788  4.2469     -12.117845        -33.3928   \n",
      "\n",
      "   manufacturing_industry_contrib_to_gdp  people_going_foreign_employment  \\\n",
      "0                               4.855674                           450000   \n",
      "1                               4.906475                           400000   \n",
      "2                               4.981441                           250000   \n",
      "3                               4.474854                           200000   \n",
      "4                               4.665598                            50000   \n",
      "\n",
      "        Index    Change  \n",
      "0  119.316667  3.483333  \n",
      "1  122.100000  4.533333  \n",
      "2  129.125000  5.743333  \n",
      "3  135.303333  4.816667  \n",
      "4  141.151667  4.311667  \n"
     ]
    }
   ],
   "source": [
    "merged_data.rename(columns={\n",
    "    \"Per Capita\":\"per_capita\", \n",
    "    \"Trade Balance (USD Billion)\":\"trade_balance\", \n",
    "    \"% of GDP\":\"percent_of_gdp\", \n",
    "    \"Contribution of Manufactoring Industry to GDP\":\"manufacturing_industry_contrib_to_gdp\", \n",
    "    \"No of People Going for Foreign Employment\":\"people_going_foreign_employment\"\n",
    "    }, inplace=True)\n",
    "\n",
    "print(merged_data)"
   ]
  },
  {
   "cell_type": "markdown",
   "metadata": {},
   "source": [
    "## Feature Engineering"
   ]
  },
  {
   "cell_type": "markdown",
   "metadata": {},
   "source": [
    "### Selecting features and target"
   ]
  },
  {
   "cell_type": "code",
   "execution_count": 55,
   "metadata": {},
   "outputs": [
    {
     "name": "stdout",
     "output_type": "stream",
     "text": [
      "Index                                    0\n",
      "Change                                   0\n",
      "trade_balance                            0\n",
      "percent_of_gdp                           0\n",
      "manufacturing_industry_contrib_to_gdp    0\n",
      "dtype: int64\n"
     ]
    }
   ],
   "source": [
    "# Selecting features and target\n",
    "\n",
    "# Selecting features\n",
    "x = merged_data[[\n",
    "    \"Index\",\n",
    "    \"Change\",\n",
    "    \"trade_balance\",\n",
    "    \"percent_of_gdp\",\n",
    "    \"manufacturing_industry_contrib_to_gdp\"\n",
    "]]\n",
    "\n",
    "# Selecting target variable\n",
    "y = merged_data[\"Growth\"]\n",
    "\n",
    "# Checking missing values in x\n",
    "print(x.isna().sum())"
   ]
  },
  {
   "cell_type": "markdown",
   "metadata": {},
   "source": [
    "### Splitting the data into training and testing"
   ]
  },
  {
   "cell_type": "code",
   "execution_count": 56,
   "metadata": {},
   "outputs": [],
   "source": [
    "from sklearn.model_selection import train_test_split\n",
    "\n",
    "X_train, X_test, y_train, y_test = train_test_split(x, y, test_size=0.2, random_state=42)"
   ]
  },
  {
   "cell_type": "markdown",
   "metadata": {},
   "source": [
    "### Scaling the features"
   ]
  },
  {
   "cell_type": "code",
   "execution_count": 57,
   "metadata": {},
   "outputs": [],
   "source": [
    "from sklearn.preprocessing import StandardScaler\n",
    "\n",
    "scaler = StandardScaler()\n",
    "X_train_scaled = scaler.fit_transform(X_train)\n",
    "X_test_scaled = scaler.transform(X_test)"
   ]
  },
  {
   "cell_type": "markdown",
   "metadata": {},
   "source": [
    "## Model Implementation\n",
    "- Linear Regression\n",
    "- RandomForestRegressor\n",
    "- Gradient Boosting"
   ]
  },
  {
   "cell_type": "markdown",
   "metadata": {},
   "source": [
    "### Linear Regression"
   ]
  },
  {
   "cell_type": "code",
   "execution_count": 58,
   "metadata": {},
   "outputs": [],
   "source": [
    "from sklearn.linear_model import LinearRegression\n",
    "\n",
    "# Loading the Model\n",
    "linear_model = LinearRegression()\n",
    "\n",
    "# Fitting model on training dataset (features is scaled while target is not)\n",
    "linear_model.fit(X_train_scaled, y_train)\n",
    "\n",
    "# Predicting value\n",
    "y_pred_linear = linear_model.predict(X_test_scaled)\n"
   ]
  },
  {
   "cell_type": "markdown",
   "metadata": {},
   "source": [
    "### Random Forest Regressor"
   ]
  },
  {
   "cell_type": "code",
   "execution_count": 59,
   "metadata": {},
   "outputs": [],
   "source": [
    "from sklearn.ensemble import RandomForestRegressor\n",
    "\n",
    "# Loading the Model\n",
    "random_forest = RandomForestRegressor(random_state=42)\n",
    "\n",
    "# Fitting model on training dataset \n",
    "random_forest.fit(X_train, y_train)\n",
    "\n",
    "# Predicting value\n",
    "y_pred_random_forest = random_forest.predict(X_test)"
   ]
  },
  {
   "cell_type": "markdown",
   "metadata": {},
   "source": [
    "### Gradient Boost Regressor\n"
   ]
  },
  {
   "cell_type": "code",
   "execution_count": 60,
   "metadata": {},
   "outputs": [],
   "source": [
    "from sklearn.ensemble import GradientBoostingRegressor\n",
    "\n",
    "# Loading the Model\n",
    "gradient_boosting = GradientBoostingRegressor(random_state=42)\n",
    "\n",
    "# Fitting model on training dataset \n",
    "gradient_boosting.fit(X_train, y_train)\n",
    "\n",
    "# Predicting value\n",
    "y_pred_gradient_boosting = gradient_boosting.predict(X_test)"
   ]
  },
  {
   "cell_type": "markdown",
   "metadata": {},
   "source": [
    "## Model Evaluation"
   ]
  },
  {
   "cell_type": "code",
   "execution_count": 62,
   "metadata": {},
   "outputs": [
    {
     "name": "stderr",
     "output_type": "stream",
     "text": [
      "r:\\rishav_folder\\Present_assignment\\PRG_330PythonProgramming\\python-programming\\.venv\\Lib\\site-packages\\sklearn\\metrics\\_regression.py:1211: UndefinedMetricWarning: R^2 score is not well-defined with less than two samples.\n",
      "  warnings.warn(msg, UndefinedMetricWarning)\n",
      "r:\\rishav_folder\\Present_assignment\\PRG_330PythonProgramming\\python-programming\\.venv\\Lib\\site-packages\\sklearn\\metrics\\_regression.py:1211: UndefinedMetricWarning: R^2 score is not well-defined with less than two samples.\n",
      "  warnings.warn(msg, UndefinedMetricWarning)\n",
      "r:\\rishav_folder\\Present_assignment\\PRG_330PythonProgramming\\python-programming\\.venv\\Lib\\site-packages\\sklearn\\metrics\\_regression.py:1211: UndefinedMetricWarning: R^2 score is not well-defined with less than two samples.\n",
      "  warnings.warn(msg, UndefinedMetricWarning)\n"
     ]
    }
   ],
   "source": [
    "from sklearn.metrics import mean_absolute_error, mean_squared_error, r2_score\n",
    "import numpy as np\n",
    "\n",
    "# Linear Regression Evaluation\n",
    "mae_linear = mean_absolute_error(y_test, y_pred_linear)\n",
    "rmse_linear = np.sqrt(mean_squared_error(y_test, y_pred_linear))\n",
    "r2_linear = r2_score(y_test, y_pred_linear)\n",
    "\n",
    "# Random Forest Evaluation\n",
    "mae_rf = mean_absolute_error(y_test, y_pred_random_forest)\n",
    "rmse_rf = np.sqrt(mean_squared_error(y_test, y_pred_random_forest))\n",
    "r2_rf = r2_score(y_test, y_pred_random_forest)\n",
    "\n",
    "# Gradient Boosting Evaluation\n",
    "mae_gb = mean_absolute_error(y_test, y_pred_gradient_boosting)\n",
    "rmse_gb = np.sqrt(mean_squared_error(y_test, y_pred_gradient_boosting))\n",
    "r2_gb = r2_score(y_test, y_pred_gradient_boosting)"
   ]
  }
 ],
 "metadata": {
  "kernelspec": {
   "display_name": ".venv",
   "language": "python",
   "name": "python3"
  },
  "language_info": {
   "codemirror_mode": {
    "name": "ipython",
    "version": 3
   },
   "file_extension": ".py",
   "mimetype": "text/x-python",
   "name": "python",
   "nbconvert_exporter": "python",
   "pygments_lexer": "ipython3",
   "version": "3.12.6"
  }
 },
 "nbformat": 4,
 "nbformat_minor": 2
}
