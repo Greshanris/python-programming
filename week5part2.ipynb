{
 "cells": [
  {
   "cell_type": "markdown",
   "metadata": {},
   "source": [
    "# Machine Learning and Artificial Intelligence"
   ]
  },
  {
   "cell_type": "markdown",
   "metadata": {},
   "source": [
    "## Machine Learning\n",
    "- Machine Learning is a branch of artificial intelligence that enables algorithms to uncover hidden patterns within datasets, allowing them to make predictions to new, similar data without explicit programming for each task.\n",
    "\n",
    "### **Types of Machine learning**\n",
    "\n",
    "- Supervised Machine Learning\n",
    "    - **Regression:** *predicts continuous values*\n",
    "    - **Classification:** *Predicts Discrete Values (categories)*\n",
    "- Unsupervised Machine Learning\n",
    "    - **Clustering:** *Groups Similar data*\n",
    "    - **Dimensionality Reduction:** *From higher dimension to lower dimension*\n",
    "- Reinforcement Machine Learning: Reward and Punish way of training machine"
   ]
  },
  {
   "cell_type": "markdown",
   "metadata": {},
   "source": [
    "#### **Regression - Statistical Approach**\n",
    "- Regression is a statistical method used in economics, finance, investing, and other disciplines.\n",
    "- It attempts to determine the strength and character of the relationship between a dependent variable and one or more independent variables.\n",
    "\n",
    "**There are three basic types of regression**\n",
    "\n",
    "beta is y-intercept\n",
    "\n",
    "beta1 is the slope of the line\n",
    "\n",
    "y is dependent variable(predicted value, when independent variable is x)\n",
    "\n",
    "x is the independent variable\n",
    "\n",
    "- **Simple Linear Regression**\n",
    "``y = beta0 + beta1 * x + errorterm``\n",
    "\n",
    "- **Multiple Linear Regression**\n",
    "``y = beta0 + beta1 * x1 + beta2 * x2 + .... + betan * xn + errorterm``\n",
    "\n",
    "- **Polynomial Regression**\n",
    "``y = beta0 + beta1 * x^1 + .... + betan * x^n + errorterm``"
   ]
  },
  {
   "cell_type": "markdown",
   "metadata": {},
   "source": [
    "#### **Classification**\n",
    "\n",
    "- Classification is a supervised machine learning method where the model tries to predict the correct label of a given data.\n",
    "- In Classification, the model is fully trained using the training data, and then it is evaluated on test data before being used to perform predictions.\n",
    "\n",
    "##### **Naive Bayes Classifier**\n",
    "\n",
    "- It is a supervised machine-learning algorithm based on baye's theorem\n",
    "- The Naive Bayes classifier assumes that the effect of a particular feature in a class is independent of other features.\n",
    "- For example, a loan applicant is desirable or not depending on his/her income, previous loan and transaction history, age, and location. Even if these features are interdependent, these features are still considered independently.\n"
   ]
  },
  {
   "cell_type": "markdown",
   "metadata": {},
   "source": [
    "#### **Artificial Neural Network (ANN)**\n",
    "\n",
    "- ANN refers to a biologically inspired sub-field of Artificial Intelligence modeled after the brain. It is based on biological neural networks that construct the structure of the human brain.\n",
    "\n",
    "##### **ANN - A single Neuron**\n",
    "\n",
    "- A neuron in a neural network is a block of mathematical operations linking the entities.\n",
    "- In an ANN, a neuron takes inputs, adds some weights and biases to it\n",
    "\n",
    "\n",
    "https://medium.com/@tekrajpant224/deep-learning-concepts-mathematics-and-implementation-from-scratch-using-numpy-only-dac14e5945d1\n",
    "\n",
    "\n"
   ]
  }
 ],
 "metadata": {
  "kernelspec": {
   "display_name": "base",
   "language": "python",
   "name": "python3"
  },
  "language_info": {
   "name": "python",
   "version": "3.12.4"
  }
 },
 "nbformat": 4,
 "nbformat_minor": 2
}
