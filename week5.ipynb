{
 "cells": [
  {
   "cell_type": "markdown",
   "metadata": {},
   "source": [
    "# Week 5\n",
    "\n",
    "## Reshaping Array using Reshape method\n",
    "\n",
    "- Reshape array of size (m,n) to (m1,m2,n1), so that m1 x m2 x n1 = m x n"
   ]
  },
  {
   "cell_type": "code",
   "execution_count": 35,
   "metadata": {},
   "outputs": [
    {
     "name": "stdout",
     "output_type": "stream",
     "text": [
      "original array is [1 2 3 4 5 6]\n",
      "Reshaped array is :\n",
      "[[1 2 3]\n",
      " [4 5 6]]\n"
     ]
    }
   ],
   "source": [
    "import numpy as np\n",
    "\n",
    "# This is 1 x 1 array having 1 row and 1 column\n",
    "arr = np.array([1, 2, 3, 4, 5, 6])\n",
    "\n",
    "newarr = arr.reshape(2, 3) # 2 rows and 3 columns but total number of elements is same\n",
    "print(f\"original array is {arr}\")\n",
    "print(f\"Reshaped array is :\\n{newarr}\")"
   ]
  },
  {
   "cell_type": "markdown",
   "metadata": {},
   "source": [
    "## Flatten\n",
    "- multidimensional array to one-dimensional array"
   ]
  },
  {
   "cell_type": "code",
   "execution_count": 36,
   "metadata": {},
   "outputs": [
    {
     "name": "stdout",
     "output_type": "stream",
     "text": [
      "original array is [[1 2 3]\n",
      " [4 5 6]]\n",
      "flattened array is [1 2 3 4 5 6]\n"
     ]
    }
   ],
   "source": [
    "# Flatten array\n",
    "arr1 = np.array([[1, 2, 3], [4, 5, 6]]) # It is 2 x 3 array\n",
    "\n",
    "newarr1 = arr1.flatten()\n",
    "\n",
    "print(f\"original array is {arr1}\")\n",
    "print(f\"flattened array is {newarr1}\")"
   ]
  },
  {
   "cell_type": "markdown",
   "metadata": {},
   "source": [
    "## Numpy Array indexing and slicing\n",
    "### Basic Indexing\n",
    "- Indexing allows us to access the individual elements or subsets of data."
   ]
  },
  {
   "cell_type": "code",
   "execution_count": 37,
   "metadata": {},
   "outputs": [
    {
     "name": "stdout",
     "output_type": "stream",
     "text": [
      "(6,)\n",
      "first element is arr2 is 1\n",
      "last element is 6\n",
      "fourth element is 4\n",
      " \n",
      "Print dimension\n",
      "2\n",
      "print shape\n",
      "(3, 3)\n",
      "print total number of items\n",
      "9\n",
      "first row first element: 1\n",
      "last row last element: 9\n",
      "second row third element: 6\n",
      "third row second element: 8\n",
      " \n",
      "print dimesions\n",
      "3\n"
     ]
    }
   ],
   "source": [
    "# 1D array Indexing\n",
    "arr2 = np.array([1, 2, 3, 4, 5, 6])\n",
    "print(arr2.shape)\n",
    "\n",
    "print(f\"first element is arr2 is {arr[0]}\") # first element\n",
    "print(f\"last element is {arr2[-1]}\") # last element\n",
    "print(f\"fourth element is {arr2[3]}\") # fourth element\n",
    "print(\" \")\n",
    "\n",
    "# 2D array Indexing\n",
    "num_2d_array = np.array([\n",
    "    [1,2,3],\n",
    "    [4,5,6],\n",
    "    [7,8,9]\n",
    "])\n",
    "\n",
    "print(\"Print dimension\")\n",
    "print(num_2d_array.ndim)\n",
    "\n",
    "print(\"print shape\")\n",
    "print(num_2d_array.shape)\n",
    "\n",
    "print(\"print total number of items\")\n",
    "print(num_2d_array.size)\n",
    "\n",
    "print(f\"first row first element: {num_2d_array[0,0]}\")\n",
    "print(f\"last row last element: {num_2d_array[-1,-1]}\")\n",
    "print(f\"second row third element: {num_2d_array[1,2]}\")\n",
    "print(f\"third row second element: {num_2d_array[2,1]}\")\n",
    "print(\" \")\n",
    "\n",
    "# 3d array\n",
    "three_d_array = np.array([\n",
    "    [\n",
    "        [1,2], [3,4]\n",
    "    ],\n",
    "    [\n",
    "        [5,6], [7,8]\n",
    "    ]\n",
    "])\n",
    "print(\"print dimesions\")\n",
    "print(three_d_array.ndim)"
   ]
  },
  {
   "cell_type": "markdown",
   "metadata": {},
   "source": [
    "## Slicing in NumPy\n",
    "In Numpy, we can access the portion of an array using the slice operator:\n",
    "\n",
    "### 1D Array Slicing\n",
    "Syntax: ```array[start:stop:step]```"
   ]
  },
  {
   "cell_type": "code",
   "execution_count": 38,
   "metadata": {},
   "outputs": [
    {
     "name": "stdout",
     "output_type": "stream",
     "text": [
      "slicing from 3rd element to 6th element: [3 4 5 6]\n",
      "slicing with steps: [1 3 5]\n",
      "Using negative indexing slicing to show every second element from end to start: [11  9  7  5  3  1]\n"
     ]
    }
   ],
   "source": [
    "arr3 = np.array([1, 2, 3, 4, 5, 6, 7, 8, 9, 10, 11])\n",
    "\n",
    "# slice array from index 2-6 (6 exclusive)\n",
    "print(f\"slicing from 3rd element to 6th element: {arr3[2:6]}\")\n",
    "\n",
    "# slicing with steps\n",
    "print(f\"slicing with steps: {arr3[:6:2]}\")\n",
    "\n",
    "# negative index\n",
    "print(f\"Using negative indexing slicing to show every second element from end to start: {arr3[-1::-2]}\")"
   ]
  },
  {
   "cell_type": "markdown",
   "metadata": {},
   "source": [
    "### 2D array slicing\n",
    "Syntax: ```array[row_start:row_stop:row_step, col_start:col_stop:col_step]```"
   ]
  },
  {
   "cell_type": "code",
   "execution_count": 39,
   "metadata": {},
   "outputs": [
    {
     "name": "stdout",
     "output_type": "stream",
     "text": [
      "printing array dimension: 2\n",
      "Original array is: [[1 2 3]\n",
      " [4 5 6]\n",
      " [7 8 9]]\n",
      "slicing first row: [[1 2 3]]\n",
      "slicing array from first two rows and first two columns: [[1 2]\n",
      " [4 5]]\n"
     ]
    }
   ],
   "source": [
    "array_2d = np.array([\n",
    "    [1, 2, 3],\n",
    "    [4, 5, 6],\n",
    "    [7, 8, 9]\n",
    "])\n",
    "\n",
    "print(f\"printing array dimension: {array_2d.ndim}\")\n",
    "print(f\"Original array is: {array_2d}\")\n",
    "# slicing first row\n",
    "print(f\"slicing first row: {array_2d[0:1]}\")\n",
    "\n",
    "# slicing array from first two rows and first two columns\n",
    "print(f\"slicing array from first two rows and first two columns: {array_2d[0:2,0:2]}\")"
   ]
  },
  {
   "cell_type": "markdown",
   "metadata": {},
   "source": [
    "## Boolean Array Indexing\n",
    "Boolean array indexing allows us to select elements from an array based on conditions. This technique is helpful when we need to filter elements based on certain conditions"
   ]
  },
  {
   "cell_type": "code",
   "execution_count": 40,
   "metadata": {},
   "outputs": [
    {
     "name": "stdout",
     "output_type": "stream",
     "text": [
      "print elements greater than 15: [20 25 30]\n",
      "printing the elements that are even: [10 20 30]\n",
      "[ 5 10 15 99 99 99]\n",
      "[ 5 10 15 99 99 99]\n",
      "[[0 0 0]\n",
      " [0 0 0]]\n"
     ]
    }
   ],
   "source": [
    "# Generating an array\n",
    "arr4 = np.array([5, 10, 15, 20, 25, 30])\n",
    "\n",
    "# Selecting elements greater than 15\n",
    "print(f\"print elements greater than 15: {arr4[arr4 > 15]}\")\n",
    "\n",
    "# select elements that are even\n",
    "print(f\"printing the elements that are even: {arr4[arr4 % 2 == 0]}\")\n",
    "\n",
    "# Modifying elements that satisfy a condition\n",
    "arr4[arr4 > 15] = 99\n",
    "print(arr4)\n",
    "\n",
    "# Boolean indexing on a 2-dimensional array\n",
    "arr4_2d = arr4.reshape(2, 3)\n",
    "# Extracting elements greater than 4\n",
    "print(arr4_2d[arr4_2d > 4])\n",
    "\n",
    "# Setting elements greater than 4 to zero\n",
    "arr4_2d[arr4_2d > 4] = 0\n",
    "print(arr4_2d)\n",
    "\n"
   ]
  },
  {
   "cell_type": "markdown",
   "metadata": {},
   "source": [
    "## Numpy Arithmetic Operations"
   ]
  },
  {
   "cell_type": "code",
   "execution_count": 41,
   "metadata": {},
   "outputs": [
    {
     "name": "stdout",
     "output_type": "stream",
     "text": [
      "numpy addition: [5 9 9 9]\n",
      "numpy substraction: [ 1 -1  1  3]\n",
      "numpy multiplication: [ 6 20 20 18]\n",
      "numpy divide: [1.5  0.8  1.25 2.  ]\n",
      "numpy power: [ 9 16 25 36]\n",
      "numpy mod when divided by 3 to first array: [0 1 2 0]\n",
      "numpy power using second_array: [   9 1024  625  216]\n",
      "numpy modulus using second power: [1 4 1 0]\n"
     ]
    }
   ],
   "source": [
    "first_array = np.array([3, 4, 5, 6])\n",
    "second_array = np.array([2, 5, 4, 3])\n",
    "\n",
    "print(f\"numpy addition: {np.add(first_array, second_array)}\")\n",
    "print(f\"numpy substraction: {np.subtract(first_array, second_array)}\")\n",
    "print(f\"numpy multiplication: {np.multiply(first_array, second_array)}\")\n",
    "print(f\"numpy divide: {np.divide(first_array, second_array)}\")\n",
    "\n",
    "# array to the number\n",
    "print(f\"numpy power: {np.power(first_array, 2)}\") # element to the power 2\n",
    "print(f\"numpy mod when divided by 3 to first array: {np.mod(first_array, 3)}\")\n",
    "\n",
    "# array to the second array\n",
    "print(f\"numpy power using second_array: {np.power(first_array, second_array)}\")\n",
    "print(f\"numpy modulus using second power: {np.mod(first_array, second_array)}\")"
   ]
  },
  {
   "cell_type": "markdown",
   "metadata": {},
   "source": [
    "## Numpy Broadcasting\n",
    "- Broadcasting in Numpy allows it to perform arithmetic operations on arrays with different shapes"
   ]
  },
  {
   "cell_type": "code",
   "execution_count": 42,
   "metadata": {},
   "outputs": [
    {
     "name": "stdout",
     "output_type": "stream",
     "text": [
      "broadcast_array: [1 4 2 5 9]\n",
      "broadcast_array2: 4\n",
      "This is element wise multiplication(not a matrix multiplication): [ 4 16  8 20 36]\n"
     ]
    }
   ],
   "source": [
    "broadcast_array = np.array([1, 4, 2, 5, 9])\n",
    "broadcast_array2 = np.array(4)\n",
    "\n",
    "print(f\"broadcast_array: {broadcast_array}\")\n",
    "print(f\"broadcast_array2: {broadcast_array2}\")\n",
    "# multiply\n",
    "multiply = np.multiply(broadcast_array, broadcast_array2)\n",
    "print(f\"This is element wise multiplication(not a matrix multiplication): {multiply}\")\n",
    "\n"
   ]
  },
  {
   "cell_type": "markdown",
   "metadata": {},
   "source": [
    "## Numpy Array Functions\n",
    "Numpy has various built-in functions for various purposes:\n",
    "- Array Creation Functions: ```np.array(), np.zeros(), np.ones(), np.empty()```\n",
    "- Manipulation functions: ```np.reshape(), np.transpose()```\n",
    "- Mathematical Functions: ```np.add(), np.substract(), np.sqrt(), np.power()```\n",
    "- Statistical Functions: ```np.median(), np.mean(), np.std(), np.var()```\n"
   ]
  },
  {
   "cell_type": "code",
   "execution_count": 43,
   "metadata": {},
   "outputs": [
    {
     "name": "stdout",
     "output_type": "stream",
     "text": [
      "data: [1 3 4 5 2 5]\n",
      "data2: [[1 3 4]\n",
      " [5 2 5]]\n",
      "mean on data: 3.3333333333333335\n",
      "median on data: 3.5\n",
      "transposing using data2: [[1 5]\n",
      " [3 2]\n",
      " [4 5]]\n",
      "standard deviation: 1.4907119849998598\n",
      "var usage: 2.2222222222222223\n"
     ]
    }
   ],
   "source": [
    "data = np.array([1, 3, 4, 5, 2, 5])\n",
    "data2 = data.reshape(2,3)\n",
    "print(f\"data: {data}\")\n",
    "print(f\"data2: {data2}\")\n",
    "\n",
    "print(f\"mean on data: {np.mean(data)}\")\n",
    "print(f\"median on data: {np.median(data)}\")\n",
    "print(f\"transposing using data2: {np.transpose(data2)}\")\n",
    "print(f\"standard deviation: {np.std(data)}\")\n",
    "print(f\"var usage: {np.var(data)}\")\n"
   ]
  },
  {
   "cell_type": "code",
   "execution_count": 44,
   "metadata": {},
   "outputs": [
    {
     "name": "stdout",
     "output_type": "stream",
     "text": [
      "square root of each element in [1, 2, 3, 4, 5]: \n",
      "[1.         1.41421356 1.73205081 2.         2.23606798]\n",
      "\n",
      "square of each element in [1, 2, 3, 4, 5]: \n",
      "[ 1  4  9 16 25]\n",
      "\n",
      "mean of [ 30  40  50  60  20  50 100  90]: \n",
      "55.0\n",
      "\n",
      "median of [ 30  40  50  60  20  50 100  90]: \n",
      "50.0\n",
      "\n"
     ]
    }
   ],
   "source": [
    "numbers = [1,2,3,4,5]\n",
    "\n",
    "# Mathematical Operations\n",
    "\n",
    "# Square root\n",
    "sqrt_numbers = np.sqrt(numbers)\n",
    "print(f\"square root of each element in {numbers}: \\n{sqrt_numbers}\")\n",
    "print(\"\")\n",
    "\n",
    "# Square\n",
    "square_numbers = np.square(numbers)\n",
    "print(f\"square of each element in {numbers}: \\n{square_numbers}\")\n",
    "print(\"\")\n",
    "\n",
    "# Statistical Functions\n",
    "\n",
    "students_marks = np.array([30,40,50,60,20,50,100,90])\n",
    "\n",
    "# mean\n",
    "mean_marks = np.mean(students_marks)\n",
    "print(f\"mean of {students_marks}: \\n{mean_marks}\")\n",
    "print(\"\")\n",
    "\n",
    "# median\n",
    "median_marks = np.median(students_marks)\n",
    "print(f\"median of {students_marks}: \\n{median_marks}\")\n",
    "print(\"\")"
   ]
  },
  {
   "cell_type": "markdown",
   "metadata": {},
   "source": [
    "## Numpy Matrix Operations\n",
    "\n",
    "- Matrix multiplication: ``np.matmul()``\n",
    "- Dot Product: ``np.dot()``\n",
    "- "
   ]
  },
  {
   "cell_type": "code",
   "execution_count": 45,
   "metadata": {},
   "outputs": [
    {
     "name": "stdout",
     "output_type": "stream",
     "text": [
      "first matrix: [[1 3 4]\n",
      " [5 3 1]\n",
      " [3 5 7]], \n",
      "second matrix: [[2 6 7]\n",
      " [4 4 7]\n",
      " [2 5 8]]\n",
      "Matrix Multiplication: [[ 22  38  60]\n",
      " [ 24  47  64]\n",
      " [ 40  73 112]]\n",
      "\n",
      "vec1: [1, 2, 3] \n",
      "vec2:[4, 5, 6]\n",
      "Dot Product: 32\n",
      "\n",
      "Cross product: [-3  6 -3]\n"
     ]
    }
   ],
   "source": [
    "numpy_3d_array = np.array([\n",
    "    [\n",
    "    [1, 2, 4], [7, 3, 9],\n",
    "    ],\n",
    "    [\n",
    "        [3, 8, 3], [3, 1, 4]\n",
    "    ],\n",
    "    [\n",
    "        [3, 5, 7], [4, 8, 6]\n",
    "    ]\n",
    "])\n",
    "\n",
    "# Matrix multiplication\n",
    "\n",
    "numpy_first_array = np.array([\n",
    "    [1, 3, 4],\n",
    "    [5, 3, 1],\n",
    "    [3, 5, 7]\n",
    "])\n",
    "\n",
    "numpy_second_array = np.array([\n",
    "    [2, 6, 7],\n",
    "    [4, 4, 7],\n",
    "    [2, 5, 8]\n",
    "])\n",
    "\n",
    "print(f\"first matrix: {numpy_first_array}, \\nsecond matrix: {numpy_second_array}\")\n",
    "matrix_multiplication = np.matmul(numpy_first_array, numpy_second_array)\n",
    "print(f\"Matrix Multiplication: {matrix_multiplication}\")\n",
    "print(f\"\")\n",
    "\n",
    "# Dot product\n",
    "\n",
    "vec1 = [1,2,3]\n",
    "vec2 = [4,5,6]\n",
    "\n",
    "print(f\"vec1: {vec1} \\nvec2:{vec2}\")\n",
    "dot_product = np.dot(vec1, vec2)\n",
    "''' Dot product: A vector . B vector = |A||B|cos(thita)     , [since, |A| = (x1, y1, z1) and |B| = (x2, y2, z2)]\n",
    "                                    = root under(x1^2 + y1^2 + z1^2) * root under(x2^2 + y2^2 + z2^2)\n",
    "From here we can understand, \n",
    "cos(thita) = (A.B) / |A|.|B|\n",
    "\n",
    "if the thita value is greater, similarity is lesser.\n",
    "if the thita value is smaller, similarity is greater.\n",
    "'''\n",
    "# Dot product output is always scalar\n",
    "print(f\"Dot Product: {dot_product}\")\n",
    "print(f\"\")\n",
    "\n",
    "# Cross product\n",
    "\n",
    "cross_product = np.cross(vec1, vec2)\n",
    "# Cross product output is always vector\n",
    "print(f\"Cross product: {cross_product}\")"
   ]
  },
  {
   "cell_type": "markdown",
   "metadata": {},
   "source": [
    "## Misc. Mathematical Functional\n",
    "- Trignometric: sin(), cos(), tan(), cot(), sec(), cosec(), tangent()\n",
    "- Hyperbolic: sineh(), "
   ]
  },
  {
   "cell_type": "code",
   "execution_count": 46,
   "metadata": {},
   "outputs": [
    {
     "data": {
      "image/png": "[encoded data removed]",
      "text/plain": [
       "<Figure size 1000x500 with 1 Axes>"
      ]
     },
     "metadata": {},
     "output_type": "display_data"
    }
   ],
   "source": [
    "import numpy as np\n",
    "import matplotlib.pyplot as plt\n",
    "\n",
    "# Generate x values\n",
    "# linspace generates an array of evenly spaced values over specifid range\n",
    "# syntax: np.linspace(start, stop, num)\n",
    "x = np.linspace(-2*np.pi, 2* np.pi, 100)\n",
    "\n",
    "# Generate y values\n",
    "y_sin = np.sin(x)\n",
    "\n",
    "# Create the plot\n",
    "plt.figure(figsize=(10, 5))\n",
    "\n",
    "# Plot the sine curve and its opposite phase\n",
    "plt.plot(x, y_sin, label=\"Sine Curve\", color=\"blue\")\n",
    "plt.title(\"Sine Curve\")\n",
    "plt.xlabel(\"x(Array from -2*pi to 2*pi with evenly spaced on 100)\")\n",
    "plt.ylabel(\"y = sin(x)\")\n",
    "plt.legend()\n",
    "\n",
    "plt.grid(True)\n",
    "plt.show()"
   ]
  },
  {
   "cell_type": "markdown",
   "metadata": {},
   "source": [
    "## Find out the similarity between following two sentences using cosine similarity\n",
    "\n",
    "- sky is blue\n",
    "- Ocean is Blue\n",
    "\n",
    "Use TD-IDF Algorithm to vectorize the sentences\n",
    "\n",
    "``TF (t) = total number of occurence of term t in sentence (doc) / total length of words in sentence(Doc)``\n",
    "\n",
    "``IDF(t) = log(total sentence (doc) length) / no of documents contain term t``\n",
    "\n",
    "``tf-idf score = tf * idf``"
   ]
  },
  {
   "cell_type": "code",
   "execution_count": 51,
   "metadata": {},
   "outputs": [
    {
     "name": "stdout",
     "output_type": "stream",
     "text": [
      "1.0\n"
     ]
    }
   ],
   "source": [
    "import numpy as np\n",
    "\n",
    "sentence1 = \"where are you\"\n",
    "sentence2 = \"Ocean is Blue\"\n",
    "\n",
    "sentence1 = sentence1.lower()\n",
    "sentence2 = sentence2.lower()\n",
    "# Creation of function\n",
    "# TF = Term Frequency\n",
    "# IDF = Inverse Document Frequency\n",
    "# IDF measures how unique or rare a word is across multiple documents.\n",
    "# if a word is common across all documents, its IDF will be lower.\n",
    "# if a word appears in only one or a few documents, its IDF will be higher.\n",
    "# combining  TF and IDF gives score that reflects how important a word in a sentence/document relative to the entire corpus\n",
    "\n",
    "def tf_idf_vectorizer(word, sentence):\n",
    "    tf = sentence.count(word) /len(sentence.split())\n",
    "\n",
    "    total_doc_size = 2\n",
    "    idf = np.log1p(total_doc_size / (1 if word in sentence1 else 0 + 1 if word in sentence2 else 0))\n",
    "    return tf * idf\n",
    "\n",
    "\n",
    "vec1 = [tf_idf_vectorizer(word,sentence1) for word in sentence1.split()]\n",
    "vec2 = [tf_idf_vectorizer(word,sentence2) for word in sentence2.split()]\n",
    "\n",
    "similarity = np.dot(vec1, vec2) / (np.linalg.norm(vec1) * np.linalg.norm(vec2))\n",
    "print(similarity)\n"
   ]
  },
  {
   "cell_type": "markdown",
   "metadata": {},
   "source": [
    "## Simple linear regression\n",
    "\n",
    "x(Price) = 10,12,13,12,16,15\n",
    "\n",
    "y(Sales) = 40, 38, 43, 45, 37, 43\n",
    "\n",
    "( in copy)\n",
    "\n",
    "Predict Sales when price = 20\n",
    "\n",
    "we will use linear regression here,\n",
    "\n",
    "when, x= 20(price), find y(Sales)\n",
    "\n",
    "y = m * x + c\n",
    "\n",
    "To find m and c,\n",
    "see direct formula for m and direct formula for c"
   ]
  },
  {
   "cell_type": "code",
   "execution_count": null,
   "metadata": {},
   "outputs": [],
   "source": []
  }
 ],
 "metadata": {
  "kernelspec": {
   "display_name": "base",
   "language": "python",
   "name": "python3"
  },
  "language_info": {
   "codemirror_mode": {
    "name": "ipython",
    "version": 3
   },
   "file_extension": ".py",
   "mimetype": "text/x-python",
   "name": "python",
   "nbconvert_exporter": "python",
   "pygments_lexer": "ipython3",
   "version": "3.12.4"
  }
 },
 "nbformat": 4,
 "nbformat_minor": 2
}
