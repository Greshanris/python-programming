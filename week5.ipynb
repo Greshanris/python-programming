{
 "cells": [
  {
   "cell_type": "markdown",
   "metadata": {},
   "source": [
    "# Week 5\n",
    "\n",
    "## Reshaping Array using Reshape method\n",
    "\n",
    "- Reshape array of size (m,n) to (m1,m2,n1), so that m1 x m2 x n1 = m x n"
   ]
  },
  {
   "cell_type": "code",
   "execution_count": 1,
   "metadata": {},
   "outputs": [
    {
     "name": "stdout",
     "output_type": "stream",
     "text": [
      "original array is [1 2 3 4 5 6]\n",
      "Reshaped array is :\n",
      "[[1 2 3]\n",
      " [4 5 6]]\n"
     ]
    }
   ],
   "source": [
    "import numpy as np\n",
    "\n",
    "# This is 1 x 1 array having 1 row and 1 column\n",
    "arr = np.array([1, 2, 3, 4, 5, 6])\n",
    "\n",
    "newarr = arr.reshape(2, 3) # 2 rows and 3 columns but total number of elements is same\n",
    "print(f\"original array is {arr}\")\n",
    "print(f\"Reshaped array is :\\n{newarr}\")"
   ]
  },
  {
   "cell_type": "markdown",
   "metadata": {},
   "source": [
    "## Flatten\n",
    "- multidimensional array to one-dimensional array"
   ]
  },
  {
   "cell_type": "code",
   "execution_count": 2,
   "metadata": {},
   "outputs": [
    {
     "name": "stdout",
     "output_type": "stream",
     "text": [
      "original array is [[1 2 3]\n",
      " [4 5 6]]\n",
      "flattened array is [1 2 3 4 5 6]\n"
     ]
    }
   ],
   "source": [
    "# Flatten array\n",
    "arr1 = np.array([[1, 2, 3], [4, 5, 6]]) # It is 2 x 3 array\n",
    "\n",
    "newarr1 = arr1.flatten()\n",
    "\n",
    "print(f\"original array is {arr1}\")\n",
    "print(f\"flattened array is {newarr1}\")"
   ]
  },
  {
   "cell_type": "markdown",
   "metadata": {},
   "source": [
    "## Numpy Array indexing and slicing\n",
    "### Basic Indexing\n",
    "- Indexing allows us to access the individual elements or subsets of data."
   ]
  },
  {
   "cell_type": "code",
   "execution_count": 3,
   "metadata": {},
   "outputs": [
    {
     "name": "stdout",
     "output_type": "stream",
     "text": [
      "(6,)\n",
      "first element is arr2 is 1\n",
      "last element is 6\n",
      "fourth element is 4\n",
      " \n",
      "Print dimension\n",
      "2\n",
      "print shape\n",
      "(3, 3)\n",
      "print total number of items\n",
      "9\n",
      "first row first element: 1\n",
      "last row last element: 9\n",
      "second row third element: 6\n",
      "third row second element: 8\n",
      " \n",
      "print dimesions\n",
      "3\n"
     ]
    }
   ],
   "source": [
    "# 1D array Indexing\n",
    "arr2 = np.array([1, 2, 3, 4, 5, 6])\n",
    "print(arr2.shape)\n",
    "\n",
    "print(f\"first element is arr2 is {arr[0]}\") # first element\n",
    "print(f\"last element is {arr2[-1]}\") # last element\n",
    "print(f\"fourth element is {arr2[3]}\") # fourth element\n",
    "print(\" \")\n",
    "\n",
    "# 2D array Indexing\n",
    "num_2d_array = np.array([\n",
    "    [1,2,3],\n",
    "    [4,5,6],\n",
    "    [7,8,9]\n",
    "])\n",
    "\n",
    "print(\"Print dimension\")\n",
    "print(num_2d_array.ndim)\n",
    "\n",
    "print(\"print shape\")\n",
    "print(num_2d_array.shape)\n",
    "\n",
    "print(\"print total number of items\")\n",
    "print(num_2d_array.size)\n",
    "\n",
    "print(f\"first row first element: {num_2d_array[0,0]}\")\n",
    "print(f\"last row last element: {num_2d_array[-1,-1]}\")\n",
    "print(f\"second row third element: {num_2d_array[1,2]}\")\n",
    "print(f\"third row second element: {num_2d_array[2,1]}\")\n",
    "print(\" \")\n",
    "\n",
    "# 3d array\n",
    "three_d_array = np.array([\n",
    "    [\n",
    "        [1,2], [3,4]\n",
    "    ],\n",
    "    [\n",
    "        [5,6], [7,8]\n",
    "    ]\n",
    "])\n",
    "print(\"print dimesions\")\n",
    "print(three_d_array.ndim)"
   ]
  },
  {
   "cell_type": "markdown",
   "metadata": {},
   "source": [
    "## Slicing in NumPy\n",
    "In Numpy, we can access the portion of an array using the slice operator:\n",
    "\n",
    "### 1D Array Slicing\n",
    "Syntax: ```array[start:stop:step]```"
   ]
  },
  {
   "cell_type": "code",
   "execution_count": 4,
   "metadata": {},
   "outputs": [
    {
     "name": "stdout",
     "output_type": "stream",
     "text": [
      "slicing from 3rd element to 6th element: [3 4 5 6]\n",
      "slicing with steps: [1 3 5]\n",
      "Using negative indexing slicing to show every second element from end to start: [11  9  7  5  3  1]\n"
     ]
    }
   ],
   "source": [
    "arr3 = np.array([1, 2, 3, 4, 5, 6, 7, 8, 9, 10, 11])\n",
    "\n",
    "# slice array from index 2-6 (6 exclusive)\n",
    "print(f\"slicing from 3rd element to 6th element: {arr3[2:6]}\")\n",
    "\n",
    "# slicing with steps\n",
    "print(f\"slicing with steps: {arr3[:6:2]}\")\n",
    "\n",
    "# negative index\n",
    "print(f\"Using negative indexing slicing to show every second element from end to start: {arr3[-1::-2]}\")"
   ]
  },
  {
   "cell_type": "markdown",
   "metadata": {},
   "source": [
    "### 2D array slicing\n",
    "Syntax: ```array[row_start:row_stop:row_step, col_start:col_stop:col_step]```"
   ]
  },
  {
   "cell_type": "code",
   "execution_count": 8,
   "metadata": {},
   "outputs": [
    {
     "name": "stdout",
     "output_type": "stream",
     "text": [
      "printing array dimension: 2\n",
      "Original array is: [[1 2 3]\n",
      " [4 5 6]\n",
      " [7 8 9]]\n",
      "slicing first row: [[1 2 3]]\n",
      "slicing array from first two rows and first two columns: [[1 2]\n",
      " [4 5]]\n"
     ]
    }
   ],
   "source": [
    "array_2d = np.array([\n",
    "    [1, 2, 3],\n",
    "    [4, 5, 6],\n",
    "    [7, 8, 9]\n",
    "])\n",
    "\n",
    "print(f\"printing array dimension: {array_2d.ndim}\")\n",
    "print(f\"Original array is: {array_2d}\")\n",
    "# slicing first row\n",
    "print(f\"slicing first row: {array_2d[0:1]}\")\n",
    "\n",
    "# slicing array from first two rows and first two columns\n",
    "print(f\"slicing array from first two rows and first two columns: {array_2d[0:2,0:2]}\")"
   ]
  },
  {
   "cell_type": "markdown",
   "metadata": {},
   "source": [
    "## Boolean Array Indexing\n",
    "Boolean array indexing allows us to select elements from an array based on conditions. This technique is helpful when we need to filter elements based on certain conditions"
   ]
  },
  {
   "cell_type": "code",
   "execution_count": 10,
   "metadata": {},
   "outputs": [
    {
     "name": "stdout",
     "output_type": "stream",
     "text": [
      "print elements greater than 15: [20 25 30]\n",
      "printing the elements that are even: [10 20 30]\n",
      "[ 5 10 15 99 99 99]\n",
      "[ 5 10 15 99 99 99]\n",
      "[[0 0 0]\n",
      " [0 0 0]]\n"
     ]
    }
   ],
   "source": [
    "# Generating an array\n",
    "arr4 = np.array([5, 10, 15, 20, 25, 30])\n",
    "\n",
    "# Selecting elements greater than 15\n",
    "print(f\"print elements greater than 15: {arr4[arr4 > 15]}\")\n",
    "\n",
    "# select elements that are even\n",
    "print(f\"printing the elements that are even: {arr4[arr4 % 2 == 0]}\")\n",
    "\n",
    "# Modifying elements that satisfy a condition\n",
    "arr4[arr4 > 15] = 99\n",
    "print(arr4)\n",
    "\n",
    "# Boolean indexing on a 2-dimensional array\n",
    "arr4_2d = arr4.reshape(2, 3)\n",
    "# Extracting elements greater than 4\n",
    "print(arr4_2d[arr4_2d > 4])\n",
    "\n",
    "# Setting elements greater than 4 to zero\n",
    "arr4_2d[arr4_2d > 4] = 0\n",
    "print(arr4_2d)\n",
    "\n"
   ]
  },
  {
   "cell_type": "markdown",
   "metadata": {},
   "source": [
    "## Numpy Arithmetic Operations"
   ]
  },
  {
   "cell_type": "code",
   "execution_count": 18,
   "metadata": {},
   "outputs": [
    {
     "name": "stdout",
     "output_type": "stream",
     "text": [
      "numpy addition: [5 9 9 9]\n",
      "numpy substraction: [ 1 -1  1  3]\n",
      "numpy multiplication: [ 6 20 20 18]\n",
      "numpy divide: [1.5  0.8  1.25 2.  ]\n",
      "numpy power: [ 9 16 25 36]\n",
      "numpy mod when divided by 3 to first array: [0 1 2 0]\n",
      "numpy power using second_array: [   9 1024  625  216]\n",
      "numpy modulus using second power: [1 4 1 0]\n"
     ]
    }
   ],
   "source": [
    "first_array = np.array([3, 4, 5, 6])\n",
    "second_array = np.array([2, 5, 4, 3])\n",
    "\n",
    "print(f\"numpy addition: {np.add(first_array, second_array)}\")\n",
    "print(f\"numpy substraction: {np.subtract(first_array, second_array)}\")\n",
    "print(f\"numpy multiplication: {np.multiply(first_array, second_array)}\")\n",
    "print(f\"numpy divide: {np.divide(first_array, second_array)}\")\n",
    "\n",
    "# array to the number\n",
    "print(f\"numpy power: {np.power(first_array, 2)}\") # element to the power 2\n",
    "print(f\"numpy mod when divided by 3 to first array: {np.mod(first_array, 3)}\")\n",
    "\n",
    "# array to the second array\n",
    "print(f\"numpy power using second_array: {np.power(first_array, second_array)}\")\n",
    "print(f\"numpy modulus using second power: {np.mod(first_array, second_array)}\")"
   ]
  }
 ],
 "metadata": {
  "kernelspec": {
   "display_name": "base",
   "language": "python",
   "name": "python3"
  },
  "language_info": {
   "codemirror_mode": {
    "name": "ipython",
    "version": 3
   },
   "file_extension": ".py",
   "mimetype": "text/x-python",
   "name": "python",
   "nbconvert_exporter": "python",
   "pygments_lexer": "ipython3",
   "version": "3.12.4"
  }
 },
 "nbformat": 4,
 "nbformat_minor": 2
}
