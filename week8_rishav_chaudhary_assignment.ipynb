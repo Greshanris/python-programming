{
 "cells": [
  {
   "cell_type": "markdown",
   "metadata": {},
   "source": [
    "# Week 8 Assignment\n",
    "\n",
    "\n",
    "Rishav Chaudhary\n",
    "\n",
    "Presidential Graduate School, Kathmandu, Nepal\n",
    "\n",
    "PRG 330: Python Programming for Data\n",
    "\n",
    "Professor Tek Raj Panta\n",
    "\n",
    "December 11, 2024"
   ]
  },
  {
   "cell_type": "markdown",
   "metadata": {},
   "source": [
    "# GDP Growth Predicion\n",
    "\n",
    "## Objective\n",
    "**Predict Nepal's Growth based on economic indicators**\n",
    "\n",
    "## Loading and Exploring Data"
   ]
  },
  {
   "cell_type": "markdown",
   "metadata": {},
   "source": [
    "### GDP"
   ]
  },
  {
   "cell_type": "code",
   "execution_count": 2,
   "metadata": {},
   "outputs": [
    {
     "data": {
      "text/html": [
       "<div>\n",
       "<style scoped>\n",
       "    .dataframe tbody tr th:only-of-type {\n",
       "        vertical-align: middle;\n",
       "    }\n",
       "\n",
       "    .dataframe tbody tr th {\n",
       "        vertical-align: top;\n",
       "    }\n",
       "\n",
       "    .dataframe thead th {\n",
       "        text-align: right;\n",
       "    }\n",
       "</style>\n",
       "<table border=\"1\" class=\"dataframe\">\n",
       "  <thead>\n",
       "    <tr style=\"text-align: right;\">\n",
       "      <th></th>\n",
       "      <th>Year</th>\n",
       "      <th>GDP</th>\n",
       "      <th>Per Capita</th>\n",
       "      <th>Growth</th>\n",
       "      <th>Trade Balance (USD Billion)</th>\n",
       "      <th>% of GDP</th>\n",
       "      <th>Contribution of Manufactoring Industry to GDP</th>\n",
       "      <th>No of People Going for Foreign Employment</th>\n",
       "    </tr>\n",
       "  </thead>\n",
       "  <tbody>\n",
       "    <tr>\n",
       "      <th>0</th>\n",
       "      <td>1965</td>\n",
       "      <td>0.735267</td>\n",
       "      <td>67.0075</td>\n",
       "      <td>-1.2032</td>\n",
       "      <td>-0.045282</td>\n",
       "      <td>-6.1585</td>\n",
       "      <td>3.284541</td>\n",
       "      <td>0</td>\n",
       "    </tr>\n",
       "    <tr>\n",
       "      <th>1</th>\n",
       "      <td>1966</td>\n",
       "      <td>0.906812</td>\n",
       "      <td>81.1644</td>\n",
       "      <td>7.0406</td>\n",
       "      <td>-0.028219</td>\n",
       "      <td>-3.1119</td>\n",
       "      <td>3.430308</td>\n",
       "      <td>0</td>\n",
       "    </tr>\n",
       "    <tr>\n",
       "      <th>2</th>\n",
       "      <td>1967</td>\n",
       "      <td>0.841974</td>\n",
       "      <td>73.9679</td>\n",
       "      <td>-1.5715</td>\n",
       "      <td>-0.000656</td>\n",
       "      <td>-0.0779</td>\n",
       "      <td>3.413874</td>\n",
       "      <td>0</td>\n",
       "    </tr>\n",
       "    <tr>\n",
       "      <th>3</th>\n",
       "      <td>1968</td>\n",
       "      <td>0.772229</td>\n",
       "      <td>66.5489</td>\n",
       "      <td>0.6755</td>\n",
       "      <td>-0.005060</td>\n",
       "      <td>-0.6552</td>\n",
       "      <td>3.568939</td>\n",
       "      <td>0</td>\n",
       "    </tr>\n",
       "    <tr>\n",
       "      <th>4</th>\n",
       "      <td>1969</td>\n",
       "      <td>0.788642</td>\n",
       "      <td>66.6383</td>\n",
       "      <td>4.4634</td>\n",
       "      <td>-0.025284</td>\n",
       "      <td>-3.2060</td>\n",
       "      <td>3.844709</td>\n",
       "      <td>0</td>\n",
       "    </tr>\n",
       "  </tbody>\n",
       "</table>\n",
       "</div>"
      ],
      "text/plain": [
       "   Year       GDP  Per Capita  Growth  Trade Balance (USD Billion)  % of GDP  \\\n",
       "0  1965  0.735267     67.0075 -1.2032                    -0.045282   -6.1585   \n",
       "1  1966  0.906812     81.1644  7.0406                    -0.028219   -3.1119   \n",
       "2  1967  0.841974     73.9679 -1.5715                    -0.000656   -0.0779   \n",
       "3  1968  0.772229     66.5489  0.6755                    -0.005060   -0.6552   \n",
       "4  1969  0.788642     66.6383  4.4634                    -0.025284   -3.2060   \n",
       "\n",
       "   Contribution of Manufactoring Industry to GDP  \\\n",
       "0                                       3.284541   \n",
       "1                                       3.430308   \n",
       "2                                       3.413874   \n",
       "3                                       3.568939   \n",
       "4                                       3.844709   \n",
       "\n",
       "   No of People Going for Foreign Employment  \n",
       "0                                          0  \n",
       "1                                          0  \n",
       "2                                          0  \n",
       "3                                          0  \n",
       "4                                          0  "
      ]
     },
     "metadata": {},
     "output_type": "display_data"
    }
   ],
   "source": [
    "import pandas as pd\n",
    "from IPython.display import display\n",
    "import numpy as np\n",
    "\n",
    "# Loading Data\n",
    "gdp = pd.read_excel(\"data/macro-economic-indicators/GDP.xlsx\")\n",
    "\n",
    "display(gdp.head())"
   ]
  },
  {
   "cell_type": "code",
   "execution_count": 3,
   "metadata": {},
   "outputs": [
    {
     "name": "stdout",
     "output_type": "stream",
     "text": [
      "<class 'pandas.core.frame.DataFrame'>\n",
      "RangeIndex: 57 entries, 0 to 56\n",
      "Data columns (total 8 columns):\n",
      " #   Column                                         Non-Null Count  Dtype  \n",
      "---  ------                                         --------------  -----  \n",
      " 0   Year                                           57 non-null     int64  \n",
      " 1   GDP                                            57 non-null     float64\n",
      " 2   Per Capita                                     57 non-null     float64\n",
      " 3   Growth                                         57 non-null     float64\n",
      " 4   Trade Balance (USD Billion)                    57 non-null     float64\n",
      " 5   % of GDP                                       57 non-null     float64\n",
      " 6   Contribution of Manufactoring Industry to GDP  57 non-null     float64\n",
      " 7   No of People Going for Foreign Employment      57 non-null     int64  \n",
      "dtypes: float64(6), int64(2)\n",
      "memory usage: 3.7 KB\n",
      "None\n"
     ]
    }
   ],
   "source": [
    "print(gdp.info())"
   ]
  },
  {
   "cell_type": "markdown",
   "metadata": {},
   "source": [
    "### Inflation"
   ]
  },
  {
   "cell_type": "code",
   "execution_count": 4,
   "metadata": {},
   "outputs": [
    {
     "data": {
      "text/html": [
       "<div>\n",
       "<style scoped>\n",
       "    .dataframe tbody tr th:only-of-type {\n",
       "        vertical-align: middle;\n",
       "    }\n",
       "\n",
       "    .dataframe tbody tr th {\n",
       "        vertical-align: top;\n",
       "    }\n",
       "\n",
       "    .dataframe thead th {\n",
       "        text-align: right;\n",
       "    }\n",
       "</style>\n",
       "<table border=\"1\" class=\"dataframe\">\n",
       "  <thead>\n",
       "    <tr style=\"text-align: right;\">\n",
       "      <th></th>\n",
       "      <th>Year</th>\n",
       "      <th>Month</th>\n",
       "      <th>Index</th>\n",
       "      <th>Change</th>\n",
       "    </tr>\n",
       "  </thead>\n",
       "  <tbody>\n",
       "    <tr>\n",
       "      <th>0</th>\n",
       "      <td>2017.0</td>\n",
       "      <td>July</td>\n",
       "      <td>118.3</td>\n",
       "      <td>2.3</td>\n",
       "    </tr>\n",
       "    <tr>\n",
       "      <th>1</th>\n",
       "      <td>2017.0</td>\n",
       "      <td>August</td>\n",
       "      <td>119.4</td>\n",
       "      <td>3.4</td>\n",
       "    </tr>\n",
       "    <tr>\n",
       "      <th>2</th>\n",
       "      <td>2017.0</td>\n",
       "      <td>September</td>\n",
       "      <td>119.2</td>\n",
       "      <td>3.1</td>\n",
       "    </tr>\n",
       "    <tr>\n",
       "      <th>3</th>\n",
       "      <td>2017.0</td>\n",
       "      <td>October</td>\n",
       "      <td>120.6</td>\n",
       "      <td>3.9</td>\n",
       "    </tr>\n",
       "    <tr>\n",
       "      <th>4</th>\n",
       "      <td>2017.0</td>\n",
       "      <td>November</td>\n",
       "      <td>119.9</td>\n",
       "      <td>4.2</td>\n",
       "    </tr>\n",
       "  </tbody>\n",
       "</table>\n",
       "</div>"
      ],
      "text/plain": [
       "     Year      Month  Index  Change\n",
       "0  2017.0       July  118.3     2.3\n",
       "1  2017.0     August  119.4     3.4\n",
       "2  2017.0  September  119.2     3.1\n",
       "3  2017.0    October  120.6     3.9\n",
       "4  2017.0   November  119.9     4.2"
      ]
     },
     "metadata": {},
     "output_type": "display_data"
    }
   ],
   "source": [
    "import pandas as pd\n",
    "\n",
    "inflation = pd.read_excel('data/macro-economic-indicators/Inflation.xlsx')\n",
    "display(inflation.head())\n"
   ]
  },
  {
   "cell_type": "markdown",
   "metadata": {},
   "source": [
    "## Data Preprocessing and Data Cleaning"
   ]
  },
  {
   "cell_type": "markdown",
   "metadata": {},
   "source": [
    "### Handling missing values in inflation"
   ]
  },
  {
   "cell_type": "code",
   "execution_count": 5,
   "metadata": {},
   "outputs": [
    {
     "name": "stdout",
     "output_type": "stream",
     "text": [
      "Invalid or missing 'Year' values found:\n",
      "    Year Month  Index  Change\n",
      "12   NaN   NaN    NaN     NaN\n",
      "25   NaN   NaN    NaN     NaN\n",
      "38   NaN   NaN    NaN     NaN\n",
      "64   NaN   NaN    NaN     NaN\n"
     ]
    }
   ],
   "source": [
    "invalid_years = inflation['Year'].isna() | ~inflation['Year'].apply(lambda x: str(x).replace('.', '').isdigit())\n",
    "\n",
    "if invalid_years.any():\n",
    "    print(\"Invalid or missing 'Year' values found:\")\n",
    "    print(inflation[invalid_years])\n",
    "    # Drop rows with invalid Year\n",
    "    inflation = inflation[~invalid_years]\n",
    "\n"
   ]
  },
  {
   "cell_type": "markdown",
   "metadata": {},
   "source": [
    "### Month Mapping and inflation data preparation"
   ]
  },
  {
   "cell_type": "code",
   "execution_count": 6,
   "metadata": {},
   "outputs": [],
   "source": [
    "# Inflation dataset preprocessing\n",
    "month_mapping = {\n",
    "    'January': '01', 'February': '02', 'March': '03', 'April': '04',\n",
    "    'May': '05', 'June': '06', 'July': '07', 'August': '08',\n",
    "    'September': '09', 'October': '10', 'November': '11', 'December': '12'\n",
    "}\n",
    "\n",
    "inflation['Month'] = inflation['Month'].map(month_mapping)\n",
    "inflation['Date'] = pd.to_datetime(inflation['Year'].astype(int).astype(str) + '-' + inflation['Month'] + '-01', errors=\"coerce\")\n",
    "inflation = inflation[['Date', 'Index', 'Change']]\n"
   ]
  },
  {
   "cell_type": "markdown",
   "metadata": {},
   "source": [
    "### GDP data preprocessing according to months"
   ]
  },
  {
   "cell_type": "code",
   "execution_count": 7,
   "metadata": {},
   "outputs": [],
   "source": [
    "# Expanding GDP dataset\n",
    "new_gdp = []\n",
    "months = ['01', '02', '03', '04', '05', '06', '07', '08', '09', '10', '11', '12']\n",
    "\n",
    "for _, row in gdp.iterrows():\n",
    "    year = int(row['Year'])\n",
    "    for month in months:\n",
    "        date = f\"{year}-{month}-01\"\n",
    "        new_row = [date] + row[1:].tolist()\n",
    "        new_gdp.append(new_row)\n",
    "\n",
    "new_gdp = pd.DataFrame(new_gdp, columns=['Date', 'GDP', 'Per Capita', 'Growth', 'Trade Balance (USD Billion)', '% of GDP', 'Contribution of Manufactoring Industry to GDP', 'No of People Going for Foreign Employment'])\n",
    "new_gdp['Date'] = pd.to_datetime(new_gdp['Date'])\n"
   ]
  },
  {
   "cell_type": "markdown",
   "metadata": {},
   "source": [
    "### Merging new_gdp with inflation on ``Date``"
   ]
  },
  {
   "cell_type": "code",
   "execution_count": 8,
   "metadata": {},
   "outputs": [
    {
     "data": {
      "text/html": [
       "<div>\n",
       "<style scoped>\n",
       "    .dataframe tbody tr th:only-of-type {\n",
       "        vertical-align: middle;\n",
       "    }\n",
       "\n",
       "    .dataframe tbody tr th {\n",
       "        vertical-align: top;\n",
       "    }\n",
       "\n",
       "    .dataframe thead th {\n",
       "        text-align: right;\n",
       "    }\n",
       "</style>\n",
       "<table border=\"1\" class=\"dataframe\">\n",
       "  <thead>\n",
       "    <tr style=\"text-align: right;\">\n",
       "      <th></th>\n",
       "      <th>Date</th>\n",
       "      <th>GDP</th>\n",
       "      <th>Per Capita</th>\n",
       "      <th>Growth</th>\n",
       "      <th>Trade Balance (USD Billion)</th>\n",
       "      <th>% of GDP</th>\n",
       "      <th>Contribution of Manufactoring Industry to GDP</th>\n",
       "      <th>No of People Going for Foreign Employment</th>\n",
       "      <th>Index</th>\n",
       "      <th>Change</th>\n",
       "    </tr>\n",
       "  </thead>\n",
       "  <tbody>\n",
       "    <tr>\n",
       "      <th>0</th>\n",
       "      <td>1965-01-01</td>\n",
       "      <td>0.735267</td>\n",
       "      <td>67.0075</td>\n",
       "      <td>-1.2032</td>\n",
       "      <td>-0.045282</td>\n",
       "      <td>-6.1585</td>\n",
       "      <td>3.284541</td>\n",
       "      <td>0.0</td>\n",
       "      <td>NaN</td>\n",
       "      <td>NaN</td>\n",
       "    </tr>\n",
       "    <tr>\n",
       "      <th>1</th>\n",
       "      <td>1965-02-01</td>\n",
       "      <td>0.735267</td>\n",
       "      <td>67.0075</td>\n",
       "      <td>-1.2032</td>\n",
       "      <td>-0.045282</td>\n",
       "      <td>-6.1585</td>\n",
       "      <td>3.284541</td>\n",
       "      <td>0.0</td>\n",
       "      <td>NaN</td>\n",
       "      <td>NaN</td>\n",
       "    </tr>\n",
       "    <tr>\n",
       "      <th>2</th>\n",
       "      <td>1965-03-01</td>\n",
       "      <td>0.735267</td>\n",
       "      <td>67.0075</td>\n",
       "      <td>-1.2032</td>\n",
       "      <td>-0.045282</td>\n",
       "      <td>-6.1585</td>\n",
       "      <td>3.284541</td>\n",
       "      <td>0.0</td>\n",
       "      <td>NaN</td>\n",
       "      <td>NaN</td>\n",
       "    </tr>\n",
       "    <tr>\n",
       "      <th>3</th>\n",
       "      <td>1965-04-01</td>\n",
       "      <td>0.735267</td>\n",
       "      <td>67.0075</td>\n",
       "      <td>-1.2032</td>\n",
       "      <td>-0.045282</td>\n",
       "      <td>-6.1585</td>\n",
       "      <td>3.284541</td>\n",
       "      <td>0.0</td>\n",
       "      <td>NaN</td>\n",
       "      <td>NaN</td>\n",
       "    </tr>\n",
       "    <tr>\n",
       "      <th>4</th>\n",
       "      <td>1965-05-01</td>\n",
       "      <td>0.735267</td>\n",
       "      <td>67.0075</td>\n",
       "      <td>-1.2032</td>\n",
       "      <td>-0.045282</td>\n",
       "      <td>-6.1585</td>\n",
       "      <td>3.284541</td>\n",
       "      <td>0.0</td>\n",
       "      <td>NaN</td>\n",
       "      <td>NaN</td>\n",
       "    </tr>\n",
       "  </tbody>\n",
       "</table>\n",
       "</div>"
      ],
      "text/plain": [
       "        Date       GDP  Per Capita  Growth  Trade Balance (USD Billion)  \\\n",
       "0 1965-01-01  0.735267     67.0075 -1.2032                    -0.045282   \n",
       "1 1965-02-01  0.735267     67.0075 -1.2032                    -0.045282   \n",
       "2 1965-03-01  0.735267     67.0075 -1.2032                    -0.045282   \n",
       "3 1965-04-01  0.735267     67.0075 -1.2032                    -0.045282   \n",
       "4 1965-05-01  0.735267     67.0075 -1.2032                    -0.045282   \n",
       "\n",
       "   % of GDP  Contribution of Manufactoring Industry to GDP  \\\n",
       "0   -6.1585                                       3.284541   \n",
       "1   -6.1585                                       3.284541   \n",
       "2   -6.1585                                       3.284541   \n",
       "3   -6.1585                                       3.284541   \n",
       "4   -6.1585                                       3.284541   \n",
       "\n",
       "   No of People Going for Foreign Employment  Index  Change  \n",
       "0                                        0.0    NaN     NaN  \n",
       "1                                        0.0    NaN     NaN  \n",
       "2                                        0.0    NaN     NaN  \n",
       "3                                        0.0    NaN     NaN  \n",
       "4                                        0.0    NaN     NaN  "
      ]
     },
     "metadata": {},
     "output_type": "display_data"
    }
   ],
   "source": [
    "# Merging GDP with Inflation\n",
    "new_gdp_inflation_data = pd.merge(new_gdp, inflation, on='Date', how='left')\n",
    "\n",
    "display(new_gdp_inflation_data.head())\n"
   ]
  },
  {
   "cell_type": "markdown",
   "metadata": {},
   "source": [
    "### Renaming columns for consistency"
   ]
  },
  {
   "cell_type": "code",
   "execution_count": 9,
   "metadata": {},
   "outputs": [
    {
     "data": {
      "text/plain": [
       "Index(['Date', 'GDP', 'Per Capita', 'Growth', 'Trade Balance (USD Billion)',\n",
       "       '% of GDP', 'Contribution of Manufactoring Industry to GDP',\n",
       "       'No of People Going for Foreign Employment', 'Index', 'Change'],\n",
       "      dtype='object')"
      ]
     },
     "execution_count": 9,
     "metadata": {},
     "output_type": "execute_result"
    }
   ],
   "source": [
    "new_gdp_inflation_data.columns"
   ]
  },
  {
   "cell_type": "code",
   "execution_count": 10,
   "metadata": {},
   "outputs": [
    {
     "data": {
      "text/plain": [
       "Index(['date', 'gdp', 'per_capita', 'growth', 'trade_balance_usd_billion',\n",
       "       'percent_of_gdp', 'manufacturing_contribution_to_gdp',\n",
       "       'foreign_employment_count', 'index', 'change'],\n",
       "      dtype='object')"
      ]
     },
     "metadata": {},
     "output_type": "display_data"
    }
   ],
   "source": [
    "# Rename the columns\n",
    "new_gdp_inflation_data.rename(columns={\n",
    "    'Date': 'date',\n",
    "    'GDP': 'gdp',\n",
    "    'Per Capita': 'per_capita',\n",
    "    'Growth': 'growth',\n",
    "    'Trade Balance (USD Billion)': 'trade_balance_usd_billion',\n",
    "    '% of GDP': 'percent_of_gdp',\n",
    "    'Contribution of Manufactoring Industry to GDP': 'manufacturing_contribution_to_gdp',\n",
    "    'No of People Going for Foreign Employment': 'foreign_employment_count',\n",
    "    'Index': 'index',\n",
    "    'Change': 'change'\n",
    "}, inplace=True)\n",
    "\n",
    "# checking columns name\n",
    "display(new_gdp_inflation_data.columns)"
   ]
  },
  {
   "cell_type": "markdown",
   "metadata": {},
   "source": [
    "### checking missing values in merged_data"
   ]
  },
  {
   "cell_type": "code",
   "execution_count": 11,
   "metadata": {},
   "outputs": [
    {
     "data": {
      "text/plain": [
       "date                                   0\n",
       "gdp                                    0\n",
       "per_capita                             0\n",
       "growth                                 0\n",
       "trade_balance_usd_billion              0\n",
       "percent_of_gdp                         0\n",
       "manufacturing_contribution_to_gdp      0\n",
       "foreign_employment_count               0\n",
       "index                                630\n",
       "change                               630\n",
       "dtype: int64"
      ]
     },
     "metadata": {},
     "output_type": "display_data"
    }
   ],
   "source": [
    "# Checking for missing values\n",
    "display(new_gdp_inflation_data.isna().sum())"
   ]
  },
  {
   "cell_type": "markdown",
   "metadata": {},
   "source": [
    "### handling missing values\n",
    "\n",
    "Since,here, mean will not work for it, and opting for dropping the values."
   ]
  },
  {
   "cell_type": "code",
   "execution_count": 12,
   "metadata": {},
   "outputs": [
    {
     "data": {
      "text/plain": [
       "date                                 0\n",
       "gdp                                  0\n",
       "per_capita                           0\n",
       "growth                               0\n",
       "trade_balance_usd_billion            0\n",
       "percent_of_gdp                       0\n",
       "manufacturing_contribution_to_gdp    0\n",
       "foreign_employment_count             0\n",
       "index                                0\n",
       "change                               0\n",
       "dtype: int64"
      ]
     },
     "metadata": {},
     "output_type": "display_data"
    }
   ],
   "source": [
    "# dropping missing values\n",
    "new_gdp_inflation_data.dropna(subset=['index', 'change'], inplace=True)\n",
    "\n",
    "# Again checking for missing values\n",
    "display(new_gdp_inflation_data.isna().sum())\n"
   ]
  },
  {
   "cell_type": "code",
   "execution_count": 13,
   "metadata": {},
   "outputs": [
    {
     "name": "stdout",
     "output_type": "stream",
     "text": [
      "count    54.000000\n",
      "mean      4.587878\n",
      "std       4.027630\n",
      "min      -2.369600\n",
      "25%       4.246900\n",
      "50%       6.657100\n",
      "75%       7.622400\n",
      "max       8.977300\n",
      "Name: growth, dtype: float64\n"
     ]
    }
   ],
   "source": [
    "print(new_gdp_inflation_data['growth'].describe())"
   ]
  },
  {
   "cell_type": "markdown",
   "metadata": {},
   "source": [
    "## Feature Engineering"
   ]
  },
  {
   "cell_type": "markdown",
   "metadata": {},
   "source": [
    "### Trying to find out which target variable can be used, using correlation"
   ]
  },
  {
   "cell_type": "code",
   "execution_count": 14,
   "metadata": {},
   "outputs": [
    {
     "data": {
      "image/png": "[encoded data removed]",
      "text/plain": [
       "<Figure size 1000x800 with 2 Axes>"
      ]
     },
     "metadata": {},
     "output_type": "display_data"
    }
   ],
   "source": [
    "import matplotlib.pyplot as plt\n",
    "import seaborn as sns\n",
    "\n",
    "# Plotting heatmap\n",
    "corr = new_gdp_inflation_data[[\n",
    "    \"growth\",\n",
    "    \"index\", \n",
    "    \"change\", \n",
    "    \"trade_balance_usd_billion\", \n",
    "    \"foreign_employment_count\", \n",
    "    \"percent_of_gdp\", \n",
    "    \"manufacturing_contribution_to_gdp\", \n",
    "    \"per_capita\"\n",
    "]].corr()\n",
    "\n",
    "\n",
    "plt.figure(figsize=(10, 8))\n",
    "sns.heatmap(corr, annot=True, cmap=\"coolwarm\", fmt=\".2f\", linewidths=0.5)\n",
    "plt.title(\"Correlation Heatmap\")\n",
    "plt.show()"
   ]
  },
  {
   "cell_type": "markdown",
   "metadata": {},
   "source": [
    "### Selecting features and target\n",
    "**Features**\n",
    "\n",
    "- For ``inflation``: ``index`` and ``change``\n",
    "- For ``Trade Balance``: ``trade_balance_usd_billion``\n",
    "- For ``remittance``: Using ``foreign_employment_count`` as proxy\n",
    "\n",
    "- Also, adding other economic indicators available\n",
    "\n",
    "**Target**\n",
    "- ``growth`` column is being taken since it signifies gdp growth"
   ]
  },
  {
   "cell_type": "code",
   "execution_count": 15,
   "metadata": {},
   "outputs": [
    {
     "name": "stdout",
     "output_type": "stream",
     "text": [
      "index                                0\n",
      "change                               0\n",
      "trade_balance_usd_billion            0\n",
      "foreign_employment_count             0\n",
      "percent_of_gdp                       0\n",
      "manufacturing_contribution_to_gdp    0\n",
      "per_capita                           0\n",
      "dtype: int64\n"
     ]
    }
   ],
   "source": [
    "# Selecting features and target\n",
    "\n",
    "# Selecting features\n",
    "x = new_gdp_inflation_data[[\n",
    "    \"index\", # inflation\n",
    "    \"change\", # inflation\n",
    "    \"trade_balance_usd_billion\", # trade_balance\n",
    "    \"foreign_employment_count\", # remittance proxy\n",
    "    \"percent_of_gdp\", # other economic indicators\n",
    "    \"manufacturing_contribution_to_gdp\", # other economic indicators\n",
    "    \"per_capita\"\n",
    "]]\n",
    "\n",
    "# Selecting target variable\n",
    "y = new_gdp_inflation_data[\"growth\"]\n",
    "\n",
    "# Checking missing values in x\n",
    "print(x.isna().sum())"
   ]
  },
  {
   "cell_type": "code",
   "execution_count": 16,
   "metadata": {},
   "outputs": [
    {
     "name": "stdout",
     "output_type": "stream",
     "text": [
      "growth                               1.000000\n",
      "index                               -0.607891\n",
      "change                              -0.076569\n",
      "trade_balance_usd_billion           -0.321995\n",
      "foreign_employment_count             0.530919\n",
      "percent_of_gdp                      -0.673037\n",
      "manufacturing_contribution_to_gdp    0.909991\n",
      "per_capita                          -0.055959\n",
      "Name: growth, dtype: float64\n"
     ]
    }
   ],
   "source": [
    "# Calculate correlation matrix\n",
    "correlation_matrix = new_gdp_inflation_data[[\n",
    "    \"growth\",\n",
    "    \"index\", \n",
    "    \"change\", \n",
    "    \"trade_balance_usd_billion\", \n",
    "    \"foreign_employment_count\", \n",
    "    \"percent_of_gdp\", \n",
    "    \"manufacturing_contribution_to_gdp\", \n",
    "    \"per_capita\"\n",
    "]].corr()\n",
    "\n",
    "# Display correlation with target variable ('growth')\n",
    "print(correlation_matrix[\"growth\"])\n"
   ]
  },
  {
   "cell_type": "markdown",
   "metadata": {},
   "source": [
    "### Splitting the data into training and testing"
   ]
  },
  {
   "cell_type": "code",
   "execution_count": 17,
   "metadata": {},
   "outputs": [],
   "source": [
    "from sklearn.model_selection import train_test_split\n",
    "\n",
    "X_train, X_test, y_train, y_test = train_test_split(x, y, test_size=0.2, random_state=42)"
   ]
  },
  {
   "cell_type": "markdown",
   "metadata": {},
   "source": [
    "### Scaling the features\n",
    "\n",
    "- It is mainly for the Linear Regression\n",
    "- As for other tree models, we do not need to scale it in uniform range."
   ]
  },
  {
   "cell_type": "code",
   "execution_count": 18,
   "metadata": {},
   "outputs": [],
   "source": [
    "from sklearn.preprocessing import StandardScaler\n",
    "\n",
    "scaler = StandardScaler()\n",
    "X_train_scaled = scaler.fit_transform(X_train)\n",
    "X_test_scaled = scaler.transform(X_test)"
   ]
  },
  {
   "cell_type": "markdown",
   "metadata": {},
   "source": [
    "## Model Implementation\n",
    "- Linear Regression\n",
    "- RandomForestRegressor\n",
    "- Gradient Boosting"
   ]
  },
  {
   "cell_type": "markdown",
   "metadata": {},
   "source": [
    "### Linear Regression"
   ]
  },
  {
   "cell_type": "code",
   "execution_count": 19,
   "metadata": {},
   "outputs": [],
   "source": [
    "from sklearn.linear_model import LinearRegression\n",
    "\n",
    "# Loading the Model\n",
    "linear_model = LinearRegression()\n",
    "\n",
    "# Fitting model on training dataset (features is scaled while target is not)\n",
    "linear_model.fit(X_train_scaled, y_train)\n",
    "\n",
    "# Predicting value\n",
    "y_pred_linear = linear_model.predict(X_test_scaled)\n"
   ]
  },
  {
   "cell_type": "markdown",
   "metadata": {},
   "source": [
    "### Random Forest Regressor"
   ]
  },
  {
   "cell_type": "code",
   "execution_count": 20,
   "metadata": {},
   "outputs": [
    {
     "name": "stdout",
     "output_type": "stream",
     "text": [
      "float64\n",
      "float64\n"
     ]
    }
   ],
   "source": [
    "print(X_train_scaled.dtype)\n",
    "print(y_train.dtype)\n"
   ]
  },
  {
   "cell_type": "markdown",
   "metadata": {},
   "source": [
    "#### Using Hyperparameter Tuning \n",
    "- using GridSearchCV "
   ]
  },
  {
   "cell_type": "code",
   "execution_count": 28,
   "metadata": {},
   "outputs": [
    {
     "name": "stdout",
     "output_type": "stream",
     "text": [
      "Fitting 3 folds for each of 288 candidates, totalling 864 fits\n",
      "Best parameters found:  {'max_depth': 10, 'max_features': 'sqrt', 'min_samples_leaf': 1, 'min_samples_split': 2, 'n_estimators': 100}\n"
     ]
    }
   ],
   "source": [
    "from sklearn.ensemble import RandomForestRegressor\n",
    "from sklearn.model_selection import GridSearchCV\n",
    "from scipy.stats import randint\n",
    "\n",
    "# Define the model\n",
    "random_forest = RandomForestRegressor(random_state=42)\n",
    "\n",
    "# Hyperparameters to tune\n",
    "param_grid = {\n",
    "    'n_estimators': [100, 200, 500, 875],\n",
    "    'max_depth': [10, 20, 30, 44],\n",
    "    'min_samples_split': [2, 5, 10],\n",
    "    'min_samples_leaf': [1, 2, 4],\n",
    "    'max_features': ['sqrt', 'log2']\n",
    "}\n",
    "\n",
    "# intializing\n",
    "grid_search = GridSearchCV(estimator=random_forest, param_grid=param_grid, cv=3, n_jobs=-1, verbose=2)\n",
    "\n",
    "# Fitting the model\n",
    "grid_search.fit(X_train, y_train)\n",
    "\n",
    "# Best parameters\n",
    "print(\"Best parameters found: \", grid_search.best_params_)\n",
    "\n",
    "# Predicting using the best model\n",
    "y_pred_random_forest = grid_search.best_estimator_.predict(X_test)"
   ]
  },
  {
   "cell_type": "markdown",
   "metadata": {},
   "source": [
    "### Gradient Boost Regressor\n",
    "\n",
    "-  using hyperparameter tuning ``GridSearchCV``\n"
   ]
  },
  {
   "cell_type": "code",
   "execution_count": 27,
   "metadata": {},
   "outputs": [
    {
     "name": "stdout",
     "output_type": "stream",
     "text": [
      "Fitting 3 folds for each of 972 candidates, totalling 2916 fits\n",
      "Best parameters found:  {'learning_rate': 0.05, 'max_depth': 7, 'min_samples_leaf': 1, 'min_samples_split': 10, 'n_estimators': 500, 'subsample': 0.8}\n"
     ]
    }
   ],
   "source": [
    "from sklearn.ensemble import GradientBoostingRegressor\n",
    "\n",
    "# Loading the Model\n",
    "gradient_boosting = GradientBoostingRegressor(random_state=42)\n",
    "\n",
    "# Hyperparameters to tune\n",
    "param_grid_gradient = {\n",
    "    'n_estimators': [100, 200, 500],\n",
    "    'max_depth': [3, 5, 7, 10],\n",
    "    'learning_rate': [0.01, 0.1, 0.05],\n",
    "    'subsample': [0.8, 0.9, 1.0],\n",
    "    'min_samples_split': [2, 5, 10],\n",
    "    'min_samples_leaf': [1, 2, 4]\n",
    "}\n",
    "\n",
    "# Initialize GridSearchCV\n",
    "grid_search = GridSearchCV(estimator=gradient_boosting, param_grid=param_grid_gradient, cv=3, n_jobs=-1, verbose=2)\n",
    "\n",
    "# Fitting the model\n",
    "grid_search.fit(X_train_scaled, y_train)\n",
    "\n",
    "# Best parameters\n",
    "print(\"Best parameters found: \", grid_search.best_params_)\n",
    "\n",
    "# Predicting using the best model\n",
    "y_pred_gradient_boosting = grid_search.best_estimator_.predict(X_test_scaled)"
   ]
  },
  {
   "cell_type": "markdown",
   "metadata": {},
   "source": [
    "## Model Evaluation"
   ]
  },
  {
   "cell_type": "markdown",
   "metadata": {},
   "source": [
    "### Linear Regression"
   ]
  },
  {
   "cell_type": "code",
   "execution_count": 29,
   "metadata": {},
   "outputs": [
    {
     "name": "stdout",
     "output_type": "stream",
     "text": [
      "Linear Regression Evaluation:\n",
      "Mean Absolute Error: 0.0000\n",
      "RMSE: 0.0000\n",
      "r2_score: 1.0000\n"
     ]
    }
   ],
   "source": [
    "from sklearn.metrics import mean_absolute_error, mean_squared_error, r2_score\n",
    "import numpy as np\n",
    "\n",
    "# Linear Regression Evaluation\n",
    "mae_linear = mean_absolute_error(y_test, y_pred_linear)\n",
    "rmse_linear = np.sqrt(mean_squared_error(y_test, y_pred_linear))\n",
    "r2_linear = r2_score(y_test, y_pred_linear)\n",
    "\n",
    "print(\"Linear Regression Evaluation:\")\n",
    "print(f\"Mean Absolute Error: {mae_linear:.4f}\")\n",
    "print(f\"RMSE: {rmse_linear:.4f}\")\n",
    "print(f\"r2_score: {r2_linear:.4f}\")"
   ]
  },
  {
   "cell_type": "markdown",
   "metadata": {},
   "source": [
    "This model performed perfectly with no errors indicating the overfitting of the data, and the model is too closely aligned with the training data."
   ]
  },
  {
   "cell_type": "markdown",
   "metadata": {},
   "source": [
    "### Random Forest Regressor"
   ]
  },
  {
   "cell_type": "code",
   "execution_count": 30,
   "metadata": {},
   "outputs": [
    {
     "name": "stdout",
     "output_type": "stream",
     "text": [
      "\n",
      "Random Forest Evaluation:\n",
      "Mean Absolute Error: 0.0572\n",
      "RMSE: 0.1236\n",
      "R²: 0.9984\n"
     ]
    }
   ],
   "source": [
    "# Random Forest Evaluation\n",
    "mae_rf = mean_absolute_error(y_test, y_pred_random_forest)\n",
    "rmse_rf = np.sqrt(mean_squared_error(y_test, y_pred_random_forest))\n",
    "r2_rf = r2_score(y_test, y_pred_random_forest)\n",
    "\n",
    "print(\"\\nRandom Forest Evaluation:\")\n",
    "print(f\"Mean Absolute Error: {mae_rf:.4f}\")\n",
    "print(f\"RMSE: {rmse_rf:.4f}\")\n",
    "print(f\"R²: {r2_rf:.4f}\")"
   ]
  },
  {
   "cell_type": "markdown",
   "metadata": {},
   "source": [
    "### Gradient Boost Regressor\n"
   ]
  },
  {
   "cell_type": "code",
   "execution_count": 31,
   "metadata": {},
   "outputs": [
    {
     "name": "stdout",
     "output_type": "stream",
     "text": [
      "\n",
      "Gradient Boosting Evaluation:\n",
      "Mean Absolute Error: 0.0013\n",
      "RMSE: 0.0029\n",
      "R²: 1.0000\n"
     ]
    }
   ],
   "source": [
    "# Gradient Boosting Evaluation\n",
    "mae_gb = mean_absolute_error(y_test, y_pred_gradient_boosting)\n",
    "rmse_gb = np.sqrt(mean_squared_error(y_test, y_pred_gradient_boosting))\n",
    "r2_gb = r2_score(y_test, y_pred_gradient_boosting)\n",
    "\n",
    "print(\"\\nGradient Boosting Evaluation:\")\n",
    "print(f\"Mean Absolute Error: {mae_gb:.4f}\")\n",
    "print(f\"RMSE: {rmse_gb:.4f}\")\n",
    "print(f\"R²: {r2_gb:.4f}\")"
   ]
  }
 ],
 "metadata": {
  "kernelspec": {
   "display_name": ".venv",
   "language": "python",
   "name": "python3"
  },
  "language_info": {
   "codemirror_mode": {
    "name": "ipython",
    "version": 3
   },
   "file_extension": ".py",
   "mimetype": "text/x-python",
   "name": "python",
   "nbconvert_exporter": "python",
   "pygments_lexer": "ipython3",
   "version": "3.12.6"
  }
 },
 "nbformat": 4,
 "nbformat_minor": 2
}
