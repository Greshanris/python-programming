{
 "cells": [
  {
   "cell_type": "markdown",
   "metadata": {},
   "source": [
    "# Week 2 Assignment\n",
    "\n",
    "Rishav Chaudhary\n",
    "\n",
    "Presidential Graduate School, Kathmandu, Nepal\n",
    "\n",
    "PRG 330: Python Programming\n",
    "\n",
    "Prof. Tek Raj Panta\n",
    "\n",
    "November 2, 2024"
   ]
  },
  {
   "cell_type": "markdown",
   "metadata": {},
   "source": [
    "## Data Manipulation With Pandas"
   ]
  },
  {
   "cell_type": "markdown",
   "metadata": {},
   "source": [
    "### Gaining Insight from predata"
   ]
  },
  {
   "cell_type": "code",
   "execution_count": 36,
   "metadata": {},
   "outputs": [
    {
     "name": "stdout",
     "output_type": "stream",
     "text": [
      "   No First Name Last Name  Gender Start Date  Years          Department  \\\n",
      "0   1     Ghadir     Hmshw    Male   4/4/2018      6     Quality Control   \n",
      "1   2       Omar    Hishan    Male  5/21/2020      4     Quality Control   \n",
      "2   3      Ailya    Sharaf  Female  9/28/2017      7  Major Mfg Projects   \n",
      "3   4       Lwiy     Qbany    Male  8/14/2018      6       Manufacturing   \n",
      "4   5      Ahmad     Bikri    Male  3/11/2020      4       Manufacturing   \n",
      "\n",
      "                Country Center  Monthly Salary  Annual Salary  Job Rate  \\\n",
      "0                 Egypt   West            1560          18720       3.0   \n",
      "1          Saudi Arabia   West            3247          38964       1.0   \n",
      "2          Saudi Arabia   West            2506          30072       2.0   \n",
      "3  United Arab Emirates   Main            1828          21936       3.0   \n",
      "4                 Egypt   Main             970          11640       5.0   \n",
      "\n",
      "   Sick Leaves  Unpaid Leaves  Overtime Hours  \n",
      "0            1              0             183  \n",
      "1            0              5             198  \n",
      "2            0              3             192  \n",
      "3            0              0               7  \n",
      "4            0              5             121  \n"
     ]
    }
   ],
   "source": [
    "import pandas as pd\n",
    "\n",
    "''' Reading the csv files into the Dataframe\n",
    ", and storing it into the employees variable'''\n",
    "\n",
    "employees = pd.read_csv(\"Employees.csv\")\n",
    "print(employees.head()) # Here, first few rows are printed\n",
    "\n"
   ]
  },
  {
   "cell_type": "code",
   "execution_count": 29,
   "metadata": {},
   "outputs": [
    {
     "name": "stdout",
     "output_type": "stream",
     "text": [
      "<class 'pandas.core.frame.DataFrame'>\n",
      "RangeIndex: 689 entries, 0 to 688\n",
      "Data columns (total 15 columns):\n",
      " #   Column          Non-Null Count  Dtype  \n",
      "---  ------          --------------  -----  \n",
      " 0   No              689 non-null    int64  \n",
      " 1   First Name      689 non-null    object \n",
      " 2   Last Name       689 non-null    object \n",
      " 3   Gender          689 non-null    object \n",
      " 4   Start Date      689 non-null    object \n",
      " 5   Years           689 non-null    int64  \n",
      " 6   Department      689 non-null    object \n",
      " 7   Country         689 non-null    object \n",
      " 8   Center          689 non-null    object \n",
      " 9   Monthly Salary  689 non-null    int64  \n",
      " 10  Annual Salary   689 non-null    int64  \n",
      " 11  Job Rate        689 non-null    float64\n",
      " 12  Sick Leaves     689 non-null    int64  \n",
      " 13  Unpaid Leaves   689 non-null    int64  \n",
      " 14  Overtime Hours  689 non-null    int64  \n",
      "dtypes: float64(1), int64(7), object(7)\n",
      "memory usage: 80.9+ KB\n",
      "None\n"
     ]
    }
   ],
   "source": [
    "''' Gives the information regarding the column name,\n",
    "their non-null counts and Dtypes'''\n",
    "print(employees.info()) "
   ]
  },
  {
   "cell_type": "markdown",
   "metadata": {},
   "source": [
    "#### Explanation\n",
    "After analyzing the output, we can know that there are three additional table inside a single dataframe. One regarding the employees name, gender, their start date, years and their respective department in employee id.\n",
    "\n",
    "Second, there is the table regarding the country, their center, annualy salary, and Job Rate. The third is regarding the leaves and overtime hours.\n",
    "\n",
    "employees.info() will provide us with the column name which are First Name, Last Name, Gender, Start Date, Years, Department, Country, Center, Monthly Salary, Annual Salary, and many more. We can know the count of the non-null object and here there are no null object. The Datatypes of each are either int, object or float."
   ]
  },
  {
   "cell_type": "markdown",
   "metadata": {},
   "source": [
    "### Filtering Data"
   ]
  },
  {
   "cell_type": "code",
   "execution_count": 39,
   "metadata": {},
   "outputs": [
    {
     "name": "stdout",
     "output_type": "stream",
     "text": [
      "      No First Name        Last Name  Gender  Start Date  Years  \\\n",
      "1      2       Omar           Hishan    Male   5/21/2020      4   \n",
      "7      8    Muhamad            Alaya    Male   2/10/2018      6   \n",
      "13    14     Iilian              Dbs  Female    3/1/2016      8   \n",
      "16    17     Sandra      Aljurmqaniu  Female   5/27/2016      8   \n",
      "24    25    Muhamad          Altarah    Male  12/13/2020      3   \n",
      "..   ...        ...              ...     ...         ...    ...   \n",
      "668  669       Hind      Almueasaeas  Female    5/5/2019      5   \n",
      "672  673    Muhamad  Sharif Aldaghly    Male    1/4/2018      6   \n",
      "673  674      Emara        bwalsibae  Female    3/1/2018      6   \n",
      "679  680     Alysia       Alyaghshiu  Female  10/19/2019      5   \n",
      "685  686    Eubayda             Kayd    Male    6/3/2020      4   \n",
      "\n",
      "                 Department               Country Center  Monthly Salary  \\\n",
      "1           Quality Control          Saudi Arabia   West            3247   \n",
      "7        Account Management                 Egypt   Main            3394   \n",
      "13   Facilities/Engineering  United Arab Emirates  North            3404   \n",
      "16       Account Management          Saudi Arabia   West            3149   \n",
      "24                       IT                 Egypt  North            3044   \n",
      "..                      ...                   ...    ...             ...   \n",
      "668  Facilities/Engineering          Saudi Arabia  North            3389   \n",
      "672                      IT                 Egypt   West            3257   \n",
      "673  Facilities/Engineering                 Egypt  South            3026   \n",
      "679                Training  United Arab Emirates   West            3334   \n",
      "685  Facilities/Engineering                 Egypt  North            3237   \n",
      "\n",
      "     Annual Salary  Job Rate  Sick Leaves  Unpaid Leaves  Overtime Hours  \n",
      "1            38964       1.0            0              5             198  \n",
      "7            40728       5.0            0              0               7  \n",
      "13           40848       5.0            1              0               8  \n",
      "16           37788       4.5            0              0              93  \n",
      "24           36528       3.0            6              0              94  \n",
      "..             ...       ...          ...            ...             ...  \n",
      "668          40668       3.0            1              0               7  \n",
      "672          39084       3.0            0              0               6  \n",
      "673          36312       3.0            4              0               1  \n",
      "679          40008       1.0            0              0               4  \n",
      "685          38844       3.0            1              0               4  \n",
      "\n",
      "[105 rows x 15 columns]\n"
     ]
    }
   ],
   "source": [
    "# To filter based on high_salary\n",
    "high_salary = employees[employees['Monthly Salary'] > 3000]\n",
    "print(high_salary)"
   ]
  },
  {
   "cell_type": "markdown",
   "metadata": {},
   "source": [
    "#### Explanation\n",
    "\n",
    "We can know from here, that the above mentioned people in and above mentioned department has high salary."
   ]
  },
  {
   "cell_type": "markdown",
   "metadata": {},
   "source": [
    "### Grouping Datas by 'Department' and finding out total 'Monthly Salary' in each department\n"
   ]
  },
  {
   "cell_type": "code",
   "execution_count": 40,
   "metadata": {},
   "outputs": [
    {
     "name": "stdout",
     "output_type": "stream",
     "text": [
      "Department\n",
      "Account Management             162722\n",
      "Creative                        38215\n",
      "Environmental Compliance        32606\n",
      "Environmental Health/Safety     18004\n",
      "Facilities/Engineering         132546\n",
      "Green Building                  16663\n",
      "Human Resources                 17891\n",
      "IT                              84581\n",
      "Major Mfg Projects              17939\n",
      "Manufacturing                  280649\n",
      "Manufacturing Admin              9605\n",
      "Marketing                       98934\n",
      "Product Development             66800\n",
      "Professional Training Group     28566\n",
      "Quality Assurance              139623\n",
      "Quality Control                182802\n",
      "Research Center                  9435\n",
      "Research/Development            10493\n",
      "Sales                           39129\n",
      "Training                        37788\n",
      "Name: Monthly Salary, dtype: int64\n"
     ]
    }
   ],
   "source": [
    "grouped_salary = employees.groupby('Department')['Monthly Salary'].sum()\n",
    "\n",
    "print(grouped_salary)"
   ]
  },
  {
   "cell_type": "markdown",
   "metadata": {},
   "source": [
    "#### Explanation\n",
    "Here, we are finding out the total sum of monthly salary by department. In Above code, we just grouped data by using .groupby method with Department as the column name specified.\n",
    "\n",
    "Now, we only wanted the monthly salary, so we filtered the monthly salary column, in the grouped data and took its sum. Here, we can find out that Manufacturing department has the highest monthly salary sum. But this can be due to the fact that Manufacturing Department may have high number of employees or do have few employees with higher monthly salary."
   ]
  },
  {
   "cell_type": "markdown",
   "metadata": {},
   "source": [
    "### Aggregation Function"
   ]
  },
  {
   "cell_type": "code",
   "execution_count": 41,
   "metadata": {},
   "outputs": [
    {
     "name": "stdout",
     "output_type": "stream",
     "text": [
      "                             Monthly Salary  Annual Salary  Overtime Hours\n",
      "Department                                                                \n",
      "Account Management                   162722   23246.000000             153\n",
      "Creative                              38215   24135.789474              87\n",
      "Environmental Compliance              32606   30097.846154              48\n",
      "Environmental Health/Safety           18004   24005.333333               8\n",
      "Facilities/Engineering               132546   27423.310345              85\n",
      "Green Building                        16663   24994.500000             105\n",
      "Human Resources                       17891   30670.285714              51\n",
      "IT                                    84581   25374.300000              94\n",
      "Major Mfg Projects                    17939   26908.500000             192\n",
      "Manufacturing                        280649   24055.628571             121\n",
      "Manufacturing Admin                    9605   23052.000000             109\n",
      "Marketing                             98934   24733.500000              74\n",
      "Product Development                   66800   23576.470588              15\n",
      "Professional Training Group           28566   24485.142857              80\n",
      "Quality Assurance                    139623   25007.104478             148\n",
      "Quality Control                      182802   24647.460674             198\n",
      "Research Center                        9435   22644.000000               8\n",
      "Research/Development                  10493   25183.200000               5\n",
      "Sales                                 39129   23477.400000             116\n",
      "Training                              37788   28341.000000             111\n"
     ]
    }
   ],
   "source": [
    "# Grouping by 'Deparment' and using agg function\n",
    "\n",
    "summary_result = employees.groupby('Department').agg({\n",
    "    'Monthly Salary': 'sum',\n",
    "    'Annual Salary': 'mean',\n",
    "    'Overtime Hours': 'max'\n",
    "})\n",
    "''' Here, we are using the aggregate functions to find\n",
    "out the sum of monthly salary by each department,\n",
    "average annual salary by each department,\n",
    "and maximum overtime hours by each deparment'''\n",
    "\n",
    "print(summary_result)"
   ]
  },
  {
   "cell_type": "markdown",
   "metadata": {},
   "source": [
    "#### Explanation\n",
    "The aggregate function is used if we want to apply more than two functions in a single or multiple column. Here, we can see, the max, mean, and sum is used in different columns to find out the insight regarding each deparment. The Manufacturing Deparment has highest sum of monthly salary, Environmental compliance has the highest average annual Salary give to its employee, and Quality Control has highest overtime hours of a employee that is 198 hours per annum."
   ]
  }
 ],
 "metadata": {
  "kernelspec": {
   "display_name": "base",
   "language": "python",
   "name": "python3"
  },
  "language_info": {
   "codemirror_mode": {
    "name": "ipython",
    "version": 3
   },
   "file_extension": ".py",
   "mimetype": "text/x-python",
   "name": "python",
   "nbconvert_exporter": "python",
   "pygments_lexer": "ipython3",
   "version": "3.12.7"
  }
 },
 "nbformat": 4,
 "nbformat_minor": 2
}
