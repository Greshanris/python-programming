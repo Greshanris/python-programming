{
 "cells": [
  {
   "cell_type": "markdown",
   "metadata": {},
   "source": [
    "# Week 2"
   ]
  },
  {
   "cell_type": "markdown",
   "metadata": {},
   "source": [
    "## Day 1\n",
    "\n",
    "### Installation\n",
    "First 'git' was installed in the system. 'git --version' was checked and found to be 2.47.0.\n",
    "\n",
    "### Repository\n",
    "'python-programming' repository was made through github. README.md was added with description 'Python lesson codes and exercises'. It was public repository\n",
    "\n",
    "### Cloning git repository\n",
    "Now, the repository was cloned using, 'git clone git@github.com:Greshanris/python-programming.git' which cloned the file python-programming in local folder. We can use https as the method to clone as well. The 'pwd' was done to know the working directory."
   ]
  },
  {
   "cell_type": "markdown",
   "metadata": {},
   "source": [
    "### For Loop\n",
    "\n",
    "Iterating over list, range (enumerator)"
   ]
  },
  {
   "cell_type": "code",
   "execution_count": 5,
   "metadata": {},
   "outputs": [
    {
     "name": "stdout",
     "output_type": "stream",
     "text": [
      "[2, 4, 6, 22, 12]\n"
     ]
    }
   ],
   "source": [
    "numbers = [1, 2, 3, 4, 5, 6, 11, 23, 22, 12] # list of dict\n",
    "\n",
    "# print even list by creating new list.\n",
    "new_list = []\n",
    "for i in numbers:\n",
    "    if i%2 ==0:\n",
    "        new_list.append(i)\n",
    "\n",
    "print(new_list)"
   ]
  },
  {
   "cell_type": "code",
   "execution_count": 9,
   "metadata": {},
   "outputs": [
    {
     "name": "stdout",
     "output_type": "stream",
     "text": [
      "[1, 2, 3, 4, 5, 11, 100]\n"
     ]
    }
   ],
   "source": [
    "# create new list by removing duplicate items from given list\n",
    "\n",
    "numbers = [1, 1, 2, 3, 4, 5, 3, 11, 100] \n",
    "\n",
    "new_list = [] # creating new empty list\n",
    "for i in numbers:\n",
    "    if i not in new_list: \n",
    "        ''' If in each iterations, value of i is not \n",
    "        in new_list, then append it in new_list'''\n",
    "        new_list.append(i)\n",
    "\n",
    "print(new_list)"
   ]
  },
  {
   "cell_type": "code",
   "execution_count": 13,
   "metadata": {},
   "outputs": [
    {
     "name": "stdout",
     "output_type": "stream",
     "text": [
      "0\n",
      "2\n",
      "4\n",
      "6\n",
      "8\n",
      "10\n",
      "12\n",
      "14\n",
      "16\n",
      "18\n",
      "20\n",
      "22\n",
      "24\n",
      "26\n",
      "28\n",
      "30\n",
      "32\n",
      "34\n",
      "36\n",
      "38\n",
      "40\n",
      "42\n",
      "44\n",
      "46\n",
      "48\n",
      "50\n",
      "52\n",
      "54\n",
      "56\n",
      "58\n",
      "60\n",
      "62\n",
      "64\n",
      "66\n",
      "68\n",
      "70\n",
      "72\n",
      "74\n",
      "76\n",
      "78\n",
      "80\n",
      "82\n",
      "84\n",
      "86\n",
      "88\n",
      "90\n",
      "92\n",
      "94\n",
      "96\n",
      "98\n",
      "100\n"
     ]
    }
   ],
   "source": [
    "range_of_100 = range(1, 100)\n",
    "\n",
    "# printing even number\n",
    "for i in range(0, 101, 2): # range(start, stop, step)\n",
    "    print(i)"
   ]
  },
  {
   "cell_type": "code",
   "execution_count": 15,
   "metadata": {},
   "outputs": [
    {
     "name": "stdout",
     "output_type": "stream",
     "text": [
      "The sum of the even number from 0 to 100 is 2450\n"
     ]
    }
   ],
   "source": [
    "# printing the sum of even number from 0 to 100\n",
    "\n",
    "sum = 0\n",
    "\n",
    "for i in range(0, 100, 2):\n",
    "    sum+=i\n",
    "\n",
    "print(f\"The sum of the even number from 0 to 100 is {sum}\")"
   ]
  },
  {
   "cell_type": "markdown",
   "metadata": {},
   "source": [
    "### inline for loop"
   ]
  },
  {
   "cell_type": "code",
   "execution_count": 17,
   "metadata": {},
   "outputs": [
    {
     "name": "stdout",
     "output_type": "stream",
     "text": [
      "[2, 4, 6, 88]\n"
     ]
    }
   ],
   "source": [
    "numbers = [1, 2, 3, 4, 5, 6, 88, 19]\n",
    "# syntax for inline\n",
    "# value forloopstatement condition\n",
    "list_of_even_numbers = [num for num in numbers if num %2==0]\n",
    "print(list_of_even_numbers)"
   ]
  },
  {
   "cell_type": "code",
   "execution_count": 19,
   "metadata": {},
   "outputs": [
    {
     "name": "stdout",
     "output_type": "stream",
     "text": [
      "[1, 200, 3, 400, 5, 600, 8800, 19]\n"
     ]
    }
   ],
   "source": [
    "numbers = [1, 2, 3, 4, 5, 6, 88, 19]\n",
    "\n",
    "transformed_list = [(num *100 if num%2==0 else num) for num in numbers]\n",
    "print(transformed_list)"
   ]
  },
  {
   "cell_type": "markdown",
   "metadata": {},
   "source": [
    "### Functions\n",
    "\n",
    "The reusable block of code with parameters defined for the value to be inputted.\n",
    "***Syntax:***\n",
    "\n",
    "def function_name (param1, param2):\n"
   ]
  },
  {
   "cell_type": "code",
   "execution_count": 20,
   "metadata": {},
   "outputs": [
    {
     "name": "stdout",
     "output_type": "stream",
     "text": [
      "5\n"
     ]
    }
   ],
   "source": [
    "# adding two values through function\n",
    "\n",
    "def add(x, y):\n",
    "    sum = x + y\n",
    "    return sum\n",
    "\n",
    "sum_of_two_numbers = add(2, 3) # sum of 2 and 3 by calling function\n",
    "print(sum_of_two_numbers)"
   ]
  },
  {
   "cell_type": "code",
   "execution_count": 22,
   "metadata": {},
   "outputs": [
    {
     "name": "stdout",
     "output_type": "stream",
     "text": [
      "12\n"
     ]
    }
   ],
   "source": [
    "# multiplying function\n",
    "\n",
    "def multiply(x, y):\n",
    "    multiplication = x * y\n",
    "    return multiplication\n",
    "\n",
    "print(multiply(3, 4)) # multiplication of 3 and 4"
   ]
  },
  {
   "cell_type": "code",
   "execution_count": 10,
   "metadata": {},
   "outputs": [
    {
     "name": "stdout",
     "output_type": "stream",
     "text": [
      "   No First Name Last Name  Gender Start Date  Years          Department  \\\n",
      "0   1     Ghadir     Hmshw    Male   4/4/2018      6     Quality Control   \n",
      "1   2       Omar    Hishan    Male  5/21/2020      4     Quality Control   \n",
      "2   3      Ailya    Sharaf  Female  9/28/2017      7  Major Mfg Projects   \n",
      "3   4       Lwiy     Qbany    Male  8/14/2018      6       Manufacturing   \n",
      "4   5      Ahmad     Bikri    Male  3/11/2020      4       Manufacturing   \n",
      "\n",
      "                Country Center  Monthly Salary  Annual Salary  Job Rate  \\\n",
      "0                 Egypt   West            1560          18720       3.0   \n",
      "1          Saudi Arabia   West            3247          38964       1.0   \n",
      "2          Saudi Arabia   West            2506          30072       2.0   \n",
      "3  United Arab Emirates   Main            1828          21936       3.0   \n",
      "4                 Egypt   Main             970          11640       5.0   \n",
      "\n",
      "   Sick Leaves  Unpaid Leaves  Overtime Hours  \n",
      "0            1              0             183  \n",
      "1            0              5             198  \n",
      "2            0              3             192  \n",
      "3            0              0               7  \n",
      "4            0              5             121  \n"
     ]
    }
   ],
   "source": [
    "import pandas as pd\n",
    "\n",
    "employees = pd.read_csv(\"Employees.csv\")\n",
    "\n",
    "print(employees.head())"
   ]
  }
 ],
 "metadata": {
  "kernelspec": {
   "display_name": "base",
   "language": "python",
   "name": "python3"
  },
  "language_info": {
   "codemirror_mode": {
    "name": "ipython",
    "version": 3
   },
   "file_extension": ".py",
   "mimetype": "text/x-python",
   "name": "python",
   "nbconvert_exporter": "python",
   "pygments_lexer": "ipython3",
   "version": "3.12.4"
  }
 },
 "nbformat": 4,
 "nbformat_minor": 2
}
