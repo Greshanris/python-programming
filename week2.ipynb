{
 "cells": [
  {
   "cell_type": "markdown",
   "metadata": {},
   "source": [
    "# Week 2"
   ]
  },
  {
   "cell_type": "markdown",
   "metadata": {},
   "source": [
    "## Day 1\n",
    "\n",
    "### Installation\n",
    "First 'git' was installed in the system. 'git --version' was checked and found to be 2.47.0.\n",
    "\n",
    "### Repository\n",
    "'python-programming' repository was made through github. README.md was added with description 'Python lesson codes and exercises'. It was public repository\n",
    "\n",
    "### Cloning git repository\n",
    "Now, the repository was cloned using, 'git clone git@github.com:Greshanris/python-programming.git' which cloned the file python-programming in local folder. We can use https as the method to clone as well. The 'pwd' was done to know the working directory."
   ]
  },
  {
   "cell_type": "markdown",
   "metadata": {},
   "source": [
    "### For Loop\n",
    "\n",
    "Iterating over list, range (enumerator)"
   ]
  },
  {
   "cell_type": "code",
   "execution_count": 5,
   "metadata": {},
   "outputs": [
    {
     "name": "stdout",
     "output_type": "stream",
     "text": [
      "[2, 4, 6, 22, 12]\n"
     ]
    }
   ],
   "source": [
    "numbers = [1, 2, 3, 4, 5, 6, 11, 23, 22, 12] # list of dict\n",
    "\n",
    "# print even list by creating new list.\n",
    "new_list = []\n",
    "for i in numbers:\n",
    "    if i%2 ==0:\n",
    "        new_list.append(i)\n",
    "\n",
    "print(new_list)"
   ]
  },
  {
   "cell_type": "code",
   "execution_count": 9,
   "metadata": {},
   "outputs": [
    {
     "name": "stdout",
     "output_type": "stream",
     "text": [
      "[1, 2, 3, 4, 5, 11, 100]\n"
     ]
    }
   ],
   "source": [
    "# create new list by removing duplicate items from given list\n",
    "\n",
    "numbers = [1, 1, 2, 3, 4, 5, 3, 11, 100] \n",
    "\n",
    "new_list = [] # creating new empty list\n",
    "for i in numbers:\n",
    "    if i not in new_list: \n",
    "        ''' If in each iterations, value of i is not \n",
    "        in new_list, then append it in new_list'''\n",
    "        new_list.append(i)\n",
    "\n",
    "print(new_list)"
   ]
  },
  {
   "cell_type": "code",
   "execution_count": 1,
   "metadata": {},
   "outputs": [
    {
     "name": "stdout",
     "output_type": "stream",
     "text": [
      "0\n",
      "2\n",
      "4\n",
      "6\n",
      "8\n",
      "10\n",
      "12\n",
      "14\n",
      "16\n",
      "18\n",
      "20\n",
      "22\n",
      "24\n",
      "26\n",
      "28\n",
      "30\n",
      "32\n",
      "34\n",
      "36\n",
      "38\n",
      "40\n",
      "42\n",
      "44\n",
      "46\n",
      "48\n",
      "50\n",
      "52\n",
      "54\n",
      "56\n",
      "58\n",
      "60\n",
      "62\n",
      "64\n",
      "66\n",
      "68\n",
      "70\n",
      "72\n",
      "74\n",
      "76\n",
      "78\n",
      "80\n",
      "82\n",
      "84\n",
      "86\n",
      "88\n",
      "90\n",
      "92\n",
      "94\n",
      "96\n",
      "98\n",
      "100\n"
     ]
    }
   ],
   "source": [
    "range_of_100 = range(1, 100)\n",
    "\n",
    "# printing even number\n",
    "for i in range(0, 101, 2): # range(start, stop, step)\n",
    "    print(i)"
   ]
  },
  {
   "cell_type": "code",
   "execution_count": 15,
   "metadata": {},
   "outputs": [
    {
     "name": "stdout",
     "output_type": "stream",
     "text": [
      "The sum of the even number from 0 to 100 is 2450\n"
     ]
    }
   ],
   "source": [
    "# printing the sum of even number from 0 to 100\n",
    "\n",
    "sum = 0\n",
    "\n",
    "for i in range(0, 100, 2):\n",
    "    sum+=i\n",
    "\n",
    "print(f\"The sum of the even number from 0 to 100 is {sum}\")"
   ]
  },
  {
   "cell_type": "markdown",
   "metadata": {},
   "source": [
    "### inline for loop"
   ]
  },
  {
   "cell_type": "code",
   "execution_count": 17,
   "metadata": {},
   "outputs": [
    {
     "name": "stdout",
     "output_type": "stream",
     "text": [
      "[2, 4, 6, 88]\n"
     ]
    }
   ],
   "source": [
    "numbers = [1, 2, 3, 4, 5, 6, 88, 19]\n",
    "# syntax for inline\n",
    "# value forloopstatement condition\n",
    "list_of_even_numbers = [num for num in numbers if num %2==0]\n",
    "print(list_of_even_numbers)"
   ]
  },
  {
   "cell_type": "code",
   "execution_count": 19,
   "metadata": {},
   "outputs": [
    {
     "name": "stdout",
     "output_type": "stream",
     "text": [
      "[1, 200, 3, 400, 5, 600, 8800, 19]\n"
     ]
    }
   ],
   "source": [
    "numbers = [1, 2, 3, 4, 5, 6, 88, 19]\n",
    "\n",
    "transformed_list = [(num *100 if num%2==0 else num) for num in numbers]\n",
    "print(transformed_list)"
   ]
  },
  {
   "cell_type": "markdown",
   "metadata": {},
   "source": [
    "### Functions\n",
    "\n",
    "The reusable block of code with parameters defined for the value to be inputted.\n",
    "***Syntax:***\n",
    "\n",
    "def function_name (param1, param2):\n"
   ]
  },
  {
   "cell_type": "code",
   "execution_count": 20,
   "metadata": {},
   "outputs": [
    {
     "name": "stdout",
     "output_type": "stream",
     "text": [
      "5\n"
     ]
    }
   ],
   "source": [
    "# adding two values through function\n",
    "\n",
    "def add(x, y):\n",
    "    sum = x + y\n",
    "    return sum\n",
    "\n",
    "sum_of_two_numbers = add(2, 3) # sum of 2 and 3 by calling function\n",
    "print(sum_of_two_numbers)"
   ]
  },
  {
   "cell_type": "code",
   "execution_count": 22,
   "metadata": {},
   "outputs": [
    {
     "name": "stdout",
     "output_type": "stream",
     "text": [
      "12\n"
     ]
    }
   ],
   "source": [
    "# multiplying function\n",
    "\n",
    "def multiply(x, y):\n",
    "    multiplication = x * y\n",
    "    return multiplication\n",
    "\n",
    "print(multiply(3, 4)) # multiplication of 3 and 4"
   ]
  },
  {
   "cell_type": "markdown",
   "metadata": {},
   "source": [
    "## Day 2"
   ]
  },
  {
   "cell_type": "markdown",
   "metadata": {},
   "source": [
    "'def' defining function"
   ]
  },
  {
   "cell_type": "code",
   "execution_count": 2,
   "metadata": {},
   "outputs": [
    {
     "name": "stdout",
     "output_type": "stream",
     "text": [
      "Hello, Rishav\n",
      "7\n",
      "0\n"
     ]
    }
   ],
   "source": [
    "def greet(name=\"world\"):\n",
    "    print(f\"Hello, {name}\")\n",
    "\n",
    "greet(\"Rishav\")\n",
    "\n",
    "def sum(a=0, b=0):\n",
    "    return a+b\n",
    "\n",
    "print(sum(3, 4))\n",
    "print(sum())"
   ]
  },
  {
   "cell_type": "markdown",
   "metadata": {},
   "source": [
    "'*args' is used to pass a variable number of positional arguments, while '**kwargs' is used to pass a variable  "
   ]
  },
  {
   "cell_type": "code",
   "execution_count": 5,
   "metadata": {},
   "outputs": [
    {
     "name": "stdout",
     "output_type": "stream",
     "text": [
      "1 2\n",
      "(3, 4, 5, 6, 7)\n",
      "None\n"
     ]
    }
   ],
   "source": [
    "def add(a,b,*args):\n",
    "    print(a,b)\n",
    "    print(args)\n",
    "\n",
    "a = add(1, 2, 3, 4, 5, 6, 7)\n",
    "print(a)"
   ]
  },
  {
   "cell_type": "code",
   "execution_count": 7,
   "metadata": {},
   "outputs": [
    {
     "name": "stdout",
     "output_type": "stream",
     "text": [
      "False\n"
     ]
    }
   ],
   "source": [
    "def is_even_number(number)->bool:\n",
    "    if number %2==0:\n",
    "        return True\n",
    "    else:\n",
    "        return False\n",
    "\n",
    "check_number = is_even_number(5)\n",
    "print(check_number)"
   ]
  },
  {
   "cell_type": "markdown",
   "metadata": {},
   "source": [
    "### Question\n",
    "Write a function that accepts three values (Arguments) x,y,operation where x => int, operation => string (+, -, *, /)\n",
    "function should return output based on the operation that is if operation = +"
   ]
  },
  {
   "cell_type": "code",
   "execution_count": 19,
   "metadata": {},
   "outputs": [
    {
     "name": "stdout",
     "output_type": "stream",
     "text": [
      "division by zero\n",
      "None\n"
     ]
    }
   ],
   "source": [
    "def simpleCalculator(x:int, y:int, op:str):\n",
    "    if op == \"+\":\n",
    "        return x + y\n",
    "    elif op == \"-\":\n",
    "        return x - y\n",
    "    elif op == \"*\":\n",
    "        return x * y\n",
    "    elif op == \"/\":\n",
    "        try:\n",
    "            return x/y\n",
    "        except ZeroDivisionError as e:\n",
    "            print(e)\n",
    "            return None\n",
    "    else:\n",
    "        return \"The function does not have support given sign\"\n",
    "\n",
    "print(simpleCalculator(4, 0, \"/\"))"
   ]
  },
  {
   "cell_type": "markdown",
   "metadata": {},
   "source": [
    "### Lambda Function"
   ]
  },
  {
   "cell_type": "code",
   "execution_count": 20,
   "metadata": {},
   "outputs": [
    {
     "name": "stdout",
     "output_type": "stream",
     "text": [
      "12\n"
     ]
    }
   ],
   "source": [
    "area_of_rectangle = lambda x,y: 2 * (x*y)\n",
    "\n",
    "print(area_of_rectangle(2, 3))"
   ]
  },
  {
   "cell_type": "markdown",
   "metadata": {},
   "source": [
    "### Exercises(Day 2):\n",
    "\n",
    "- Write a function Swap Two numbers without using a temporary variable"
   ]
  },
  {
   "cell_type": "code",
   "execution_count": 23,
   "metadata": {},
   "outputs": [
    {
     "name": "stdout",
     "output_type": "stream",
     "text": [
      "(3, 2)\n"
     ]
    }
   ],
   "source": [
    "def swap(a:int,b:int):\n",
    "    a = a + b\n",
    "    b = a - b\n",
    "    a = a - b\n",
    "    return (a, b)\n",
    "\n",
    "print(swap(2, 3))"
   ]
  },
  {
   "cell_type": "markdown",
   "metadata": {},
   "source": [
    "- Write a function to determine if a string is a palindrome (palindrome is if we reverse it has same value)"
   ]
  },
  {
   "cell_type": "code",
   "execution_count": 33,
   "metadata": {},
   "outputs": [
    {
     "name": "stdout",
     "output_type": "stream",
     "text": [
      "vahsir\n",
      "vav\n",
      "True\n",
      "rar\n",
      "True\n"
     ]
    }
   ],
   "source": [
    "# we can do the reverse by text[::-1]\n",
    "text = \"rishav\"\n",
    "text_reversed = text[::-1]\n",
    "print(text_reversed)\n",
    "\n",
    "def palindrome_string(a:str):\n",
    "    if a == a[::-1]:\n",
    "        print(a[::-1])\n",
    "        return True\n",
    "    else:\n",
    "        return False\n",
    "\n",
    "print(palindrome_string(\"vav\"))\n",
    "\n",
    "# Task: do it with loop\n",
    "\n",
    "def loop_palindrome_string(a:str):\n",
    "    a_length = len(a)\n",
    "    reversed = \"\"\n",
    "    while a_length > 0:\n",
    "        reversed += a[a_length-1]\n",
    "        a_length = a_length - 1\n",
    "    print(reversed)\n",
    "    \n",
    "    if a == reversed:\n",
    "        return True\n",
    "    else:\n",
    "        return False\n",
    "    \n",
    "print(loop_palindrome_string(\"rar\"))"
   ]
  },
  {
   "cell_type": "markdown",
   "metadata": {},
   "source": [
    "-  Write a function to count the number of vowels in a given string"
   ]
  },
  {
   "cell_type": "code",
   "execution_count": 30,
   "metadata": {},
   "outputs": [
    {
     "name": "stdout",
     "output_type": "stream",
     "text": [
      "2\n"
     ]
    }
   ],
   "source": [
    "def vowel_counting(a:str):\n",
    "    vowels = [\"a\", \"e\", \"i\", \"o\", \"u\"]\n",
    "    count = 0\n",
    "    for i in a:\n",
    "        if i.lower() in vowels:\n",
    "            count += 1\n",
    "    return count\n",
    "\n",
    "print(vowel_counting(\"Rishav\"))"
   ]
  }
 ],
 "metadata": {
  "kernelspec": {
   "display_name": "base",
   "language": "python",
   "name": "python3"
  },
  "language_info": {
   "codemirror_mode": {
    "name": "ipython",
    "version": 3
   },
   "file_extension": ".py",
   "mimetype": "text/x-python",
   "name": "python",
   "nbconvert_exporter": "python",
   "pygments_lexer": "ipython3",
   "version": "3.12.7"
  }
 },
 "nbformat": 4,
 "nbformat_minor": 2
}
