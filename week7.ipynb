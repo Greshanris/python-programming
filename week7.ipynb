{
 "cells": [
  {
   "cell_type": "markdown",
   "metadata": {},
   "source": [
    "# Memoization/dynamic programming Example"
   ]
  },
  {
   "cell_type": "code",
   "execution_count": 5,
   "metadata": {},
   "outputs": [
    {
     "name": "stdout",
     "output_type": "stream",
     "text": [
      "55\n",
      "354224848179261915075\n"
     ]
    }
   ],
   "source": [
    "# define a fibonacci Function\n",
    "def fib_recursive(n): # time complexity\n",
    "    if n <= 1:\n",
    "        return n\n",
    "    return fib_recursive(n-1) + fib_recursive(n-2)\n",
    "\n",
    "fib_10 = fib_recursive(10) # we can't use this funciton to get the large number file number\n",
    "print(fib_10)\n",
    "\n",
    "memo = {0: 0, 1: 1}\n",
    "def fib_memo(n): # time complexity 0(n)\n",
    "    # Check if the result for \"n\" is already in the memo dictionary\n",
    "    if n in memo:\n",
    "        return memo[n]\n",
    "    \n",
    "    # Recursively case: calculate Fibonacci number for n\n",
    "    fib_number = fib_memo(n-1) + fib_memo(n-2)\n",
    "\n",
    "    # Store the result in the memo dictionary to avoid redundant calc\n",
    "    memo[n] = fib_number\n",
    "\n",
    "    return fib_number\n",
    "\n",
    "print(fib_memo(100))\n",
    "\n",
    "\n"
   ]
  },
  {
   "cell_type": "markdown",
   "metadata": {},
   "source": [
    "# Classwork problem"
   ]
  },
  {
   "cell_type": "code",
   "execution_count": 6,
   "metadata": {},
   "outputs": [
    {
     "name": "stdout",
     "output_type": "stream",
     "text": [
      "[1, 2, 4, 10]\n",
      "[1, 2, 10, 4]\n"
     ]
    }
   ],
   "source": [
    "numbers = [1, 1, 2, 2, 4, 10, 10]\n",
    "\n",
    "unique_numbers = []\n",
    "\n",
    "for n in numbers:\n",
    "    if not n in unique_numbers:\n",
    "        unique_numbers.append(n)\n",
    "\n",
    "print(unique_numbers)\n",
    "\n",
    "# using set method\n",
    "def remove_duplicate(n):\n",
    "    n = set(n)\n",
    "    n = list(n)\n",
    "    return n\n",
    "\n",
    "print(remove_duplicate(numbers))"
   ]
  },
  {
   "cell_type": "code",
   "execution_count": 9,
   "metadata": {},
   "outputs": [
    {
     "name": "stdout",
     "output_type": "stream",
     "text": [
      "True\n"
     ]
    }
   ],
   "source": [
    "def function(list, element):\n",
    "    # For better optimization\n",
    "    list = set(list)\n",
    "    if element in list:\n",
    "        return True\n",
    "    else:\n",
    "        return False\n",
    "    \n",
    "print(function([3,5,6,7,8], 3))"
   ]
  },
  {
   "cell_type": "markdown",
   "metadata": {},
   "source": [
    "## Data Structure Selection"
   ]
  },
  {
   "cell_type": "code",
   "execution_count": 11,
   "metadata": {},
   "outputs": [
    {
     "name": "stdout",
     "output_type": "stream",
     "text": [
      "[2, 3, 4]\n",
      "[2, 3, 4]\n"
     ]
    }
   ],
   "source": [
    "from collections import deque\n",
    "\n",
    "# Queue Implementation\n",
    "\n",
    "\n",
    "# Without optimizations: Using list (O(n)) for dequeing:\n",
    "queue = [1, 2, 3]\n",
    "queue.append(4) # Enqueue ()O(1))\n",
    "queue.pop(0) # Dequeue (O(b))\n",
    "print(queue)\n",
    "\n",
    "# Optimized: Using deque (O(1))\n",
    "queue_deque = deque([1, 2, 3]) # O(n) # complexity decreases\n",
    "queue_deque.append(4) # Enqueue (O(1))\n",
    "queue_deque.popleft() # Dequeue (O(1))\n",
    "\n",
    "print(queue)"
   ]
  },
  {
   "cell_type": "markdown",
   "metadata": {},
   "source": [
    "## Homework\n",
    "\n",
    "- Searching for Elements in a Collection (Use Dict)\n",
    "    - Write a function so that from a given list of length n, if an element exists on the list return True, else False\n",
    "- Queue-based Problems\n",
    "    - FIFO and LIFO (use **deque** from the **collection**)\n",
    "    - Task: Simulate "
   ]
  },
  {
   "cell_type": "markdown",
   "metadata": {},
   "source": [
    "## Code Profiling and Analysis\n",
    "### Command Line Profiling"
   ]
  },
  {
   "cell_type": "code",
   "execution_count": 13,
   "metadata": {},
   "outputs": [
    {
     "name": "stdout",
     "output_type": "stream",
     "text": [
      "9\n",
      "         5 function calls in 0.000 seconds\n",
      "\n",
      "   Ordered by: cumulative time\n",
      "\n",
      "   ncalls  tottime  percall  cumtime  percall filename:lineno(function)\n",
      "        1    0.000    0.000    0.000    0.000 {built-in method builtins.exec}\n",
      "        1    0.000    0.000    0.000    0.000 main.py:1(<module>)\n",
      "        1    0.000    0.000    0.000    0.000 {built-in method builtins.print}\n",
      "        1    0.000    0.000    0.000    0.000 {method 'disable' of '_lsprof.Profiler' objects}\n",
      "        1    0.000    0.000    0.000    0.000 main.py:1(add)\n",
      "\n",
      "\n"
     ]
    }
   ],
   "source": [
    "!python -m cProfile main.py"
   ]
  },
  {
   "cell_type": "code",
   "execution_count": 14,
   "metadata": {},
   "outputs": [
    {
     "name": "stdout",
     "output_type": "stream",
     "text": [
      "3628800\n"
     ]
    }
   ],
   "source": [
    "import math\n",
    "from collections import deque, Counter\n",
    "\n",
    "# Custom implementation\n",
    "def custom_sqrt(x):\n",
    "    return x ** 0.5\n",
    "\n",
    "# Optimized using math.sqrt()\n",
    "def optimized_sqrt(x):\n",
    "    return math.sqrt(x)\n",
    "\n",
    "# Custom factorial\n",
    "def custom_factorial(n):\n",
    "    result = 1\n",
    "    for i in range(1, n+1):\n",
    "        result *= i\n",
    "    return result\n",
    "\n",
    "# Optimized using math.factorial()\n",
    "print(math.factorial(10))\n",
    "\n",
    "# collection\n"
   ]
  },
  {
   "cell_type": "markdown",
   "metadata": {},
   "source": [
    "## Homework\n",
    "\n",
    "- Explore itertools for memory efficient iteration tasks\n",
    "\n",
    "### Profiling within the Script\n",
    "- LRU (least recently used)"
   ]
  },
  {
   "cell_type": "code",
   "execution_count": 15,
   "metadata": {},
   "outputs": [
    {
     "name": "stdout",
     "output_type": "stream",
     "text": [
      "12586269025\n"
     ]
    }
   ],
   "source": [
    "from functools import lru_cache\n",
    "\n",
    "@lru_cache(maxsize=None) # Cache all results\n",
    "def fibonacci(n):\n",
    "    if n < 2:\n",
    "        return n\n",
    "    return fibonacci(n - 1) + fibonacci(n - 2)\n",
    "\n",
    "print(fibonacci(50))"
   ]
  },
  {
   "cell_type": "markdown",
   "metadata": {},
   "source": [
    "## Reference Counting\n",
    "- In Python, reference counting is used to track how many references exist for each object in memory\n",
    "- The reference count is managed by by Python's memory management system.\n",
    "- **sys.getrefcount()**  to count the reference of an object"
   ]
  },
  {
   "cell_type": "code",
   "execution_count": 1,
   "metadata": {},
   "outputs": [
    {
     "name": "stdout",
     "output_type": "stream",
     "text": [
      "Reference count for 'a': 2\n",
      "Reference count for 'a' after assigning b = a: 3\n",
      "Reference count for 'b': 3\n",
      "Reference count for 'a' after assigning c = b: 4\n",
      "Reference count for 'b' after assigning c = b: 4\n",
      "Reference count for 'c': 4\n",
      "Reference count for 'a' after deleting 'b': 3\n",
      "Reference count for 'a' after deleting 'c': 2\n"
     ]
    }
   ],
   "source": [
    "import sys\n",
    "\n",
    "def reference_count_example():\n",
    "    a = []  \n",
    "    print(f\"Reference count for 'a': {sys.getrefcount(a)}\")\n",
    "\n",
    "    b = a  # 'b' references the same list object\n",
    "    print(f\"Reference count for 'a' after assigning b = a: {sys.getrefcount(a)}\")\n",
    "    print(f\"Reference count for 'b': {sys.getrefcount(b)}\")\n",
    "\n",
    "    c = b  # 'c' references the same list object\n",
    "    print(f\"Reference count for 'a' after assigning c = b: {sys.getrefcount(a)}\")\n",
    "    print(f\"Reference count for 'b' after assigning c = b: {sys.getrefcount(b)}\")\n",
    "    print(f\"Reference count for 'c': {sys.getrefcount(c)}\")\n",
    "\n",
    "    # Now, deleting the references\n",
    "    del b\n",
    "    print(f\"Reference count for 'a' after deleting 'b': {sys.getrefcount(a)}\")\n",
    "\n",
    "    del c\n",
    "    print(f\"Reference count for 'a' after deleting 'c': {sys.getrefcount(a)}\")\n",
    "\n",
    "reference_count_example()"
   ]
  },
  {
   "cell_type": "markdown",
   "metadata": {},
   "source": [
    "# Global Interpreter Lock (GIL)\n",
    "\n",
    "GIL limits multi-threaded performance in CPU-bound tasks"
   ]
  },
  {
   "cell_type": "code",
   "execution_count": 4,
   "metadata": {},
   "outputs": [
    {
     "name": "stdout",
     "output_type": "stream",
     "text": [
      "Running with Threads:\n",
      "Sum of squares up to 10000000: 333333283333335000000Sum of squares up to 10000000: 333333283333335000000\n",
      "\n",
      "Time taken (threads): 2.51 seconds\n",
      "\n",
      "Running Single-Threaded:\n",
      "Sum of squares up to 10000000: 333333283333335000000\n",
      "Sum of squares up to 10000000: 333333283333335000000\n",
      "Time taken (single thread): 2.48 seconds\n"
     ]
    }
   ],
   "source": [
    "import threading\n",
    "import time\n",
    "\n",
    "def sum_of_squares(n):\n",
    "    total = sum(i * i for i in range(n))\n",
    "    print(f\"Sum of squares up to {n}: {total}\")\n",
    "\n",
    "# Measure time for multi-threaded execution\n",
    "def threaded_execution():\n",
    "    threads = []\n",
    "    start_time = time.time()\n",
    "    # Create threads\n",
    "    for _ in range(2):\n",
    "        t = threading.Thread(target=sum_of_squares, args=(10_000_000,))\n",
    "        threads.append(t)\n",
    "        t.start()\n",
    "    \n",
    "    # Wait for all threads to complete\n",
    "    for t in threads:\n",
    "        t.join()\n",
    "\n",
    "    print(f\"Time taken (threads): {time.time() - start_time:.2f} seconds\")\n",
    "\n",
    "# Measure time for single-threaded execution\n",
    "def single_threaded_execution():\n",
    "    start_time = time.time()\n",
    "    sum_of_squares(10_000_000)\n",
    "    sum_of_squares(10_000_000)\n",
    "    print(f\"Time taken (single thread): {time.time() - start_time:.2f} seconds\")\n",
    "\n",
    "print(\"Running with Threads:\")\n",
    "threaded_execution()\n",
    "print(\"\\nRunning Single-Threaded:\")\n",
    "single_threaded_execution()"
   ]
  }
 ],
 "metadata": {
  "kernelspec": {
   "display_name": ".venv",
   "language": "python",
   "name": "python3"
  },
  "language_info": {
   "codemirror_mode": {
    "name": "ipython",
    "version": 3
   },
   "file_extension": ".py",
   "mimetype": "text/x-python",
   "name": "python",
   "nbconvert_exporter": "python",
   "pygments_lexer": "ipython3",
   "version": "3.12.6"
  }
 },
 "nbformat": 4,
 "nbformat_minor": 2
}
